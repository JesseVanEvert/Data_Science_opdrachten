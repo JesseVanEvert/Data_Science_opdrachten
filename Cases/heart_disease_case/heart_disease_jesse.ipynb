{
 "cells": [
  {
   "cell_type": "code",
   "execution_count": 47,
   "metadata": {},
   "outputs": [],
   "source": [
    "import pandas as pd\n",
    "import plotly.express as px"
   ]
  },
  {
   "cell_type": "markdown",
   "metadata": {
    "pycharm": {
     "name": "#%% md\n"
    }
   },
   "source": [
    "## API"
   ]
  },
  {
   "cell_type": "markdown",
   "metadata": {
    "pycharm": {
     "name": "#%% md\n"
    }
   },
   "source": [
    "###### Eerst moet kaggle worden geïnstalleerd met de command: pip install kaggle\n",
    "###### Daarna moet er een API token worden gedownload van kaggle; deze token moet je vervolgens naar de .kaggle map op je computer kopiëren.\n",
    "###### Vervolgens moet je de API importeren zoals hieronder."
   ]
  },
  {
   "cell_type": "code",
   "execution_count": 48,
   "metadata": {
    "pycharm": {
     "name": "#%%\n"
    }
   },
   "outputs": [],
   "source": [
    "from kaggle.api.kaggle_api_extended import KaggleApi"
   ]
  },
  {
   "cell_type": "markdown",
   "metadata": {
    "pycharm": {
     "name": "#%% md\n"
    }
   },
   "source": [
    "###### Nadat de API is geïmporteerd kennen we deze toe aan een variabele. Daarna voeren we authenticate() uit want je moet geauthenticeert zijn voordat je data kan binnenhalen."
   ]
  },
  {
   "cell_type": "code",
   "execution_count": 49,
   "metadata": {
    "pycharm": {
     "name": "#%%\n"
    }
   },
   "outputs": [],
   "source": [
    "api = KaggleApi()\n",
    "api.authenticate()"
   ]
  },
  {
   "cell_type": "markdown",
   "metadata": {
    "pycharm": {
     "name": "#%% md\n"
    }
   },
   "source": [
    "###### Na de voorstaande stappen te hebben uitgevoerd kunnen we een dataset downloaden via de API op de onderstaande manier."
   ]
  },
  {
   "cell_type": "code",
   "execution_count": 50,
   "metadata": {
    "pycharm": {
     "name": "#%%\n"
    }
   },
   "outputs": [
    {
     "data": {
      "text/plain": [
       "False"
      ]
     },
     "execution_count": 50,
     "metadata": {},
     "output_type": "execute_result"
    }
   ],
   "source": [
    "api.dataset_download_file('johnsmith88/heart-disease-dataset', file_name='heart.csv')"
   ]
  },
  {
   "cell_type": "markdown",
   "metadata": {
    "pycharm": {
     "name": "#%% md\n"
    }
   },
   "source": [
    "## Data verkenning"
   ]
  },
  {
   "cell_type": "code",
   "execution_count": 51,
   "metadata": {},
   "outputs": [],
   "source": [
    "heart_disease_df = pd.read_csv('heart.csv')"
   ]
  },
  {
   "cell_type": "code",
   "execution_count": 52,
   "metadata": {},
   "outputs": [
    {
     "data": {
      "text/html": [
       "<div>\n",
       "<style scoped>\n",
       "    .dataframe tbody tr th:only-of-type {\n",
       "        vertical-align: middle;\n",
       "    }\n",
       "\n",
       "    .dataframe tbody tr th {\n",
       "        vertical-align: top;\n",
       "    }\n",
       "\n",
       "    .dataframe thead th {\n",
       "        text-align: right;\n",
       "    }\n",
       "</style>\n",
       "<table border=\"1\" class=\"dataframe\">\n",
       "  <thead>\n",
       "    <tr style=\"text-align: right;\">\n",
       "      <th></th>\n",
       "      <th>age</th>\n",
       "      <th>sex</th>\n",
       "      <th>cp</th>\n",
       "      <th>trestbps</th>\n",
       "      <th>chol</th>\n",
       "      <th>fbs</th>\n",
       "      <th>restecg</th>\n",
       "      <th>thalach</th>\n",
       "      <th>exang</th>\n",
       "      <th>oldpeak</th>\n",
       "      <th>slope</th>\n",
       "      <th>ca</th>\n",
       "      <th>thal</th>\n",
       "      <th>target</th>\n",
       "    </tr>\n",
       "  </thead>\n",
       "  <tbody>\n",
       "    <tr>\n",
       "      <th>0</th>\n",
       "      <td>52</td>\n",
       "      <td>1</td>\n",
       "      <td>0</td>\n",
       "      <td>125</td>\n",
       "      <td>212</td>\n",
       "      <td>0</td>\n",
       "      <td>1</td>\n",
       "      <td>168</td>\n",
       "      <td>0</td>\n",
       "      <td>1.0</td>\n",
       "      <td>2</td>\n",
       "      <td>2</td>\n",
       "      <td>3</td>\n",
       "      <td>0</td>\n",
       "    </tr>\n",
       "    <tr>\n",
       "      <th>1</th>\n",
       "      <td>53</td>\n",
       "      <td>1</td>\n",
       "      <td>0</td>\n",
       "      <td>140</td>\n",
       "      <td>203</td>\n",
       "      <td>1</td>\n",
       "      <td>0</td>\n",
       "      <td>155</td>\n",
       "      <td>1</td>\n",
       "      <td>3.1</td>\n",
       "      <td>0</td>\n",
       "      <td>0</td>\n",
       "      <td>3</td>\n",
       "      <td>0</td>\n",
       "    </tr>\n",
       "    <tr>\n",
       "      <th>2</th>\n",
       "      <td>70</td>\n",
       "      <td>1</td>\n",
       "      <td>0</td>\n",
       "      <td>145</td>\n",
       "      <td>174</td>\n",
       "      <td>0</td>\n",
       "      <td>1</td>\n",
       "      <td>125</td>\n",
       "      <td>1</td>\n",
       "      <td>2.6</td>\n",
       "      <td>0</td>\n",
       "      <td>0</td>\n",
       "      <td>3</td>\n",
       "      <td>0</td>\n",
       "    </tr>\n",
       "    <tr>\n",
       "      <th>3</th>\n",
       "      <td>61</td>\n",
       "      <td>1</td>\n",
       "      <td>0</td>\n",
       "      <td>148</td>\n",
       "      <td>203</td>\n",
       "      <td>0</td>\n",
       "      <td>1</td>\n",
       "      <td>161</td>\n",
       "      <td>0</td>\n",
       "      <td>0.0</td>\n",
       "      <td>2</td>\n",
       "      <td>1</td>\n",
       "      <td>3</td>\n",
       "      <td>0</td>\n",
       "    </tr>\n",
       "    <tr>\n",
       "      <th>4</th>\n",
       "      <td>62</td>\n",
       "      <td>0</td>\n",
       "      <td>0</td>\n",
       "      <td>138</td>\n",
       "      <td>294</td>\n",
       "      <td>1</td>\n",
       "      <td>1</td>\n",
       "      <td>106</td>\n",
       "      <td>0</td>\n",
       "      <td>1.9</td>\n",
       "      <td>1</td>\n",
       "      <td>3</td>\n",
       "      <td>2</td>\n",
       "      <td>0</td>\n",
       "    </tr>\n",
       "  </tbody>\n",
       "</table>\n",
       "</div>"
      ],
      "text/plain": [
       "   age  sex  cp  trestbps  chol  fbs  restecg  thalach  exang  oldpeak  slope  \\\n",
       "0   52    1   0       125   212    0        1      168      0      1.0      2   \n",
       "1   53    1   0       140   203    1        0      155      1      3.1      0   \n",
       "2   70    1   0       145   174    0        1      125      1      2.6      0   \n",
       "3   61    1   0       148   203    0        1      161      0      0.0      2   \n",
       "4   62    0   0       138   294    1        1      106      0      1.9      1   \n",
       "\n",
       "   ca  thal  target  \n",
       "0   2     3       0  \n",
       "1   0     3       0  \n",
       "2   0     3       0  \n",
       "3   1     3       0  \n",
       "4   3     2       0  "
      ]
     },
     "execution_count": 52,
     "metadata": {},
     "output_type": "execute_result"
    }
   ],
   "source": [
    "heart_disease_df.head()"
   ]
  },
  {
   "cell_type": "code",
   "execution_count": 53,
   "metadata": {
    "pycharm": {
     "name": "#%%\n"
    }
   },
   "outputs": [
    {
     "data": {
      "text/html": [
       "<div>\n",
       "<style scoped>\n",
       "    .dataframe tbody tr th:only-of-type {\n",
       "        vertical-align: middle;\n",
       "    }\n",
       "\n",
       "    .dataframe tbody tr th {\n",
       "        vertical-align: top;\n",
       "    }\n",
       "\n",
       "    .dataframe thead th {\n",
       "        text-align: right;\n",
       "    }\n",
       "</style>\n",
       "<table border=\"1\" class=\"dataframe\">\n",
       "  <thead>\n",
       "    <tr style=\"text-align: right;\">\n",
       "      <th></th>\n",
       "      <th>age</th>\n",
       "      <th>sex</th>\n",
       "      <th>cp</th>\n",
       "      <th>trestbps</th>\n",
       "      <th>chol</th>\n",
       "      <th>fbs</th>\n",
       "      <th>restecg</th>\n",
       "      <th>thalach</th>\n",
       "      <th>exang</th>\n",
       "      <th>oldpeak</th>\n",
       "      <th>slope</th>\n",
       "      <th>ca</th>\n",
       "      <th>thal</th>\n",
       "      <th>target</th>\n",
       "    </tr>\n",
       "  </thead>\n",
       "  <tbody>\n",
       "    <tr>\n",
       "      <th>count</th>\n",
       "      <td>1025.000000</td>\n",
       "      <td>1025.000000</td>\n",
       "      <td>1025.000000</td>\n",
       "      <td>1025.000000</td>\n",
       "      <td>1025.00000</td>\n",
       "      <td>1025.000000</td>\n",
       "      <td>1025.000000</td>\n",
       "      <td>1025.000000</td>\n",
       "      <td>1025.000000</td>\n",
       "      <td>1025.000000</td>\n",
       "      <td>1025.000000</td>\n",
       "      <td>1025.000000</td>\n",
       "      <td>1025.000000</td>\n",
       "      <td>1025.000000</td>\n",
       "    </tr>\n",
       "    <tr>\n",
       "      <th>mean</th>\n",
       "      <td>54.434146</td>\n",
       "      <td>0.695610</td>\n",
       "      <td>0.942439</td>\n",
       "      <td>131.611707</td>\n",
       "      <td>246.00000</td>\n",
       "      <td>0.149268</td>\n",
       "      <td>0.529756</td>\n",
       "      <td>149.114146</td>\n",
       "      <td>0.336585</td>\n",
       "      <td>1.071512</td>\n",
       "      <td>1.385366</td>\n",
       "      <td>0.754146</td>\n",
       "      <td>2.323902</td>\n",
       "      <td>0.513171</td>\n",
       "    </tr>\n",
       "    <tr>\n",
       "      <th>std</th>\n",
       "      <td>9.072290</td>\n",
       "      <td>0.460373</td>\n",
       "      <td>1.029641</td>\n",
       "      <td>17.516718</td>\n",
       "      <td>51.59251</td>\n",
       "      <td>0.356527</td>\n",
       "      <td>0.527878</td>\n",
       "      <td>23.005724</td>\n",
       "      <td>0.472772</td>\n",
       "      <td>1.175053</td>\n",
       "      <td>0.617755</td>\n",
       "      <td>1.030798</td>\n",
       "      <td>0.620660</td>\n",
       "      <td>0.500070</td>\n",
       "    </tr>\n",
       "    <tr>\n",
       "      <th>min</th>\n",
       "      <td>29.000000</td>\n",
       "      <td>0.000000</td>\n",
       "      <td>0.000000</td>\n",
       "      <td>94.000000</td>\n",
       "      <td>126.00000</td>\n",
       "      <td>0.000000</td>\n",
       "      <td>0.000000</td>\n",
       "      <td>71.000000</td>\n",
       "      <td>0.000000</td>\n",
       "      <td>0.000000</td>\n",
       "      <td>0.000000</td>\n",
       "      <td>0.000000</td>\n",
       "      <td>0.000000</td>\n",
       "      <td>0.000000</td>\n",
       "    </tr>\n",
       "    <tr>\n",
       "      <th>25%</th>\n",
       "      <td>48.000000</td>\n",
       "      <td>0.000000</td>\n",
       "      <td>0.000000</td>\n",
       "      <td>120.000000</td>\n",
       "      <td>211.00000</td>\n",
       "      <td>0.000000</td>\n",
       "      <td>0.000000</td>\n",
       "      <td>132.000000</td>\n",
       "      <td>0.000000</td>\n",
       "      <td>0.000000</td>\n",
       "      <td>1.000000</td>\n",
       "      <td>0.000000</td>\n",
       "      <td>2.000000</td>\n",
       "      <td>0.000000</td>\n",
       "    </tr>\n",
       "    <tr>\n",
       "      <th>50%</th>\n",
       "      <td>56.000000</td>\n",
       "      <td>1.000000</td>\n",
       "      <td>1.000000</td>\n",
       "      <td>130.000000</td>\n",
       "      <td>240.00000</td>\n",
       "      <td>0.000000</td>\n",
       "      <td>1.000000</td>\n",
       "      <td>152.000000</td>\n",
       "      <td>0.000000</td>\n",
       "      <td>0.800000</td>\n",
       "      <td>1.000000</td>\n",
       "      <td>0.000000</td>\n",
       "      <td>2.000000</td>\n",
       "      <td>1.000000</td>\n",
       "    </tr>\n",
       "    <tr>\n",
       "      <th>75%</th>\n",
       "      <td>61.000000</td>\n",
       "      <td>1.000000</td>\n",
       "      <td>2.000000</td>\n",
       "      <td>140.000000</td>\n",
       "      <td>275.00000</td>\n",
       "      <td>0.000000</td>\n",
       "      <td>1.000000</td>\n",
       "      <td>166.000000</td>\n",
       "      <td>1.000000</td>\n",
       "      <td>1.800000</td>\n",
       "      <td>2.000000</td>\n",
       "      <td>1.000000</td>\n",
       "      <td>3.000000</td>\n",
       "      <td>1.000000</td>\n",
       "    </tr>\n",
       "    <tr>\n",
       "      <th>max</th>\n",
       "      <td>77.000000</td>\n",
       "      <td>1.000000</td>\n",
       "      <td>3.000000</td>\n",
       "      <td>200.000000</td>\n",
       "      <td>564.00000</td>\n",
       "      <td>1.000000</td>\n",
       "      <td>2.000000</td>\n",
       "      <td>202.000000</td>\n",
       "      <td>1.000000</td>\n",
       "      <td>6.200000</td>\n",
       "      <td>2.000000</td>\n",
       "      <td>4.000000</td>\n",
       "      <td>3.000000</td>\n",
       "      <td>1.000000</td>\n",
       "    </tr>\n",
       "  </tbody>\n",
       "</table>\n",
       "</div>"
      ],
      "text/plain": [
       "               age          sex           cp     trestbps        chol  \\\n",
       "count  1025.000000  1025.000000  1025.000000  1025.000000  1025.00000   \n",
       "mean     54.434146     0.695610     0.942439   131.611707   246.00000   \n",
       "std       9.072290     0.460373     1.029641    17.516718    51.59251   \n",
       "min      29.000000     0.000000     0.000000    94.000000   126.00000   \n",
       "25%      48.000000     0.000000     0.000000   120.000000   211.00000   \n",
       "50%      56.000000     1.000000     1.000000   130.000000   240.00000   \n",
       "75%      61.000000     1.000000     2.000000   140.000000   275.00000   \n",
       "max      77.000000     1.000000     3.000000   200.000000   564.00000   \n",
       "\n",
       "               fbs      restecg      thalach        exang      oldpeak  \\\n",
       "count  1025.000000  1025.000000  1025.000000  1025.000000  1025.000000   \n",
       "mean      0.149268     0.529756   149.114146     0.336585     1.071512   \n",
       "std       0.356527     0.527878    23.005724     0.472772     1.175053   \n",
       "min       0.000000     0.000000    71.000000     0.000000     0.000000   \n",
       "25%       0.000000     0.000000   132.000000     0.000000     0.000000   \n",
       "50%       0.000000     1.000000   152.000000     0.000000     0.800000   \n",
       "75%       0.000000     1.000000   166.000000     1.000000     1.800000   \n",
       "max       1.000000     2.000000   202.000000     1.000000     6.200000   \n",
       "\n",
       "             slope           ca         thal       target  \n",
       "count  1025.000000  1025.000000  1025.000000  1025.000000  \n",
       "mean      1.385366     0.754146     2.323902     0.513171  \n",
       "std       0.617755     1.030798     0.620660     0.500070  \n",
       "min       0.000000     0.000000     0.000000     0.000000  \n",
       "25%       1.000000     0.000000     2.000000     0.000000  \n",
       "50%       1.000000     0.000000     2.000000     1.000000  \n",
       "75%       2.000000     1.000000     3.000000     1.000000  \n",
       "max       2.000000     4.000000     3.000000     1.000000  "
      ]
     },
     "execution_count": 53,
     "metadata": {},
     "output_type": "execute_result"
    }
   ],
   "source": [
    "heart_disease_df.describe()"
   ]
  },
  {
   "cell_type": "markdown",
   "metadata": {},
   "source": [
    "age\n",
    "sex\n",
    "chest pain type (4 values)\n",
    "resting blood pressure\n",
    "serum cholestoral in mg/dl\n",
    "fasting blood sugar > 120 mg/dl\n",
    "resting electrocardiographic results (values 0,1,2)\n",
    "maximum heart rate achieved\n",
    "exercise induced angina\n",
    "oldpeak = ST depression induced by exercise relative to rest\n",
    "the slope of the peak exercise ST segment\n",
    "number of major vessels (0-3) colored by flourosopy\n",
    "thal: 0 = normal; 1 = fixed defect; 2 = reversable defect\n"
   ]
  },
  {
   "cell_type": "markdown",
   "metadata": {
    "pycharm": {
     "name": "#%% md\n"
    }
   },
   "source": [
    "## Analyse"
   ]
  },
  {
   "cell_type": "markdown",
   "metadata": {
    "pycharm": {
     "name": "#%% md\n"
    }
   },
   "source": [
    "### Slider"
   ]
  },
  {
   "cell_type": "code",
   "execution_count": 54,
   "metadata": {
    "pycharm": {
     "name": "#%%\n"
    }
   },
   "outputs": [
    {
     "name": "stderr",
     "output_type": "stream",
     "text": [
      "C:\\Users\\jesse\\anaconda3\\lib\\site-packages\\pandas\\core\\generic.py:5516: SettingWithCopyWarning:\n",
      "\n",
      "\n",
      "A value is trying to be set on a copy of a slice from a DataFrame.\n",
      "Try using .loc[row_indexer,col_indexer] = value instead\n",
      "\n",
      "See the caveats in the documentation: https://pandas.pydata.org/pandas-docs/stable/user_guide/indexing.html#returning-a-view-versus-a-copy\n",
      "\n"
     ]
    },
    {
     "data": {
      "application/vnd.plotly.v1+json": {
       "config": {
        "plotlyServerURL": "https://plot.ly"
       },
       "data": [
        {
         "hovertemplate": "<b>%{hovertext}</b><br><br>age=52<br>chol=%{x}<br>thalach=%{y}<br>sex=%{marker.color}<extra></extra>",
         "hovertext": [
          1,
          1,
          1,
          1,
          1,
          1,
          1,
          1,
          1,
          1,
          1,
          0,
          1,
          1,
          1,
          1,
          1,
          1,
          1,
          1,
          1,
          1,
          1,
          1,
          1,
          1,
          1,
          1,
          1,
          1,
          1,
          1,
          1,
          1,
          1,
          0,
          0,
          1,
          1,
          1,
          1,
          1,
          1
         ],
         "ids": [
          1,
          1,
          1,
          1,
          1,
          1,
          1,
          1,
          1,
          1,
          1,
          0,
          1,
          1,
          1,
          1,
          1,
          1,
          1,
          1,
          1,
          1,
          1,
          1,
          1,
          1,
          1,
          1,
          1,
          1,
          1,
          1,
          1,
          1,
          1,
          0,
          0,
          1,
          1,
          1,
          1,
          1,
          1
         ],
         "legendgroup": "",
         "marker": {
          "color": [
           1,
           1,
           1,
           1,
           1,
           1,
           1,
           1,
           1,
           1,
           1,
           0,
           1,
           1,
           1,
           1,
           1,
           1,
           1,
           1,
           1,
           1,
           1,
           1,
           1,
           1,
           1,
           1,
           1,
           1,
           1,
           1,
           1,
           1,
           1,
           0,
           0,
           1,
           1,
           1,
           1,
           1,
           1
          ],
          "coloraxis": "coloraxis",
          "symbol": "circle"
         },
         "mode": "markers",
         "name": "",
         "orientation": "v",
         "showlegend": false,
         "type": "scatter",
         "x": [
          212,
          204,
          201,
          201,
          186,
          223,
          298,
          298,
          205,
          223,
          325,
          196,
          199,
          186,
          223,
          205,
          230,
          186,
          325,
          298,
          212,
          212,
          204,
          233,
          230,
          204,
          255,
          230,
          199,
          255,
          255,
          230,
          212,
          204,
          201,
          196,
          196,
          233,
          325,
          199,
          186,
          205,
          233
         ],
         "xaxis": "x",
         "y": [
          168,
          156,
          158,
          158,
          190,
          169,
          178,
          178,
          184,
          169,
          172,
          169,
          162,
          190,
          169,
          184,
          160,
          190,
          172,
          178,
          168,
          168,
          156,
          147,
          160,
          156,
          161,
          160,
          162,
          161,
          161,
          160,
          168,
          156,
          158,
          169,
          169,
          147,
          172,
          162,
          190,
          184,
          147
         ],
         "yaxis": "y"
        }
       ],
       "frames": [
        {
         "data": [
          {
           "hovertemplate": "<b>%{hovertext}</b><br><br>age=52<br>chol=%{x}<br>thalach=%{y}<br>sex=%{marker.color}<extra></extra>",
           "hovertext": [
            1,
            1,
            1,
            1,
            1,
            1,
            1,
            1,
            1,
            1,
            1,
            0,
            1,
            1,
            1,
            1,
            1,
            1,
            1,
            1,
            1,
            1,
            1,
            1,
            1,
            1,
            1,
            1,
            1,
            1,
            1,
            1,
            1,
            1,
            1,
            0,
            0,
            1,
            1,
            1,
            1,
            1,
            1
           ],
           "ids": [
            1,
            1,
            1,
            1,
            1,
            1,
            1,
            1,
            1,
            1,
            1,
            0,
            1,
            1,
            1,
            1,
            1,
            1,
            1,
            1,
            1,
            1,
            1,
            1,
            1,
            1,
            1,
            1,
            1,
            1,
            1,
            1,
            1,
            1,
            1,
            0,
            0,
            1,
            1,
            1,
            1,
            1,
            1
           ],
           "legendgroup": "",
           "marker": {
            "color": [
             1,
             1,
             1,
             1,
             1,
             1,
             1,
             1,
             1,
             1,
             1,
             0,
             1,
             1,
             1,
             1,
             1,
             1,
             1,
             1,
             1,
             1,
             1,
             1,
             1,
             1,
             1,
             1,
             1,
             1,
             1,
             1,
             1,
             1,
             1,
             0,
             0,
             1,
             1,
             1,
             1,
             1,
             1
            ],
            "coloraxis": "coloraxis",
            "symbol": "circle"
           },
           "mode": "markers",
           "name": "",
           "orientation": "v",
           "showlegend": false,
           "type": "scatter",
           "x": [
            212,
            204,
            201,
            201,
            186,
            223,
            298,
            298,
            205,
            223,
            325,
            196,
            199,
            186,
            223,
            205,
            230,
            186,
            325,
            298,
            212,
            212,
            204,
            233,
            230,
            204,
            255,
            230,
            199,
            255,
            255,
            230,
            212,
            204,
            201,
            196,
            196,
            233,
            325,
            199,
            186,
            205,
            233
           ],
           "xaxis": "x",
           "y": [
            168,
            156,
            158,
            158,
            190,
            169,
            178,
            178,
            184,
            169,
            172,
            169,
            162,
            190,
            169,
            184,
            160,
            190,
            172,
            178,
            168,
            168,
            156,
            147,
            160,
            156,
            161,
            160,
            162,
            161,
            161,
            160,
            168,
            156,
            158,
            169,
            169,
            147,
            172,
            162,
            190,
            184,
            147
           ],
           "yaxis": "y"
          }
         ],
         "name": "52"
        },
        {
         "data": [
          {
           "hovertemplate": "<b>%{hovertext}</b><br><br>age=53<br>chol=%{x}<br>thalach=%{y}<br>sex=%{marker.color}<extra></extra>",
           "hovertext": [
            1,
            1,
            1,
            1,
            1,
            1,
            0,
            0,
            0,
            0,
            1,
            1,
            1,
            0,
            1,
            0,
            0,
            1,
            1,
            1,
            1,
            0,
            1,
            0,
            1,
            1
           ],
           "ids": [
            1,
            1,
            1,
            1,
            1,
            1,
            0,
            0,
            0,
            0,
            1,
            1,
            1,
            0,
            1,
            0,
            0,
            1,
            1,
            1,
            1,
            0,
            1,
            0,
            1,
            1
           ],
           "legendgroup": "",
           "marker": {
            "color": [
             1,
             1,
             1,
             1,
             1,
             1,
             0,
             0,
             0,
             0,
             1,
             1,
             1,
             0,
             1,
             0,
             0,
             1,
             1,
             1,
             1,
             0,
             1,
             0,
             1,
             1
            ],
            "coloraxis": "coloraxis",
            "symbol": "circle"
           },
           "mode": "markers",
           "name": "",
           "orientation": "v",
           "showlegend": false,
           "type": "scatter",
           "x": [
            203,
            197,
            282,
            226,
            197,
            282,
            216,
            264,
            216,
            216,
            246,
            246,
            246,
            234,
            197,
            234,
            264,
            203,
            282,
            226,
            203,
            234,
            226,
            264,
            203,
            282
           ],
           "xaxis": "x",
           "y": [
            155,
            152,
            95,
            111,
            152,
            95,
            115,
            143,
            115,
            115,
            173,
            173,
            173,
            160,
            152,
            160,
            143,
            155,
            95,
            111,
            155,
            160,
            111,
            143,
            155,
            95
           ],
           "yaxis": "y"
          }
         ],
         "name": "53"
        },
        {
         "data": [
          {
           "hovertemplate": "<b>%{hovertext}</b><br><br>age=70<br>chol=%{x}<br>thalach=%{y}<br>sex=%{marker.color}<extra></extra>",
           "hovertext": [
            1,
            1,
            1,
            1,
            1,
            1,
            1,
            1,
            1,
            1,
            1,
            1,
            1,
            1
           ],
           "ids": [
            1,
            1,
            1,
            1,
            1,
            1,
            1,
            1,
            1,
            1,
            1,
            1,
            1,
            1
           ],
           "legendgroup": "",
           "marker": {
            "color": [
             1,
             1,
             1,
             1,
             1,
             1,
             1,
             1,
             1,
             1,
             1,
             1,
             1,
             1
            ],
            "coloraxis": "coloraxis",
            "symbol": "circle"
           },
           "mode": "markers",
           "name": "",
           "orientation": "v",
           "showlegend": false,
           "type": "scatter",
           "x": [
            174,
            269,
            269,
            322,
            245,
            322,
            322,
            322,
            269,
            245,
            245,
            174,
            174,
            174
           ],
           "xaxis": "x",
           "y": [
            125,
            112,
            112,
            109,
            143,
            109,
            109,
            109,
            112,
            143,
            143,
            125,
            125,
            125
           ],
           "yaxis": "y"
          }
         ],
         "name": "70"
        },
        {
         "data": [
          {
           "hovertemplate": "<b>%{hovertext}</b><br><br>age=61<br>chol=%{x}<br>thalach=%{y}<br>sex=%{marker.color}<extra></extra>",
           "hovertext": [
            1,
            0,
            0,
            1,
            0,
            1,
            1,
            1,
            1,
            1,
            1,
            1,
            1,
            1,
            1,
            0,
            1,
            1,
            1,
            1,
            0,
            0,
            0,
            1,
            1,
            1,
            1,
            1,
            1,
            1,
            0
           ],
           "ids": [
            1,
            0,
            0,
            1,
            0,
            1,
            1,
            1,
            1,
            1,
            1,
            1,
            1,
            1,
            1,
            0,
            1,
            1,
            1,
            1,
            0,
            0,
            0,
            1,
            1,
            1,
            1,
            1,
            1,
            1,
            0
           ],
           "legendgroup": "",
           "marker": {
            "color": [
             1,
             0,
             0,
             1,
             0,
             1,
             1,
             1,
             1,
             1,
             1,
             1,
             1,
             1,
             1,
             0,
             1,
             1,
             1,
             1,
             0,
             0,
             0,
             1,
             1,
             1,
             1,
             1,
             1,
             1,
             0
            ],
            "coloraxis": "coloraxis",
            "symbol": "circle"
           },
           "mode": "markers",
           "name": "",
           "orientation": "v",
           "showlegend": false,
           "type": "scatter",
           "x": [
            203,
            307,
            330,
            207,
            307,
            260,
            234,
            243,
            260,
            207,
            243,
            243,
            260,
            203,
            203,
            307,
            203,
            234,
            166,
            166,
            330,
            330,
            307,
            234,
            207,
            166,
            166,
            207,
            260,
            234,
            330
           ],
           "xaxis": "x",
           "y": [
            161,
            146,
            169,
            138,
            146,
            140,
            145,
            137,
            140,
            138,
            137,
            137,
            140,
            161,
            161,
            146,
            161,
            145,
            125,
            125,
            169,
            169,
            146,
            145,
            138,
            125,
            125,
            138,
            140,
            145,
            169
           ],
           "yaxis": "y"
          }
         ],
         "name": "61"
        },
        {
         "data": [
          {
           "hovertemplate": "<b>%{hovertext}</b><br><br>age=62<br>chol=%{x}<br>thalach=%{y}<br>sex=%{marker.color}<extra></extra>",
           "hovertext": [
            0,
            0,
            0,
            0,
            1,
            1,
            0,
            1,
            0,
            0,
            1,
            0,
            1,
            0,
            0,
            0,
            1,
            0,
            0,
            0,
            0,
            0,
            0,
            1,
            0,
            0,
            1,
            1,
            0,
            1,
            0,
            0,
            0,
            1,
            0,
            1,
            1
           ],
           "ids": [
            0,
            0,
            0,
            0,
            1,
            1,
            0,
            1,
            0,
            0,
            1,
            0,
            1,
            0,
            0,
            0,
            1,
            0,
            0,
            0,
            0,
            0,
            0,
            1,
            0,
            0,
            1,
            1,
            0,
            1,
            0,
            0,
            0,
            1,
            0,
            1,
            1
           ],
           "legendgroup": "",
           "marker": {
            "color": [
             0,
             0,
             0,
             0,
             1,
             1,
             0,
             1,
             0,
             0,
             1,
             0,
             1,
             0,
             0,
             0,
             1,
             0,
             0,
             0,
             0,
             0,
             0,
             1,
             0,
             0,
             1,
             1,
             0,
             1,
             0,
             0,
             0,
             1,
             0,
             1,
             1
            ],
            "coloraxis": "coloraxis",
            "symbol": "circle"
           },
           "mode": "markers",
           "name": "",
           "orientation": "v",
           "showlegend": false,
           "type": "scatter",
           "x": [
            294,
            164,
            268,
            209,
            208,
            281,
            209,
            281,
            244,
            394,
            267,
            263,
            231,
            164,
            209,
            244,
            281,
            164,
            209,
            394,
            394,
            263,
            294,
            267,
            244,
            294,
            281,
            208,
            268,
            208,
            268,
            263,
            268,
            267,
            263,
            231,
            231
           ],
           "xaxis": "x",
           "y": [
            106,
            145,
            160,
            163,
            140,
            103,
            163,
            103,
            154,
            157,
            99,
            97,
            146,
            145,
            163,
            154,
            103,
            145,
            163,
            157,
            157,
            97,
            106,
            99,
            154,
            106,
            103,
            140,
            160,
            140,
            160,
            97,
            160,
            99,
            97,
            146,
            146
           ],
           "yaxis": "y"
          }
         ],
         "name": "62"
        },
        {
         "data": [
          {
           "hovertemplate": "<b>%{hovertext}</b><br><br>age=58<br>chol=%{x}<br>thalach=%{y}<br>sex=%{marker.color}<extra></extra>",
           "hovertext": [
            0,
            1,
            1,
            0,
            0,
            1,
            0,
            1,
            1,
            1,
            1,
            0,
            1,
            1,
            0,
            1,
            1,
            1,
            1,
            1,
            1,
            1,
            1,
            1,
            0,
            1,
            1,
            0,
            1,
            0,
            1,
            1,
            1,
            1,
            1,
            0,
            1,
            1,
            0,
            0,
            1,
            0,
            0,
            1,
            0,
            1,
            1,
            1,
            1,
            1,
            1,
            1,
            0,
            1,
            0,
            1,
            0,
            1,
            1,
            0,
            1,
            0,
            1,
            0,
            1,
            1,
            1,
            1
           ],
           "ids": [
            0,
            1,
            1,
            0,
            0,
            1,
            0,
            1,
            1,
            1,
            1,
            0,
            1,
            1,
            0,
            1,
            1,
            1,
            1,
            1,
            1,
            1,
            1,
            1,
            0,
            1,
            1,
            0,
            1,
            0,
            1,
            1,
            1,
            1,
            1,
            0,
            1,
            1,
            0,
            0,
            1,
            0,
            0,
            1,
            0,
            1,
            1,
            1,
            1,
            1,
            1,
            1,
            0,
            1,
            0,
            1,
            0,
            1,
            1,
            0,
            1,
            0,
            1,
            0,
            1,
            1,
            1,
            1
           ],
           "legendgroup": "",
           "marker": {
            "color": [
             0,
             1,
             1,
             0,
             0,
             1,
             0,
             1,
             1,
             1,
             1,
             0,
             1,
             1,
             0,
             1,
             1,
             1,
             1,
             1,
             1,
             1,
             1,
             1,
             0,
             1,
             1,
             0,
             1,
             0,
             1,
             1,
             1,
             1,
             1,
             0,
             1,
             1,
             0,
             0,
             1,
             0,
             0,
             1,
             0,
             1,
             1,
             1,
             1,
             1,
             1,
             1,
             0,
             1,
             0,
             1,
             0,
             1,
             1,
             0,
             1,
             0,
             1,
             0,
             1,
             1,
             1,
             1
            ],
            "coloraxis": "coloraxis",
            "symbol": "circle"
           },
           "mode": "markers",
           "name": "",
           "orientation": "v",
           "showlegend": false,
           "type": "scatter",
           "x": [
            248,
            318,
            211,
            319,
            283,
            211,
            225,
            318,
            300,
            234,
            300,
            225,
            224,
            224,
            340,
            259,
            270,
            270,
            230,
            240,
            284,
            218,
            224,
            270,
            319,
            211,
            234,
            319,
            284,
            197,
            216,
            220,
            230,
            259,
            234,
            197,
            218,
            284,
            340,
            225,
            224,
            340,
            197,
            318,
            248,
            234,
            300,
            240,
            216,
            300,
            220,
            220,
            283,
            218,
            197,
            240,
            225,
            220,
            230,
            283,
            284,
            319,
            218,
            248,
            259,
            211,
            318,
            216
           ],
           "xaxis": "x",
           "y": [
            122,
            140,
            165,
            152,
            162,
            165,
            146,
            140,
            171,
            156,
            171,
            146,
            173,
            173,
            172,
            130,
            111,
            111,
            165,
            154,
            160,
            105,
            173,
            111,
            152,
            165,
            156,
            152,
            160,
            131,
            131,
            144,
            165,
            130,
            156,
            131,
            105,
            160,
            172,
            146,
            173,
            172,
            131,
            140,
            122,
            156,
            171,
            154,
            131,
            171,
            144,
            144,
            162,
            105,
            131,
            154,
            146,
            144,
            165,
            162,
            160,
            152,
            105,
            122,
            130,
            165,
            140,
            131
           ],
           "yaxis": "y"
          }
         ],
         "name": "58"
        },
        {
         "data": [
          {
           "hovertemplate": "<b>%{hovertext}</b><br><br>age=55<br>chol=%{x}<br>thalach=%{y}<br>sex=%{marker.color}<extra></extra>",
           "hovertext": [
            1,
            0,
            0,
            1,
            1,
            0,
            1,
            0,
            1,
            0,
            1,
            1,
            1,
            0,
            1,
            1,
            0,
            0,
            1,
            0,
            0,
            0,
            0,
            1,
            1,
            1,
            0,
            1,
            0,
            0
           ],
           "ids": [
            1,
            0,
            0,
            1,
            1,
            0,
            1,
            0,
            1,
            0,
            1,
            1,
            1,
            0,
            1,
            1,
            0,
            0,
            1,
            0,
            0,
            0,
            0,
            1,
            1,
            1,
            0,
            1,
            0,
            0
           ],
           "legendgroup": "",
           "marker": {
            "color": [
             1,
             0,
             0,
             1,
             1,
             0,
             1,
             0,
             1,
             0,
             1,
             1,
             1,
             0,
             1,
             1,
             0,
             0,
             1,
             0,
             0,
             0,
             0,
             1,
             1,
             1,
             0,
             1,
             0,
             0
            ],
            "coloraxis": "coloraxis",
            "symbol": "circle"
           },
           "mode": "markers",
           "name": "",
           "orientation": "v",
           "showlegend": false,
           "type": "scatter",
           "x": [
            289,
            327,
            342,
            217,
            217,
            342,
            353,
            342,
            289,
            342,
            353,
            289,
            353,
            327,
            262,
            353,
            327,
            205,
            217,
            250,
            205,
            250,
            250,
            262,
            289,
            217,
            205,
            262,
            327,
            205
           ],
           "xaxis": "x",
           "y": [
            145,
            117,
            166,
            111,
            111,
            166,
            132,
            166,
            145,
            166,
            132,
            145,
            132,
            117,
            155,
            132,
            117,
            130,
            111,
            161,
            130,
            161,
            161,
            155,
            145,
            111,
            130,
            155,
            117,
            130
           ],
           "yaxis": "y"
          }
         ],
         "name": "55"
        },
        {
         "data": [
          {
           "hovertemplate": "<b>%{hovertext}</b><br><br>age=46<br>chol=%{x}<br>thalach=%{y}<br>sex=%{marker.color}<extra></extra>",
           "hovertext": [
            1,
            1,
            1,
            1,
            1,
            1,
            0,
            0,
            0,
            0,
            0,
            1,
            0,
            0,
            1,
            1,
            1,
            0,
            1,
            0,
            1,
            1,
            1
           ],
           "ids": [
            1,
            1,
            1,
            1,
            1,
            1,
            0,
            0,
            0,
            0,
            0,
            1,
            0,
            0,
            1,
            1,
            1,
            0,
            1,
            0,
            1,
            1,
            1
           ],
           "legendgroup": "",
           "marker": {
            "color": [
             1,
             1,
             1,
             1,
             1,
             1,
             0,
             0,
             0,
             0,
             0,
             1,
             0,
             0,
             1,
             1,
             1,
             0,
             1,
             0,
             1,
             1,
             1
            ],
            "coloraxis": "coloraxis",
            "symbol": "circle"
           },
           "mode": "markers",
           "name": "",
           "orientation": "v",
           "showlegend": false,
           "type": "scatter",
           "x": [
            249,
            231,
            249,
            231,
            311,
            311,
            204,
            243,
            177,
            204,
            243,
            231,
            177,
            177,
            249,
            197,
            311,
            243,
            311,
            204,
            197,
            197,
            249
           ],
           "xaxis": "x",
           "y": [
            144,
            147,
            144,
            147,
            120,
            120,
            172,
            152,
            160,
            172,
            152,
            147,
            160,
            160,
            144,
            156,
            120,
            152,
            120,
            172,
            156,
            156,
            144
           ],
           "yaxis": "y"
          }
         ],
         "name": "46"
        },
        {
         "data": [
          {
           "hovertemplate": "<b>%{hovertext}</b><br><br>age=54<br>chol=%{x}<br>thalach=%{y}<br>sex=%{marker.color}<extra></extra>",
           "hovertext": [
            1,
            1,
            1,
            0,
            1,
            1,
            1,
            1,
            1,
            1,
            1,
            1,
            1,
            1,
            1,
            0,
            1,
            1,
            1,
            1,
            0,
            1,
            0,
            0,
            1,
            0,
            0,
            1,
            0,
            1,
            0,
            1,
            1,
            0,
            0,
            1,
            1,
            0,
            1,
            1,
            1,
            0,
            1,
            1,
            1,
            1,
            1,
            1,
            1,
            0,
            0,
            1,
            1
           ],
           "ids": [
            1,
            1,
            1,
            0,
            1,
            1,
            1,
            1,
            1,
            1,
            1,
            1,
            1,
            1,
            1,
            0,
            1,
            1,
            1,
            1,
            0,
            1,
            0,
            0,
            1,
            0,
            0,
            1,
            0,
            1,
            0,
            1,
            1,
            0,
            0,
            1,
            1,
            0,
            1,
            1,
            1,
            0,
            1,
            1,
            1,
            1,
            1,
            1,
            1,
            0,
            0,
            1,
            1
           ],
           "legendgroup": "",
           "marker": {
            "color": [
             1,
             1,
             1,
             0,
             1,
             1,
             1,
             1,
             1,
             1,
             1,
             1,
             1,
             1,
             1,
             0,
             1,
             1,
             1,
             1,
             0,
             1,
             0,
             0,
             1,
             0,
             0,
             1,
             0,
             1,
             0,
             1,
             1,
             0,
             0,
             1,
             1,
             0,
             1,
             1,
             1,
             0,
             1,
             1,
             1,
             1,
             1,
             1,
             1,
             0,
             0,
             1,
             1
            ],
            "coloraxis": "coloraxis",
            "symbol": "circle"
           },
           "mode": "markers",
           "name": "",
           "orientation": "v",
           "showlegend": false,
           "type": "scatter",
           "x": [
            286,
            266,
            258,
            267,
            309,
            206,
            309,
            309,
            283,
            258,
            309,
            258,
            239,
            286,
            232,
            288,
            283,
            232,
            206,
            283,
            214,
            273,
            267,
            214,
            273,
            201,
            288,
            239,
            288,
            206,
            267,
            273,
            286,
            201,
            304,
            286,
            258,
            304,
            232,
            239,
            239,
            214,
            239,
            266,
            188,
            239,
            239,
            206,
            266,
            201,
            304,
            188,
            188
           ],
           "xaxis": "x",
           "y": [
            116,
            109,
            147,
            167,
            156,
            108,
            156,
            156,
            195,
            147,
            156,
            147,
            126,
            116,
            165,
            159,
            195,
            165,
            108,
            195,
            158,
            152,
            167,
            158,
            152,
            163,
            159,
            160,
            159,
            108,
            167,
            152,
            116,
            163,
            170,
            116,
            147,
            170,
            165,
            126,
            126,
            158,
            160,
            109,
            113,
            126,
            160,
            108,
            109,
            163,
            170,
            113,
            113
           ],
           "yaxis": "y"
          }
         ],
         "name": "54"
        },
        {
         "data": [
          {
           "hovertemplate": "<b>%{hovertext}</b><br><br>age=71<br>chol=%{x}<br>thalach=%{y}<br>sex=%{marker.color}<extra></extra>",
           "hovertext": [
            0,
            0,
            0,
            0,
            0,
            0,
            0,
            0,
            0,
            0,
            0
           ],
           "ids": [
            0,
            0,
            0,
            0,
            0,
            0,
            0,
            0,
            0,
            0,
            0
           ],
           "legendgroup": "",
           "marker": {
            "color": [
             0,
             0,
             0,
             0,
             0,
             0,
             0,
             0,
             0,
             0,
             0
            ],
            "coloraxis": "coloraxis",
            "symbol": "circle"
           },
           "mode": "markers",
           "name": "",
           "orientation": "v",
           "showlegend": false,
           "type": "scatter",
           "x": [
            149,
            265,
            265,
            302,
            149,
            149,
            265,
            149,
            302,
            265,
            302
           ],
           "xaxis": "x",
           "y": [
            125,
            130,
            130,
            162,
            125,
            125,
            130,
            125,
            162,
            130,
            162
           ],
           "yaxis": "y"
          }
         ],
         "name": "71"
        },
        {
         "data": [
          {
           "hovertemplate": "<b>%{hovertext}</b><br><br>age=43<br>chol=%{x}<br>thalach=%{y}<br>sex=%{marker.color}<extra></extra>",
           "hovertext": [
            0,
            0,
            1,
            1,
            1,
            1,
            1,
            1,
            0,
            0,
            1,
            1,
            1,
            1,
            0,
            1,
            1,
            0,
            1,
            1,
            1,
            1,
            0,
            1,
            1,
            1
           ],
           "ids": [
            0,
            0,
            1,
            1,
            1,
            1,
            1,
            1,
            0,
            0,
            1,
            1,
            1,
            1,
            0,
            1,
            1,
            0,
            1,
            1,
            1,
            1,
            0,
            1,
            1,
            1
           ],
           "legendgroup": "",
           "marker": {
            "color": [
             0,
             0,
             1,
             1,
             1,
             1,
             1,
             1,
             0,
             0,
             1,
             1,
             1,
             1,
             0,
             1,
             1,
             0,
             1,
             1,
             1,
             1,
             0,
             1,
             1,
             1
            ],
            "coloraxis": "coloraxis",
            "symbol": "circle"
           },
           "mode": "markers",
           "name": "",
           "orientation": "v",
           "showlegend": false,
           "type": "scatter",
           "x": [
            341,
            213,
            177,
            315,
            247,
            315,
            211,
            247,
            213,
            341,
            247,
            247,
            211,
            177,
            341,
            247,
            177,
            341,
            303,
            177,
            303,
            303,
            213,
            315,
            211,
            247
           ],
           "xaxis": "x",
           "y": [
            136,
            165,
            120,
            162,
            171,
            162,
            161,
            143,
            165,
            136,
            143,
            171,
            161,
            120,
            136,
            171,
            120,
            136,
            181,
            120,
            181,
            181,
            165,
            162,
            161,
            143
           ],
           "yaxis": "y"
          }
         ],
         "name": "43"
        },
        {
         "data": [
          {
           "hovertemplate": "<b>%{hovertext}</b><br><br>age=34<br>chol=%{x}<br>thalach=%{y}<br>sex=%{marker.color}<extra></extra>",
           "hovertext": [
            0,
            0,
            1,
            1,
            1,
            0
           ],
           "ids": [
            0,
            0,
            1,
            1,
            1,
            0
           ],
           "legendgroup": "",
           "marker": {
            "color": [
             0,
             0,
             1,
             1,
             1,
             0
            ],
            "coloraxis": "coloraxis",
            "symbol": "circle"
           },
           "mode": "markers",
           "name": "",
           "orientation": "v",
           "showlegend": false,
           "type": "scatter",
           "x": [
            210,
            210,
            182,
            182,
            182,
            210
           ],
           "xaxis": "x",
           "y": [
            192,
            192,
            174,
            174,
            174,
            192
           ],
           "yaxis": "y"
          }
         ],
         "name": "34"
        },
        {
         "data": [
          {
           "hovertemplate": "<b>%{hovertext}</b><br><br>age=51<br>chol=%{x}<br>thalach=%{y}<br>sex=%{marker.color}<extra></extra>",
           "hovertext": [
            1,
            0,
            1,
            1,
            0,
            0,
            1,
            1,
            1,
            1,
            1,
            1,
            1,
            0,
            0,
            1,
            0,
            1,
            1,
            0,
            0,
            0,
            1,
            1,
            1,
            1,
            0,
            1,
            1,
            1,
            1,
            1,
            1,
            1,
            1,
            0,
            1,
            0,
            1
           ],
           "ids": [
            1,
            0,
            1,
            1,
            0,
            0,
            1,
            1,
            1,
            1,
            1,
            1,
            1,
            0,
            0,
            1,
            0,
            1,
            1,
            0,
            0,
            0,
            1,
            1,
            1,
            1,
            0,
            1,
            1,
            1,
            1,
            1,
            1,
            1,
            1,
            0,
            1,
            0,
            1
           ],
           "legendgroup": "",
           "marker": {
            "color": [
             1,
             0,
             1,
             1,
             0,
             0,
             1,
             1,
             1,
             1,
             1,
             1,
             1,
             0,
             0,
             1,
             0,
             1,
             1,
             0,
             0,
             0,
             1,
             1,
             1,
             1,
             0,
             1,
             1,
             1,
             1,
             1,
             1,
             1,
             1,
             0,
             1,
             0,
             1
            ],
            "coloraxis": "coloraxis",
            "symbol": "circle"
           },
           "mode": "markers",
           "name": "",
           "orientation": "v",
           "showlegend": false,
           "type": "scatter",
           "x": [
            298,
            308,
            213,
            299,
            256,
            295,
            222,
            261,
            245,
            227,
            175,
            175,
            175,
            305,
            295,
            261,
            305,
            298,
            245,
            256,
            295,
            305,
            227,
            213,
            227,
            222,
            256,
            222,
            298,
            227,
            222,
            213,
            261,
            299,
            299,
            308,
            245,
            308,
            299
           ],
           "xaxis": "x",
           "y": [
            122,
            142,
            125,
            173,
            149,
            157,
            143,
            186,
            166,
            154,
            123,
            123,
            123,
            142,
            157,
            186,
            142,
            122,
            166,
            149,
            157,
            142,
            154,
            125,
            154,
            143,
            149,
            143,
            122,
            154,
            143,
            125,
            186,
            173,
            173,
            142,
            166,
            142,
            173
           ],
           "yaxis": "y"
          }
         ],
         "name": "51"
        },
        {
         "data": [
          {
           "hovertemplate": "<b>%{hovertext}</b><br><br>age=50<br>chol=%{x}<br>thalach=%{y}<br>sex=%{marker.color}<extra></extra>",
           "hovertext": [
            0,
            0,
            1,
            1,
            1,
            1,
            1,
            1,
            1,
            0,
            0,
            0,
            1,
            0,
            1,
            0,
            1,
            1,
            1,
            0,
            0
           ],
           "ids": [
            0,
            0,
            1,
            1,
            1,
            1,
            1,
            1,
            1,
            0,
            0,
            0,
            1,
            0,
            1,
            0,
            1,
            1,
            1,
            0,
            0
           ],
           "legendgroup": "",
           "marker": {
            "color": [
             0,
             0,
             1,
             1,
             1,
             1,
             1,
             1,
             1,
             0,
             0,
             0,
             1,
             0,
             1,
             0,
             1,
             1,
             1,
             0,
             0
            ],
            "coloraxis": "coloraxis",
            "symbol": "circle"
           },
           "mode": "markers",
           "name": "",
           "orientation": "v",
           "showlegend": false,
           "type": "scatter",
           "x": [
            244,
            244,
            196,
            233,
            196,
            200,
            243,
            243,
            200,
            219,
            254,
            219,
            243,
            219,
            196,
            244,
            200,
            233,
            233,
            254,
            254
           ],
           "xaxis": "x",
           "y": [
            162,
            162,
            163,
            163,
            163,
            126,
            128,
            128,
            126,
            158,
            159,
            158,
            128,
            158,
            163,
            162,
            126,
            163,
            163,
            159,
            159
           ],
           "yaxis": "y"
          }
         ],
         "name": "50"
        },
        {
         "data": [
          {
           "hovertemplate": "<b>%{hovertext}</b><br><br>age=60<br>chol=%{x}<br>thalach=%{y}<br>sex=%{marker.color}<extra></extra>",
           "hovertext": [
            1,
            1,
            1,
            0,
            0,
            1,
            0,
            1,
            1,
            1,
            1,
            1,
            1,
            0,
            1,
            0,
            1,
            0,
            1,
            1,
            1,
            1,
            0,
            0,
            0,
            1,
            0,
            1,
            1,
            0,
            1,
            0,
            1,
            0,
            1,
            1,
            1
           ],
           "ids": [
            1,
            1,
            1,
            0,
            0,
            1,
            0,
            1,
            1,
            1,
            1,
            1,
            1,
            0,
            1,
            0,
            1,
            0,
            1,
            1,
            1,
            1,
            0,
            0,
            0,
            1,
            0,
            1,
            1,
            0,
            1,
            0,
            1,
            0,
            1,
            1,
            1
           ],
           "legendgroup": "",
           "marker": {
            "color": [
             1,
             1,
             1,
             0,
             0,
             1,
             0,
             1,
             1,
             1,
             1,
             1,
             1,
             0,
             1,
             0,
             1,
             0,
             1,
             1,
             1,
             1,
             0,
             0,
             0,
             1,
             0,
             1,
             1,
             0,
             1,
             0,
             1,
             0,
             1,
             1,
             1
            ],
            "coloraxis": "coloraxis",
            "symbol": "circle"
           },
           "mode": "markers",
           "name": "",
           "orientation": "v",
           "showlegend": false,
           "type": "scatter",
           "x": [
            185,
            230,
            282,
            240,
            240,
            293,
            318,
            258,
            230,
            185,
            282,
            206,
            253,
            318,
            293,
            240,
            206,
            258,
            282,
            258,
            253,
            185,
            178,
            258,
            318,
            230,
            178,
            253,
            293,
            240,
            206,
            258,
            206,
            178,
            293,
            230,
            258
           ],
           "xaxis": "x",
           "y": [
            155,
            160,
            142,
            171,
            171,
            170,
            160,
            141,
            160,
            155,
            142,
            132,
            144,
            160,
            170,
            171,
            132,
            157,
            142,
            141,
            144,
            155,
            96,
            157,
            160,
            160,
            96,
            144,
            170,
            171,
            132,
            157,
            132,
            96,
            170,
            160,
            141
           ],
           "yaxis": "y"
          }
         ],
         "name": "60"
        },
        {
         "data": [
          {
           "hovertemplate": "<b>%{hovertext}</b><br><br>age=67<br>chol=%{x}<br>thalach=%{y}<br>sex=%{marker.color}<extra></extra>",
           "hovertext": [
            0,
            1,
            1,
            0,
            0,
            1,
            1,
            1,
            1,
            1,
            1,
            1,
            1,
            1,
            1,
            0,
            1,
            0,
            0,
            1,
            1,
            1,
            0,
            1,
            1,
            1,
            1,
            0,
            1,
            0,
            1
           ],
           "ids": [
            0,
            1,
            1,
            0,
            0,
            1,
            1,
            1,
            1,
            1,
            1,
            1,
            1,
            1,
            1,
            0,
            1,
            0,
            0,
            1,
            1,
            1,
            0,
            1,
            1,
            1,
            1,
            0,
            1,
            0,
            1
           ],
           "legendgroup": "",
           "marker": {
            "color": [
             0,
             1,
             1,
             0,
             0,
             1,
             1,
             1,
             1,
             1,
             1,
             1,
             1,
             1,
             1,
             0,
             1,
             0,
             0,
             1,
             1,
             1,
             0,
             1,
             1,
             1,
             1,
             0,
             1,
             0,
             1
            ],
            "coloraxis": "coloraxis",
            "symbol": "circle"
           },
           "mode": "markers",
           "name": "",
           "orientation": "v",
           "showlegend": false,
           "type": "scatter",
           "x": [
            223,
            212,
            299,
            564,
            564,
            286,
            299,
            212,
            237,
            299,
            237,
            286,
            237,
            212,
            229,
            564,
            286,
            277,
            223,
            254,
            237,
            212,
            277,
            229,
            254,
            229,
            229,
            277,
            286,
            223,
            254
           ],
           "xaxis": "x",
           "y": [
            142,
            150,
            125,
            160,
            160,
            108,
            125,
            150,
            71,
            125,
            71,
            108,
            71,
            150,
            129,
            160,
            108,
            172,
            142,
            163,
            71,
            150,
            172,
            129,
            163,
            129,
            129,
            172,
            108,
            142,
            163
           ],
           "yaxis": "y"
          }
         ],
         "name": "67"
        },
        {
         "data": [
          {
           "hovertemplate": "<b>%{hovertext}</b><br><br>age=45<br>chol=%{x}<br>thalach=%{y}<br>sex=%{marker.color}<extra></extra>",
           "hovertext": [
            1,
            0,
            0,
            1,
            1,
            1,
            0,
            1,
            0,
            1,
            1,
            1,
            0,
            1,
            0,
            0,
            1,
            0,
            1,
            0,
            1,
            1,
            0,
            1,
            1
           ],
           "ids": [
            1,
            0,
            0,
            1,
            1,
            1,
            0,
            1,
            0,
            1,
            1,
            1,
            0,
            1,
            0,
            0,
            1,
            0,
            1,
            0,
            1,
            1,
            0,
            1,
            1
           ],
           "legendgroup": "",
           "marker": {
            "color": [
             1,
             0,
             0,
             1,
             1,
             1,
             0,
             1,
             0,
             1,
             1,
             1,
             0,
             1,
             0,
             0,
             1,
             0,
             1,
             0,
             1,
             1,
             0,
             1,
             1
            ],
            "coloraxis": "coloraxis",
            "symbol": "circle"
           },
           "mode": "markers",
           "name": "",
           "orientation": "v",
           "showlegend": false,
           "type": "scatter",
           "x": [
            208,
            236,
            160,
            308,
            260,
            308,
            160,
            208,
            234,
            309,
            264,
            309,
            234,
            264,
            234,
            234,
            264,
            160,
            260,
            236,
            260,
            208,
            236,
            309,
            308
           ],
           "xaxis": "x",
           "y": [
            148,
            152,
            138,
            170,
            185,
            170,
            138,
            148,
            175,
            147,
            132,
            147,
            175,
            132,
            175,
            175,
            132,
            138,
            185,
            152,
            185,
            148,
            152,
            147,
            170
           ],
           "yaxis": "y"
          }
         ],
         "name": "45"
        },
        {
         "data": [
          {
           "hovertemplate": "<b>%{hovertext}</b><br><br>age=63<br>chol=%{x}<br>thalach=%{y}<br>sex=%{marker.color}<extra></extra>",
           "hovertext": [
            0,
            1,
            1,
            1,
            0,
            1,
            1,
            1,
            1,
            0,
            0,
            1,
            1,
            1,
            0,
            0,
            0,
            0,
            0,
            0,
            0,
            1,
            1,
            0,
            0,
            1,
            1,
            1,
            0,
            0,
            0,
            0
           ],
           "ids": [
            0,
            1,
            1,
            1,
            0,
            1,
            1,
            1,
            1,
            0,
            0,
            1,
            1,
            1,
            0,
            0,
            0,
            0,
            0,
            0,
            0,
            1,
            1,
            0,
            0,
            1,
            1,
            1,
            0,
            0,
            0,
            0
           ],
           "legendgroup": "",
           "marker": {
            "color": [
             0,
             1,
             1,
             1,
             0,
             1,
             1,
             1,
             1,
             0,
             0,
             1,
             1,
             1,
             0,
             0,
             0,
             0,
             0,
             0,
             0,
             1,
             1,
             0,
             0,
             1,
             1,
             1,
             0,
             0,
             0,
             0
            ],
            "coloraxis": "coloraxis",
            "symbol": "circle"
           },
           "mode": "markers",
           "name": "",
           "orientation": "v",
           "showlegend": false,
           "type": "scatter",
           "x": [
            252,
            187,
            187,
            254,
            197,
            330,
            187,
            254,
            254,
            252,
            269,
            233,
            330,
            233,
            407,
            407,
            197,
            269,
            269,
            195,
            195,
            330,
            254,
            407,
            195,
            330,
            187,
            233,
            197,
            252,
            407,
            269
           ],
           "xaxis": "x",
           "y": [
            172,
            144,
            144,
            147,
            136,
            132,
            144,
            147,
            147,
            172,
            169,
            150,
            132,
            150,
            154,
            154,
            136,
            169,
            169,
            179,
            179,
            132,
            147,
            154,
            179,
            132,
            144,
            150,
            136,
            172,
            154,
            169
           ],
           "yaxis": "y"
          }
         ],
         "name": "63"
        },
        {
         "data": [
          {
           "hovertemplate": "<b>%{hovertext}</b><br><br>age=42<br>chol=%{x}<br>thalach=%{y}<br>sex=%{marker.color}<extra></extra>",
           "hovertext": [
            0,
            1,
            1,
            1,
            1,
            1,
            1,
            1,
            1,
            0,
            0,
            0,
            1,
            1,
            1,
            1,
            1,
            1,
            0,
            0,
            1,
            1,
            1,
            1,
            1,
            1
           ],
           "ids": [
            0,
            1,
            1,
            1,
            1,
            1,
            1,
            1,
            1,
            0,
            0,
            0,
            1,
            1,
            1,
            1,
            1,
            1,
            0,
            0,
            1,
            1,
            1,
            1,
            1,
            1
           ],
           "legendgroup": "",
           "marker": {
            "color": [
             0,
             1,
             1,
             1,
             1,
             1,
             1,
             1,
             1,
             0,
             0,
             0,
             1,
             1,
             1,
             1,
             1,
             1,
             0,
             0,
             1,
             1,
             1,
             1,
             1,
             1
            ],
            "coloraxis": "coloraxis",
            "symbol": "circle"
           },
           "mode": "markers",
           "name": "",
           "orientation": "v",
           "showlegend": false,
           "type": "scatter",
           "x": [
            209,
            226,
            315,
            295,
            180,
            244,
            240,
            180,
            244,
            209,
            265,
            209,
            240,
            315,
            295,
            244,
            180,
            315,
            265,
            265,
            226,
            240,
            180,
            315,
            226,
            295
           ],
           "xaxis": "x",
           "y": [
            173,
            178,
            125,
            162,
            150,
            178,
            194,
            150,
            178,
            173,
            122,
            173,
            194,
            125,
            162,
            178,
            150,
            125,
            122,
            122,
            178,
            194,
            150,
            125,
            178,
            162
           ],
           "yaxis": "y"
          }
         ],
         "name": "42"
        },
        {
         "data": [
          {
           "hovertemplate": "<b>%{hovertext}</b><br><br>age=44<br>chol=%{x}<br>thalach=%{y}<br>sex=%{marker.color}<extra></extra>",
           "hovertext": [
            1,
            1,
            1,
            1,
            1,
            1,
            1,
            0,
            1,
            1,
            1,
            1,
            0,
            1,
            1,
            1,
            0,
            1,
            1,
            1,
            1,
            1,
            1,
            1,
            1,
            0,
            1,
            1,
            1,
            1,
            1,
            1,
            0,
            1,
            1,
            0
           ],
           "ids": [
            1,
            1,
            1,
            1,
            1,
            1,
            1,
            0,
            1,
            1,
            1,
            1,
            0,
            1,
            1,
            1,
            0,
            1,
            1,
            1,
            1,
            1,
            1,
            1,
            1,
            0,
            1,
            1,
            1,
            1,
            1,
            1,
            0,
            1,
            1,
            0
           ],
           "legendgroup": "",
           "marker": {
            "color": [
             1,
             1,
             1,
             1,
             1,
             1,
             1,
             0,
             1,
             1,
             1,
             1,
             0,
             1,
             1,
             1,
             0,
             1,
             1,
             1,
             1,
             1,
             1,
             1,
             1,
             0,
             1,
             1,
             1,
             1,
             1,
             1,
             0,
             1,
             1,
             0
            ],
            "coloraxis": "coloraxis",
            "symbol": "circle"
           },
           "mode": "markers",
           "name": "",
           "orientation": "v",
           "showlegend": false,
           "type": "scatter",
           "x": [
            233,
            169,
            220,
            169,
            197,
            169,
            197,
            242,
            219,
            226,
            263,
            219,
            242,
            220,
            226,
            219,
            242,
            290,
            220,
            235,
            290,
            290,
            235,
            226,
            220,
            141,
            235,
            226,
            169,
            233,
            233,
            263,
            141,
            197,
            263,
            141
           ],
           "xaxis": "x",
           "y": [
            179,
            144,
            170,
            144,
            177,
            144,
            177,
            149,
            188,
            169,
            173,
            188,
            149,
            170,
            169,
            188,
            149,
            153,
            170,
            180,
            153,
            153,
            180,
            169,
            170,
            175,
            180,
            169,
            144,
            179,
            179,
            173,
            175,
            177,
            173,
            175
           ],
           "yaxis": "y"
          }
         ],
         "name": "44"
        },
        {
         "data": [
          {
           "hovertemplate": "<b>%{hovertext}</b><br><br>age=56<br>chol=%{x}<br>thalach=%{y}<br>sex=%{marker.color}<extra></extra>",
           "hovertext": [
            1,
            1,
            1,
            1,
            1,
            1,
            1,
            0,
            1,
            0,
            1,
            1,
            1,
            1,
            0,
            0,
            0,
            1,
            1,
            1,
            0,
            1,
            0,
            1,
            0,
            0,
            1,
            1,
            1,
            1,
            1,
            1,
            1,
            1,
            1,
            1,
            1,
            0,
            1
           ],
           "ids": [
            1,
            1,
            1,
            1,
            1,
            1,
            1,
            0,
            1,
            0,
            1,
            1,
            1,
            1,
            0,
            0,
            0,
            1,
            1,
            1,
            0,
            1,
            0,
            1,
            0,
            0,
            1,
            1,
            1,
            1,
            1,
            1,
            1,
            1,
            1,
            1,
            1,
            0,
            1
           ],
           "legendgroup": "",
           "marker": {
            "color": [
             1,
             1,
             1,
             1,
             1,
             1,
             1,
             0,
             1,
             0,
             1,
             1,
             1,
             1,
             0,
             0,
             0,
             1,
             1,
             1,
             0,
             1,
             0,
             1,
             0,
             0,
             1,
             1,
             1,
             1,
             1,
             1,
             1,
             1,
             1,
             1,
             1,
             0,
             1
            ],
            "coloraxis": "coloraxis",
            "symbol": "circle"
           },
           "mode": "markers",
           "name": "",
           "orientation": "v",
           "showlegend": false,
           "type": "scatter",
           "x": [
            256,
            193,
            249,
            249,
            184,
            283,
            240,
            288,
            283,
            409,
            249,
            221,
            236,
            283,
            288,
            294,
            294,
            256,
            256,
            249,
            288,
            184,
            409,
            283,
            288,
            294,
            221,
            256,
            221,
            221,
            240,
            184,
            240,
            236,
            240,
            193,
            236,
            409,
            193
           ],
           "xaxis": "x",
           "y": [
            142,
            162,
            144,
            144,
            105,
            103,
            169,
            133,
            103,
            150,
            144,
            163,
            178,
            103,
            133,
            153,
            153,
            142,
            142,
            144,
            133,
            105,
            150,
            103,
            133,
            153,
            163,
            142,
            163,
            163,
            169,
            105,
            169,
            178,
            169,
            162,
            178,
            150,
            162
           ],
           "yaxis": "y"
          }
         ],
         "name": "56"
        },
        {
         "data": [
          {
           "hovertemplate": "<b>%{hovertext}</b><br><br>age=57<br>chol=%{x}<br>thalach=%{y}<br>sex=%{marker.color}<extra></extra>",
           "hovertext": [
            1,
            1,
            0,
            1,
            0,
            1,
            1,
            1,
            1,
            0,
            1,
            0,
            1,
            1,
            1,
            1,
            1,
            1,
            1,
            1,
            0,
            1,
            0,
            0,
            1,
            0,
            1,
            1,
            1,
            1,
            1,
            0,
            1,
            1,
            1,
            0,
            1,
            1,
            1,
            1,
            1,
            1,
            1,
            1,
            1,
            1,
            1,
            1,
            1,
            1,
            1,
            1,
            0,
            1,
            0,
            1,
            1
           ],
           "ids": [
            1,
            1,
            0,
            1,
            0,
            1,
            1,
            1,
            1,
            0,
            1,
            0,
            1,
            1,
            1,
            1,
            1,
            1,
            1,
            1,
            0,
            1,
            0,
            0,
            1,
            0,
            1,
            1,
            1,
            1,
            1,
            0,
            1,
            1,
            1,
            0,
            1,
            1,
            1,
            1,
            1,
            1,
            1,
            1,
            1,
            1,
            1,
            1,
            1,
            1,
            1,
            1,
            0,
            1,
            0,
            1,
            1
           ],
           "legendgroup": "",
           "marker": {
            "color": [
             1,
             1,
             0,
             1,
             0,
             1,
             1,
             1,
             1,
             0,
             1,
             0,
             1,
             1,
             1,
             1,
             1,
             1,
             1,
             1,
             0,
             1,
             0,
             0,
             1,
             0,
             1,
             1,
             1,
             1,
             1,
             0,
             1,
             1,
             1,
             0,
             1,
             1,
             1,
             1,
             1,
             1,
             1,
             1,
             1,
             1,
             1,
             1,
             1,
             1,
             1,
             1,
             0,
             1,
             0,
             1,
             1
            ],
            "coloraxis": "coloraxis",
            "symbol": "circle"
           },
           "mode": "markers",
           "name": "",
           "orientation": "v",
           "showlegend": false,
           "type": "scatter",
           "x": [
            131,
            229,
            241,
            232,
            303,
            126,
            335,
            192,
            274,
            354,
            289,
            236,
            261,
            289,
            207,
            276,
            126,
            335,
            201,
            261,
            236,
            276,
            303,
            354,
            168,
            354,
            274,
            168,
            126,
            289,
            229,
            303,
            168,
            232,
            274,
            236,
            261,
            201,
            229,
            276,
            335,
            335,
            276,
            261,
            229,
            192,
            207,
            232,
            131,
            289,
            201,
            131,
            241,
            207,
            241,
            192,
            232
           ],
           "xaxis": "x",
           "y": [
            115,
            150,
            123,
            164,
            159,
            173,
            143,
            148,
            88,
            163,
            124,
            174,
            141,
            124,
            168,
            112,
            173,
            143,
            126,
            141,
            174,
            112,
            159,
            163,
            174,
            163,
            88,
            174,
            173,
            124,
            150,
            159,
            174,
            164,
            88,
            174,
            141,
            126,
            150,
            112,
            143,
            143,
            112,
            141,
            150,
            148,
            168,
            164,
            115,
            124,
            126,
            115,
            123,
            168,
            123,
            148,
            164
           ],
           "yaxis": "y"
          }
         ],
         "name": "57"
        },
        {
         "data": [
          {
           "hovertemplate": "<b>%{hovertext}</b><br><br>age=59<br>chol=%{x}<br>thalach=%{y}<br>sex=%{marker.color}<extra></extra>",
           "hovertext": [
            1,
            1,
            1,
            1,
            1,
            0,
            1,
            1,
            1,
            1,
            1,
            1,
            1,
            1,
            1,
            1,
            1,
            1,
            0,
            1,
            1,
            1,
            1,
            1,
            1,
            1,
            1,
            0,
            1,
            1,
            1,
            1,
            1,
            1,
            1,
            1,
            1,
            1,
            1,
            1,
            1,
            1,
            1,
            1,
            1,
            1
           ],
           "ids": [
            1,
            1,
            1,
            1,
            1,
            0,
            1,
            1,
            1,
            1,
            1,
            1,
            1,
            1,
            1,
            1,
            1,
            1,
            0,
            1,
            1,
            1,
            1,
            1,
            1,
            1,
            1,
            0,
            1,
            1,
            1,
            1,
            1,
            1,
            1,
            1,
            1,
            1,
            1,
            1,
            1,
            1,
            1,
            1,
            1,
            1
           ],
           "legendgroup": "",
           "marker": {
            "color": [
             1,
             1,
             1,
             1,
             1,
             0,
             1,
             1,
             1,
             1,
             1,
             1,
             1,
             1,
             1,
             1,
             1,
             1,
             0,
             1,
             1,
             1,
             1,
             1,
             1,
             1,
             1,
             0,
             1,
             1,
             1,
             1,
             1,
             1,
             1,
             1,
             1,
             1,
             1,
             1,
             1,
             1,
             1,
             1,
             1,
             1
            ],
            "coloraxis": "coloraxis",
            "symbol": "circle"
           },
           "mode": "markers",
           "name": "",
           "orientation": "v",
           "showlegend": false,
           "type": "scatter",
           "x": [
            271,
            212,
            288,
            326,
            177,
            249,
            218,
            326,
            212,
            218,
            212,
            218,
            177,
            176,
            204,
            221,
            239,
            288,
            249,
            234,
            177,
            270,
            204,
            177,
            176,
            221,
            270,
            249,
            271,
            326,
            176,
            239,
            204,
            288,
            273,
            288,
            273,
            273,
            271,
            270,
            234,
            218,
            204,
            234,
            239,
            221
           ],
           "xaxis": "x",
           "y": [
            182,
            157,
            159,
            140,
            162,
            143,
            134,
            140,
            157,
            134,
            157,
            134,
            162,
            90,
            162,
            164,
            142,
            159,
            143,
            161,
            162,
            145,
            162,
            162,
            90,
            164,
            145,
            143,
            182,
            140,
            90,
            142,
            162,
            159,
            125,
            159,
            125,
            125,
            182,
            145,
            161,
            134,
            162,
            161,
            142,
            164
           ],
           "yaxis": "y"
          }
         ],
         "name": "59"
        },
        {
         "data": [
          {
           "hovertemplate": "<b>%{hovertext}</b><br><br>age=64<br>chol=%{x}<br>thalach=%{y}<br>sex=%{marker.color}<extra></extra>",
           "hovertext": [
            1,
            0,
            1,
            1,
            1,
            1,
            1,
            1,
            0,
            1,
            0,
            0,
            0,
            1,
            0,
            1,
            1,
            1,
            1,
            1,
            1,
            0,
            1,
            1,
            1,
            1,
            0,
            1,
            1,
            0,
            1,
            1,
            1,
            1
           ],
           "ids": [
            1,
            0,
            1,
            1,
            1,
            1,
            1,
            1,
            0,
            1,
            0,
            0,
            0,
            1,
            0,
            1,
            1,
            1,
            1,
            1,
            1,
            0,
            1,
            1,
            1,
            1,
            0,
            1,
            1,
            0,
            1,
            1,
            1,
            1
           ],
           "legendgroup": "",
           "marker": {
            "color": [
             1,
             0,
             1,
             1,
             1,
             1,
             1,
             1,
             0,
             1,
             0,
             0,
             0,
             1,
             0,
             1,
             1,
             1,
             1,
             1,
             1,
             0,
             1,
             1,
             1,
             1,
             0,
             1,
             1,
             0,
             1,
             1,
             1,
             1
            ],
            "coloraxis": "coloraxis",
            "symbol": "circle"
           },
           "mode": "markers",
           "name": "",
           "orientation": "v",
           "showlegend": false,
           "type": "scatter",
           "x": [
            263,
            325,
            246,
            211,
            309,
            227,
            211,
            227,
            325,
            211,
            313,
            313,
            303,
            246,
            313,
            309,
            227,
            309,
            212,
            212,
            263,
            303,
            309,
            335,
            335,
            246,
            303,
            335,
            227,
            325,
            246,
            335,
            263,
            212
           ],
           "xaxis": "x",
           "y": [
            105,
            154,
            96,
            144,
            131,
            155,
            144,
            155,
            154,
            144,
            133,
            133,
            122,
            96,
            133,
            131,
            155,
            131,
            132,
            132,
            105,
            122,
            131,
            158,
            158,
            96,
            122,
            158,
            155,
            154,
            96,
            158,
            105,
            132
           ],
           "yaxis": "y"
          }
         ],
         "name": "64"
        },
        {
         "data": [
          {
           "hovertemplate": "<b>%{hovertext}</b><br><br>age=65<br>chol=%{x}<br>thalach=%{y}<br>sex=%{marker.color}<extra></extra>",
           "hovertext": [
            0,
            1,
            0,
            1,
            0,
            0,
            0,
            0,
            1,
            1,
            0,
            0,
            1,
            1,
            1,
            1,
            0,
            0,
            1,
            0,
            0,
            1,
            1,
            1,
            1,
            0,
            1
           ],
           "ids": [
            0,
            1,
            0,
            1,
            0,
            0,
            0,
            0,
            1,
            1,
            0,
            0,
            1,
            1,
            1,
            1,
            0,
            0,
            1,
            0,
            0,
            1,
            1,
            1,
            1,
            0,
            1
           ],
           "legendgroup": "",
           "marker": {
            "color": [
             0,
             1,
             0,
             1,
             0,
             0,
             0,
             0,
             1,
             1,
             0,
             0,
             1,
             1,
             1,
             1,
             0,
             0,
             1,
             0,
             0,
             1,
             1,
             1,
             1,
             0,
             1
            ],
            "coloraxis": "coloraxis",
            "symbol": "circle"
           },
           "mode": "markers",
           "name": "",
           "orientation": "v",
           "showlegend": false,
           "type": "scatter",
           "x": [
            360,
            248,
            417,
            254,
            269,
            360,
            225,
            225,
            248,
            254,
            269,
            269,
            248,
            282,
            282,
            177,
            417,
            360,
            177,
            225,
            225,
            282,
            254,
            254,
            177,
            417,
            282
           ],
           "xaxis": "x",
           "y": [
            151,
            158,
            157,
            127,
            148,
            151,
            114,
            114,
            158,
            127,
            148,
            148,
            158,
            174,
            174,
            140,
            157,
            151,
            140,
            114,
            114,
            174,
            127,
            127,
            140,
            157,
            174
           ],
           "yaxis": "y"
          }
         ],
         "name": "65"
        },
        {
         "data": [
          {
           "hovertemplate": "<b>%{hovertext}</b><br><br>age=41<br>chol=%{x}<br>thalach=%{y}<br>sex=%{marker.color}<extra></extra>",
           "hovertext": [
            1,
            1,
            1,
            1,
            1,
            1,
            1,
            1,
            0,
            0,
            0,
            1,
            0,
            0,
            0,
            1,
            1,
            0,
            0,
            1,
            0,
            1,
            0,
            1,
            0,
            1,
            0,
            1,
            1,
            1,
            1,
            1
           ],
           "ids": [
            1,
            1,
            1,
            1,
            1,
            1,
            1,
            1,
            0,
            0,
            0,
            1,
            0,
            0,
            0,
            1,
            1,
            0,
            0,
            1,
            0,
            1,
            0,
            1,
            0,
            1,
            0,
            1,
            1,
            1,
            1,
            1
           ],
           "legendgroup": "",
           "marker": {
            "color": [
             1,
             1,
             1,
             1,
             1,
             1,
             1,
             1,
             0,
             0,
             0,
             1,
             0,
             0,
             0,
             1,
             1,
             0,
             0,
             1,
             0,
             1,
             0,
             1,
             0,
             1,
             0,
             1,
             1,
             1,
             1,
             1
            ],
            "coloraxis": "coloraxis",
            "symbol": "circle"
           },
           "mode": "markers",
           "name": "",
           "orientation": "v",
           "showlegend": false,
           "type": "scatter",
           "x": [
            203,
            203,
            235,
            172,
            157,
            250,
            250,
            157,
            306,
            198,
            204,
            157,
            198,
            204,
            268,
            214,
            172,
            204,
            198,
            214,
            306,
            157,
            306,
            235,
            268,
            214,
            268,
            203,
            203,
            250,
            235,
            172
           ],
           "xaxis": "x",
           "y": [
            132,
            132,
            153,
            158,
            182,
            179,
            179,
            182,
            163,
            168,
            172,
            182,
            168,
            172,
            172,
            168,
            158,
            172,
            168,
            168,
            163,
            182,
            163,
            153,
            172,
            168,
            172,
            132,
            132,
            179,
            153,
            158
           ],
           "yaxis": "y"
          }
         ],
         "name": "41"
        },
        {
         "data": [
          {
           "hovertemplate": "<b>%{hovertext}</b><br><br>age=66<br>chol=%{x}<br>thalach=%{y}<br>sex=%{marker.color}<extra></extra>",
           "hovertext": [
            0,
            0,
            0,
            1,
            0,
            0,
            1,
            1,
            1,
            1,
            1,
            1,
            0,
            1,
            0,
            1,
            0,
            0,
            1,
            1,
            0,
            1,
            1,
            0,
            1
           ],
           "ids": [
            0,
            0,
            0,
            1,
            0,
            0,
            1,
            1,
            1,
            1,
            1,
            1,
            0,
            1,
            0,
            1,
            0,
            0,
            1,
            1,
            0,
            1,
            1,
            0,
            1
           ],
           "legendgroup": "",
           "marker": {
            "color": [
             0,
             0,
             0,
             1,
             0,
             0,
             1,
             1,
             1,
             1,
             1,
             1,
             0,
             1,
             0,
             1,
             0,
             0,
             1,
             1,
             0,
             1,
             1,
             0,
             1
            ],
            "coloraxis": "coloraxis",
            "symbol": "circle"
           },
           "mode": "markers",
           "name": "",
           "orientation": "v",
           "showlegend": false,
           "type": "scatter",
           "x": [
            228,
            278,
            278,
            302,
            278,
            228,
            302,
            228,
            246,
            246,
            302,
            228,
            278,
            228,
            228,
            212,
            226,
            226,
            246,
            212,
            226,
            228,
            212,
            228,
            212
           ],
           "xaxis": "x",
           "y": [
            165,
            152,
            152,
            151,
            152,
            165,
            151,
            138,
            120,
            120,
            151,
            138,
            152,
            138,
            165,
            132,
            114,
            114,
            120,
            132,
            114,
            138,
            132,
            165,
            132
           ],
           "yaxis": "y"
          }
         ],
         "name": "66"
        },
        {
         "data": [
          {
           "hovertemplate": "<b>%{hovertext}</b><br><br>age=38<br>chol=%{x}<br>thalach=%{y}<br>sex=%{marker.color}<extra></extra>",
           "hovertext": [
            1,
            1,
            1,
            1,
            1,
            1,
            1,
            1,
            1,
            1,
            1,
            1
           ],
           "ids": [
            1,
            1,
            1,
            1,
            1,
            1,
            1,
            1,
            1,
            1,
            1,
            1
           ],
           "legendgroup": "",
           "marker": {
            "color": [
             1,
             1,
             1,
             1,
             1,
             1,
             1,
             1,
             1,
             1,
             1,
             1
            ],
            "coloraxis": "coloraxis",
            "symbol": "circle"
           },
           "mode": "markers",
           "name": "",
           "orientation": "v",
           "showlegend": false,
           "type": "scatter",
           "x": [
            175,
            175,
            175,
            175,
            231,
            175,
            175,
            175,
            231,
            231,
            231,
            175
           ],
           "xaxis": "x",
           "y": [
            173,
            173,
            173,
            173,
            182,
            173,
            173,
            173,
            182,
            182,
            182,
            173
           ],
           "yaxis": "y"
          }
         ],
         "name": "38"
        },
        {
         "data": [
          {
           "hovertemplate": "<b>%{hovertext}</b><br><br>age=49<br>chol=%{x}<br>thalach=%{y}<br>sex=%{marker.color}<extra></extra>",
           "hovertext": [
            1,
            1,
            1,
            1,
            0,
            1,
            1,
            0,
            0,
            1,
            1,
            1,
            1,
            0,
            1,
            0,
            0
           ],
           "ids": [
            1,
            1,
            1,
            1,
            0,
            1,
            1,
            0,
            0,
            1,
            1,
            1,
            1,
            0,
            1,
            0,
            0
           ],
           "legendgroup": "",
           "marker": {
            "color": [
             1,
             1,
             1,
             1,
             0,
             1,
             1,
             0,
             0,
             1,
             1,
             1,
             1,
             0,
             1,
             0,
             0
            ],
            "coloraxis": "coloraxis",
            "symbol": "circle"
           },
           "mode": "markers",
           "name": "",
           "orientation": "v",
           "showlegend": false,
           "type": "scatter",
           "x": [
            188,
            149,
            266,
            149,
            269,
            149,
            188,
            271,
            271,
            188,
            188,
            266,
            266,
            269,
            149,
            271,
            269
           ],
           "xaxis": "x",
           "y": [
            139,
            126,
            171,
            126,
            163,
            126,
            139,
            162,
            162,
            139,
            139,
            171,
            171,
            163,
            126,
            162,
            163
           ],
           "yaxis": "y"
          }
         ],
         "name": "49"
        },
        {
         "data": [
          {
           "hovertemplate": "<b>%{hovertext}</b><br><br>age=48<br>chol=%{x}<br>thalach=%{y}<br>sex=%{marker.color}<extra></extra>",
           "hovertext": [
            1,
            1,
            1,
            1,
            1,
            1,
            1,
            0,
            1,
            1,
            1,
            1,
            1,
            1,
            1,
            1,
            1,
            1,
            1,
            0,
            0,
            1,
            1
           ],
           "ids": [
            1,
            1,
            1,
            1,
            1,
            1,
            1,
            0,
            1,
            1,
            1,
            1,
            1,
            1,
            1,
            1,
            1,
            1,
            1,
            0,
            0,
            1,
            1
           ],
           "legendgroup": "",
           "marker": {
            "color": [
             1,
             1,
             1,
             1,
             1,
             1,
             1,
             0,
             1,
             1,
             1,
             1,
             1,
             1,
             1,
             1,
             1,
             1,
             1,
             0,
             0,
             1,
             1
            ],
            "coloraxis": "coloraxis",
            "symbol": "circle"
           },
           "mode": "markers",
           "name": "",
           "orientation": "v",
           "showlegend": false,
           "type": "scatter",
           "x": [
            245,
            256,
            255,
            256,
            274,
            222,
            256,
            275,
            245,
            222,
            229,
            255,
            229,
            229,
            222,
            256,
            274,
            245,
            255,
            275,
            275,
            274,
            229
           ],
           "xaxis": "x",
           "y": [
            180,
            150,
            175,
            150,
            166,
            186,
            150,
            139,
            180,
            186,
            168,
            175,
            168,
            168,
            186,
            150,
            166,
            180,
            175,
            139,
            139,
            166,
            168
           ],
           "yaxis": "y"
          }
         ],
         "name": "48"
        },
        {
         "data": [
          {
           "hovertemplate": "<b>%{hovertext}</b><br><br>age=29<br>chol=%{x}<br>thalach=%{y}<br>sex=%{marker.color}<extra></extra>",
           "hovertext": [
            1,
            1,
            1,
            1
           ],
           "ids": [
            1,
            1,
            1,
            1
           ],
           "legendgroup": "",
           "marker": {
            "color": [
             1,
             1,
             1,
             1
            ],
            "coloraxis": "coloraxis",
            "symbol": "circle"
           },
           "mode": "markers",
           "name": "",
           "orientation": "v",
           "showlegend": false,
           "type": "scatter",
           "x": [
            204,
            204,
            204,
            204
           ],
           "xaxis": "x",
           "y": [
            202,
            202,
            202,
            202
           ],
           "yaxis": "y"
          }
         ],
         "name": "29"
        },
        {
         "data": [
          {
           "hovertemplate": "<b>%{hovertext}</b><br><br>age=37<br>chol=%{x}<br>thalach=%{y}<br>sex=%{marker.color}<extra></extra>",
           "hovertext": [
            0,
            0,
            0,
            1,
            1,
            1
           ],
           "ids": [
            0,
            0,
            0,
            1,
            1,
            1
           ],
           "legendgroup": "",
           "marker": {
            "color": [
             0,
             0,
             0,
             1,
             1,
             1
            ],
            "coloraxis": "coloraxis",
            "symbol": "circle"
           },
           "mode": "markers",
           "name": "",
           "orientation": "v",
           "showlegend": false,
           "type": "scatter",
           "x": [
            215,
            215,
            215,
            250,
            250,
            250
           ],
           "xaxis": "x",
           "y": [
            170,
            170,
            170,
            187,
            187,
            187
           ],
           "yaxis": "y"
          }
         ],
         "name": "37"
        },
        {
         "data": [
          {
           "hovertemplate": "<b>%{hovertext}</b><br><br>age=47<br>chol=%{x}<br>thalach=%{y}<br>sex=%{marker.color}<extra></extra>",
           "hovertext": [
            1,
            1,
            1,
            1,
            1,
            1,
            1,
            1,
            1,
            1,
            1,
            1,
            1,
            1,
            1,
            1,
            1,
            1
           ],
           "ids": [
            1,
            1,
            1,
            1,
            1,
            1,
            1,
            1,
            1,
            1,
            1,
            1,
            1,
            1,
            1,
            1,
            1,
            1
           ],
           "legendgroup": "",
           "marker": {
            "color": [
             1,
             1,
             1,
             1,
             1,
             1,
             1,
             1,
             1,
             1,
             1,
             1,
             1,
             1,
             1,
             1,
             1,
             1
            ],
            "coloraxis": "coloraxis",
            "symbol": "circle"
           },
           "mode": "markers",
           "name": "",
           "orientation": "v",
           "showlegend": false,
           "type": "scatter",
           "x": [
            257,
            257,
            275,
            257,
            204,
            275,
            243,
            253,
            253,
            243,
            275,
            243,
            253,
            243,
            204,
            253,
            204,
            275
           ],
           "xaxis": "x",
           "y": [
            156,
            156,
            118,
            156,
            143,
            118,
            152,
            179,
            179,
            152,
            118,
            152,
            179,
            152,
            143,
            179,
            143,
            118
           ],
           "yaxis": "y"
          }
         ],
         "name": "47"
        },
        {
         "data": [
          {
           "hovertemplate": "<b>%{hovertext}</b><br><br>age=68<br>chol=%{x}<br>thalach=%{y}<br>sex=%{marker.color}<extra></extra>",
           "hovertext": [
            1,
            1,
            1,
            1,
            1,
            1,
            0,
            1,
            1,
            1,
            0,
            0
           ],
           "ids": [
            1,
            1,
            1,
            1,
            1,
            1,
            0,
            1,
            1,
            1,
            0,
            0
           ],
           "legendgroup": "",
           "marker": {
            "color": [
             1,
             1,
             1,
             1,
             1,
             1,
             0,
             1,
             1,
             1,
             0,
             0
            ],
            "coloraxis": "coloraxis",
            "symbol": "circle"
           },
           "mode": "markers",
           "name": "",
           "orientation": "v",
           "showlegend": false,
           "type": "scatter",
           "x": [
            193,
            274,
            274,
            277,
            277,
            274,
            211,
            193,
            193,
            277,
            211,
            211
           ],
           "xaxis": "x",
           "y": [
            141,
            150,
            150,
            151,
            151,
            150,
            115,
            141,
            141,
            151,
            115,
            115
           ],
           "yaxis": "y"
          }
         ],
         "name": "68"
        },
        {
         "data": [
          {
           "hovertemplate": "<b>%{hovertext}</b><br><br>age=76<br>chol=%{x}<br>thalach=%{y}<br>sex=%{marker.color}<extra></extra>",
           "hovertext": [
            0,
            0,
            0
           ],
           "ids": [
            0,
            0,
            0
           ],
           "legendgroup": "",
           "marker": {
            "color": [
             0,
             0,
             0
            ],
            "coloraxis": "coloraxis",
            "symbol": "circle"
           },
           "mode": "markers",
           "name": "",
           "orientation": "v",
           "showlegend": false,
           "type": "scatter",
           "x": [
            197,
            197,
            197
           ],
           "xaxis": "x",
           "y": [
            116,
            116,
            116
           ],
           "yaxis": "y"
          }
         ],
         "name": "76"
        },
        {
         "data": [
          {
           "hovertemplate": "<b>%{hovertext}</b><br><br>age=40<br>chol=%{x}<br>thalach=%{y}<br>sex=%{marker.color}<extra></extra>",
           "hovertext": [
            1,
            1,
            1,
            1,
            1,
            1,
            1,
            1,
            1,
            1,
            1
           ],
           "ids": [
            1,
            1,
            1,
            1,
            1,
            1,
            1,
            1,
            1,
            1,
            1
           ],
           "legendgroup": "",
           "marker": {
            "color": [
             1,
             1,
             1,
             1,
             1,
             1,
             1,
             1,
             1,
             1,
             1
            ],
            "coloraxis": "coloraxis",
            "symbol": "circle"
           },
           "mode": "markers",
           "name": "",
           "orientation": "v",
           "showlegend": false,
           "type": "scatter",
           "x": [
            223,
            167,
            199,
            167,
            223,
            199,
            167,
            199,
            167,
            223,
            223
           ],
           "xaxis": "x",
           "y": [
            181,
            114,
            178,
            114,
            181,
            178,
            114,
            178,
            114,
            181,
            181
           ],
           "yaxis": "y"
          }
         ],
         "name": "40"
        },
        {
         "data": [
          {
           "hovertemplate": "<b>%{hovertext}</b><br><br>age=39<br>chol=%{x}<br>thalach=%{y}<br>sex=%{marker.color}<extra></extra>",
           "hovertext": [
            1,
            0,
            0,
            0,
            0,
            0,
            1,
            0,
            0,
            1,
            1,
            1,
            1,
            1
           ],
           "ids": [
            1,
            0,
            0,
            0,
            0,
            0,
            1,
            0,
            0,
            1,
            1,
            1,
            1,
            1
           ],
           "legendgroup": "",
           "marker": {
            "color": [
             1,
             0,
             0,
             0,
             0,
             0,
             1,
             0,
             0,
             1,
             1,
             1,
             1,
             1
            ],
            "coloraxis": "coloraxis",
            "symbol": "circle"
           },
           "mode": "markers",
           "name": "",
           "orientation": "v",
           "showlegend": false,
           "type": "scatter",
           "x": [
            321,
            199,
            199,
            220,
            220,
            220,
            321,
            199,
            220,
            219,
            321,
            219,
            219,
            219
           ],
           "xaxis": "x",
           "y": [
            182,
            179,
            179,
            152,
            152,
            152,
            182,
            179,
            152,
            140,
            182,
            140,
            140,
            140
           ],
           "yaxis": "y"
          }
         ],
         "name": "39"
        },
        {
         "data": [
          {
           "hovertemplate": "<b>%{hovertext}</b><br><br>age=77<br>chol=%{x}<br>thalach=%{y}<br>sex=%{marker.color}<extra></extra>",
           "hovertext": [
            1,
            1,
            1
           ],
           "ids": [
            1,
            1,
            1
           ],
           "legendgroup": "",
           "marker": {
            "color": [
             1,
             1,
             1
            ],
            "coloraxis": "coloraxis",
            "symbol": "circle"
           },
           "mode": "markers",
           "name": "",
           "orientation": "v",
           "showlegend": false,
           "type": "scatter",
           "x": [
            304,
            304,
            304
           ],
           "xaxis": "x",
           "y": [
            162,
            162,
            162
           ],
           "yaxis": "y"
          }
         ],
         "name": "77"
        },
        {
         "data": [
          {
           "hovertemplate": "<b>%{hovertext}</b><br><br>age=69<br>chol=%{x}<br>thalach=%{y}<br>sex=%{marker.color}<extra></extra>",
           "hovertext": [
            1,
            1,
            1,
            1,
            1,
            1,
            0,
            0,
            0
           ],
           "ids": [
            1,
            1,
            1,
            1,
            1,
            1,
            0,
            0,
            0
           ],
           "legendgroup": "",
           "marker": {
            "color": [
             1,
             1,
             1,
             1,
             1,
             1,
             0,
             0,
             0
            ],
            "coloraxis": "coloraxis",
            "symbol": "circle"
           },
           "mode": "markers",
           "name": "",
           "orientation": "v",
           "showlegend": false,
           "type": "scatter",
           "x": [
            234,
            234,
            254,
            234,
            254,
            254,
            239,
            239,
            239
           ],
           "xaxis": "x",
           "y": [
            131,
            131,
            146,
            131,
            146,
            146,
            151,
            151,
            151
           ],
           "yaxis": "y"
          }
         ],
         "name": "69"
        },
        {
         "data": [
          {
           "hovertemplate": "<b>%{hovertext}</b><br><br>age=35<br>chol=%{x}<br>thalach=%{y}<br>sex=%{marker.color}<extra></extra>",
           "hovertext": [
            1,
            0,
            1,
            1,
            1,
            1,
            0,
            1,
            1,
            1,
            1,
            1,
            0,
            0,
            1
           ],
           "ids": [
            1,
            0,
            1,
            1,
            1,
            1,
            0,
            1,
            1,
            1,
            1,
            1,
            0,
            0,
            1
           ],
           "legendgroup": "",
           "marker": {
            "color": [
             1,
             0,
             1,
             1,
             1,
             1,
             0,
             1,
             1,
             1,
             1,
             1,
             0,
             0,
             1
            ],
            "coloraxis": "coloraxis",
            "symbol": "circle"
           },
           "mode": "markers",
           "name": "",
           "orientation": "v",
           "showlegend": false,
           "type": "scatter",
           "x": [
            198,
            183,
            192,
            192,
            282,
            192,
            183,
            192,
            282,
            282,
            198,
            198,
            183,
            183,
            198
           ],
           "xaxis": "x",
           "y": [
            130,
            182,
            174,
            174,
            156,
            174,
            182,
            174,
            156,
            156,
            130,
            130,
            182,
            182,
            130
           ],
           "yaxis": "y"
          }
         ],
         "name": "35"
        },
        {
         "data": [
          {
           "hovertemplate": "<b>%{hovertext}</b><br><br>age=74<br>chol=%{x}<br>thalach=%{y}<br>sex=%{marker.color}<extra></extra>",
           "hovertext": [
            0,
            0,
            0
           ],
           "ids": [
            0,
            0,
            0
           ],
           "legendgroup": "",
           "marker": {
            "color": [
             0,
             0,
             0
            ],
            "coloraxis": "coloraxis",
            "symbol": "circle"
           },
           "mode": "markers",
           "name": "",
           "orientation": "v",
           "showlegend": false,
           "type": "scatter",
           "x": [
            269,
            269,
            269
           ],
           "xaxis": "x",
           "y": [
            121,
            121,
            121
           ],
           "yaxis": "y"
          }
         ],
         "name": "74"
        }
       ],
       "layout": {
        "coloraxis": {
         "colorbar": {
          "title": {
           "text": "sex"
          }
         },
         "colorscale": [
          [
           0,
           "#0d0887"
          ],
          [
           0.1111111111111111,
           "#46039f"
          ],
          [
           0.2222222222222222,
           "#7201a8"
          ],
          [
           0.3333333333333333,
           "#9c179e"
          ],
          [
           0.4444444444444444,
           "#bd3786"
          ],
          [
           0.5555555555555556,
           "#d8576b"
          ],
          [
           0.6666666666666666,
           "#ed7953"
          ],
          [
           0.7777777777777778,
           "#fb9f3a"
          ],
          [
           0.8888888888888888,
           "#fdca26"
          ],
          [
           1,
           "#f0f921"
          ]
         ]
        },
        "legend": {
         "tracegroupgap": 0
        },
        "margin": {
         "t": 60
        },
        "sliders": [
         {
          "active": 0,
          "currentvalue": {
           "prefix": "age="
          },
          "len": 0.9,
          "pad": {
           "b": 10,
           "t": 60
          },
          "steps": [
           {
            "args": [
             [
              "52"
             ],
             {
              "frame": {
               "duration": 0,
               "redraw": false
              },
              "fromcurrent": true,
              "mode": "immediate",
              "transition": {
               "duration": 0,
               "easing": "linear"
              }
             }
            ],
            "label": "52",
            "method": "animate"
           },
           {
            "args": [
             [
              "53"
             ],
             {
              "frame": {
               "duration": 0,
               "redraw": false
              },
              "fromcurrent": true,
              "mode": "immediate",
              "transition": {
               "duration": 0,
               "easing": "linear"
              }
             }
            ],
            "label": "53",
            "method": "animate"
           },
           {
            "args": [
             [
              "70"
             ],
             {
              "frame": {
               "duration": 0,
               "redraw": false
              },
              "fromcurrent": true,
              "mode": "immediate",
              "transition": {
               "duration": 0,
               "easing": "linear"
              }
             }
            ],
            "label": "70",
            "method": "animate"
           },
           {
            "args": [
             [
              "61"
             ],
             {
              "frame": {
               "duration": 0,
               "redraw": false
              },
              "fromcurrent": true,
              "mode": "immediate",
              "transition": {
               "duration": 0,
               "easing": "linear"
              }
             }
            ],
            "label": "61",
            "method": "animate"
           },
           {
            "args": [
             [
              "62"
             ],
             {
              "frame": {
               "duration": 0,
               "redraw": false
              },
              "fromcurrent": true,
              "mode": "immediate",
              "transition": {
               "duration": 0,
               "easing": "linear"
              }
             }
            ],
            "label": "62",
            "method": "animate"
           },
           {
            "args": [
             [
              "58"
             ],
             {
              "frame": {
               "duration": 0,
               "redraw": false
              },
              "fromcurrent": true,
              "mode": "immediate",
              "transition": {
               "duration": 0,
               "easing": "linear"
              }
             }
            ],
            "label": "58",
            "method": "animate"
           },
           {
            "args": [
             [
              "55"
             ],
             {
              "frame": {
               "duration": 0,
               "redraw": false
              },
              "fromcurrent": true,
              "mode": "immediate",
              "transition": {
               "duration": 0,
               "easing": "linear"
              }
             }
            ],
            "label": "55",
            "method": "animate"
           },
           {
            "args": [
             [
              "46"
             ],
             {
              "frame": {
               "duration": 0,
               "redraw": false
              },
              "fromcurrent": true,
              "mode": "immediate",
              "transition": {
               "duration": 0,
               "easing": "linear"
              }
             }
            ],
            "label": "46",
            "method": "animate"
           },
           {
            "args": [
             [
              "54"
             ],
             {
              "frame": {
               "duration": 0,
               "redraw": false
              },
              "fromcurrent": true,
              "mode": "immediate",
              "transition": {
               "duration": 0,
               "easing": "linear"
              }
             }
            ],
            "label": "54",
            "method": "animate"
           },
           {
            "args": [
             [
              "71"
             ],
             {
              "frame": {
               "duration": 0,
               "redraw": false
              },
              "fromcurrent": true,
              "mode": "immediate",
              "transition": {
               "duration": 0,
               "easing": "linear"
              }
             }
            ],
            "label": "71",
            "method": "animate"
           },
           {
            "args": [
             [
              "43"
             ],
             {
              "frame": {
               "duration": 0,
               "redraw": false
              },
              "fromcurrent": true,
              "mode": "immediate",
              "transition": {
               "duration": 0,
               "easing": "linear"
              }
             }
            ],
            "label": "43",
            "method": "animate"
           },
           {
            "args": [
             [
              "34"
             ],
             {
              "frame": {
               "duration": 0,
               "redraw": false
              },
              "fromcurrent": true,
              "mode": "immediate",
              "transition": {
               "duration": 0,
               "easing": "linear"
              }
             }
            ],
            "label": "34",
            "method": "animate"
           },
           {
            "args": [
             [
              "51"
             ],
             {
              "frame": {
               "duration": 0,
               "redraw": false
              },
              "fromcurrent": true,
              "mode": "immediate",
              "transition": {
               "duration": 0,
               "easing": "linear"
              }
             }
            ],
            "label": "51",
            "method": "animate"
           },
           {
            "args": [
             [
              "50"
             ],
             {
              "frame": {
               "duration": 0,
               "redraw": false
              },
              "fromcurrent": true,
              "mode": "immediate",
              "transition": {
               "duration": 0,
               "easing": "linear"
              }
             }
            ],
            "label": "50",
            "method": "animate"
           },
           {
            "args": [
             [
              "60"
             ],
             {
              "frame": {
               "duration": 0,
               "redraw": false
              },
              "fromcurrent": true,
              "mode": "immediate",
              "transition": {
               "duration": 0,
               "easing": "linear"
              }
             }
            ],
            "label": "60",
            "method": "animate"
           },
           {
            "args": [
             [
              "67"
             ],
             {
              "frame": {
               "duration": 0,
               "redraw": false
              },
              "fromcurrent": true,
              "mode": "immediate",
              "transition": {
               "duration": 0,
               "easing": "linear"
              }
             }
            ],
            "label": "67",
            "method": "animate"
           },
           {
            "args": [
             [
              "45"
             ],
             {
              "frame": {
               "duration": 0,
               "redraw": false
              },
              "fromcurrent": true,
              "mode": "immediate",
              "transition": {
               "duration": 0,
               "easing": "linear"
              }
             }
            ],
            "label": "45",
            "method": "animate"
           },
           {
            "args": [
             [
              "63"
             ],
             {
              "frame": {
               "duration": 0,
               "redraw": false
              },
              "fromcurrent": true,
              "mode": "immediate",
              "transition": {
               "duration": 0,
               "easing": "linear"
              }
             }
            ],
            "label": "63",
            "method": "animate"
           },
           {
            "args": [
             [
              "42"
             ],
             {
              "frame": {
               "duration": 0,
               "redraw": false
              },
              "fromcurrent": true,
              "mode": "immediate",
              "transition": {
               "duration": 0,
               "easing": "linear"
              }
             }
            ],
            "label": "42",
            "method": "animate"
           },
           {
            "args": [
             [
              "44"
             ],
             {
              "frame": {
               "duration": 0,
               "redraw": false
              },
              "fromcurrent": true,
              "mode": "immediate",
              "transition": {
               "duration": 0,
               "easing": "linear"
              }
             }
            ],
            "label": "44",
            "method": "animate"
           },
           {
            "args": [
             [
              "56"
             ],
             {
              "frame": {
               "duration": 0,
               "redraw": false
              },
              "fromcurrent": true,
              "mode": "immediate",
              "transition": {
               "duration": 0,
               "easing": "linear"
              }
             }
            ],
            "label": "56",
            "method": "animate"
           },
           {
            "args": [
             [
              "57"
             ],
             {
              "frame": {
               "duration": 0,
               "redraw": false
              },
              "fromcurrent": true,
              "mode": "immediate",
              "transition": {
               "duration": 0,
               "easing": "linear"
              }
             }
            ],
            "label": "57",
            "method": "animate"
           },
           {
            "args": [
             [
              "59"
             ],
             {
              "frame": {
               "duration": 0,
               "redraw": false
              },
              "fromcurrent": true,
              "mode": "immediate",
              "transition": {
               "duration": 0,
               "easing": "linear"
              }
             }
            ],
            "label": "59",
            "method": "animate"
           },
           {
            "args": [
             [
              "64"
             ],
             {
              "frame": {
               "duration": 0,
               "redraw": false
              },
              "fromcurrent": true,
              "mode": "immediate",
              "transition": {
               "duration": 0,
               "easing": "linear"
              }
             }
            ],
            "label": "64",
            "method": "animate"
           },
           {
            "args": [
             [
              "65"
             ],
             {
              "frame": {
               "duration": 0,
               "redraw": false
              },
              "fromcurrent": true,
              "mode": "immediate",
              "transition": {
               "duration": 0,
               "easing": "linear"
              }
             }
            ],
            "label": "65",
            "method": "animate"
           },
           {
            "args": [
             [
              "41"
             ],
             {
              "frame": {
               "duration": 0,
               "redraw": false
              },
              "fromcurrent": true,
              "mode": "immediate",
              "transition": {
               "duration": 0,
               "easing": "linear"
              }
             }
            ],
            "label": "41",
            "method": "animate"
           },
           {
            "args": [
             [
              "66"
             ],
             {
              "frame": {
               "duration": 0,
               "redraw": false
              },
              "fromcurrent": true,
              "mode": "immediate",
              "transition": {
               "duration": 0,
               "easing": "linear"
              }
             }
            ],
            "label": "66",
            "method": "animate"
           },
           {
            "args": [
             [
              "38"
             ],
             {
              "frame": {
               "duration": 0,
               "redraw": false
              },
              "fromcurrent": true,
              "mode": "immediate",
              "transition": {
               "duration": 0,
               "easing": "linear"
              }
             }
            ],
            "label": "38",
            "method": "animate"
           },
           {
            "args": [
             [
              "49"
             ],
             {
              "frame": {
               "duration": 0,
               "redraw": false
              },
              "fromcurrent": true,
              "mode": "immediate",
              "transition": {
               "duration": 0,
               "easing": "linear"
              }
             }
            ],
            "label": "49",
            "method": "animate"
           },
           {
            "args": [
             [
              "48"
             ],
             {
              "frame": {
               "duration": 0,
               "redraw": false
              },
              "fromcurrent": true,
              "mode": "immediate",
              "transition": {
               "duration": 0,
               "easing": "linear"
              }
             }
            ],
            "label": "48",
            "method": "animate"
           },
           {
            "args": [
             [
              "29"
             ],
             {
              "frame": {
               "duration": 0,
               "redraw": false
              },
              "fromcurrent": true,
              "mode": "immediate",
              "transition": {
               "duration": 0,
               "easing": "linear"
              }
             }
            ],
            "label": "29",
            "method": "animate"
           },
           {
            "args": [
             [
              "37"
             ],
             {
              "frame": {
               "duration": 0,
               "redraw": false
              },
              "fromcurrent": true,
              "mode": "immediate",
              "transition": {
               "duration": 0,
               "easing": "linear"
              }
             }
            ],
            "label": "37",
            "method": "animate"
           },
           {
            "args": [
             [
              "47"
             ],
             {
              "frame": {
               "duration": 0,
               "redraw": false
              },
              "fromcurrent": true,
              "mode": "immediate",
              "transition": {
               "duration": 0,
               "easing": "linear"
              }
             }
            ],
            "label": "47",
            "method": "animate"
           },
           {
            "args": [
             [
              "68"
             ],
             {
              "frame": {
               "duration": 0,
               "redraw": false
              },
              "fromcurrent": true,
              "mode": "immediate",
              "transition": {
               "duration": 0,
               "easing": "linear"
              }
             }
            ],
            "label": "68",
            "method": "animate"
           },
           {
            "args": [
             [
              "76"
             ],
             {
              "frame": {
               "duration": 0,
               "redraw": false
              },
              "fromcurrent": true,
              "mode": "immediate",
              "transition": {
               "duration": 0,
               "easing": "linear"
              }
             }
            ],
            "label": "76",
            "method": "animate"
           },
           {
            "args": [
             [
              "40"
             ],
             {
              "frame": {
               "duration": 0,
               "redraw": false
              },
              "fromcurrent": true,
              "mode": "immediate",
              "transition": {
               "duration": 0,
               "easing": "linear"
              }
             }
            ],
            "label": "40",
            "method": "animate"
           },
           {
            "args": [
             [
              "39"
             ],
             {
              "frame": {
               "duration": 0,
               "redraw": false
              },
              "fromcurrent": true,
              "mode": "immediate",
              "transition": {
               "duration": 0,
               "easing": "linear"
              }
             }
            ],
            "label": "39",
            "method": "animate"
           },
           {
            "args": [
             [
              "77"
             ],
             {
              "frame": {
               "duration": 0,
               "redraw": false
              },
              "fromcurrent": true,
              "mode": "immediate",
              "transition": {
               "duration": 0,
               "easing": "linear"
              }
             }
            ],
            "label": "77",
            "method": "animate"
           },
           {
            "args": [
             [
              "69"
             ],
             {
              "frame": {
               "duration": 0,
               "redraw": false
              },
              "fromcurrent": true,
              "mode": "immediate",
              "transition": {
               "duration": 0,
               "easing": "linear"
              }
             }
            ],
            "label": "69",
            "method": "animate"
           },
           {
            "args": [
             [
              "35"
             ],
             {
              "frame": {
               "duration": 0,
               "redraw": false
              },
              "fromcurrent": true,
              "mode": "immediate",
              "transition": {
               "duration": 0,
               "easing": "linear"
              }
             }
            ],
            "label": "35",
            "method": "animate"
           },
           {
            "args": [
             [
              "74"
             ],
             {
              "frame": {
               "duration": 0,
               "redraw": false
              },
              "fromcurrent": true,
              "mode": "immediate",
              "transition": {
               "duration": 0,
               "easing": "linear"
              }
             }
            ],
            "label": "74",
            "method": "animate"
           }
          ],
          "x": 0.1,
          "xanchor": "left",
          "y": 0,
          "yanchor": "top"
         }
        ],
        "template": {
         "data": {
          "bar": [
           {
            "error_x": {
             "color": "#2a3f5f"
            },
            "error_y": {
             "color": "#2a3f5f"
            },
            "marker": {
             "line": {
              "color": "#E5ECF6",
              "width": 0.5
             }
            },
            "type": "bar"
           }
          ],
          "barpolar": [
           {
            "marker": {
             "line": {
              "color": "#E5ECF6",
              "width": 0.5
             }
            },
            "type": "barpolar"
           }
          ],
          "carpet": [
           {
            "aaxis": {
             "endlinecolor": "#2a3f5f",
             "gridcolor": "white",
             "linecolor": "white",
             "minorgridcolor": "white",
             "startlinecolor": "#2a3f5f"
            },
            "baxis": {
             "endlinecolor": "#2a3f5f",
             "gridcolor": "white",
             "linecolor": "white",
             "minorgridcolor": "white",
             "startlinecolor": "#2a3f5f"
            },
            "type": "carpet"
           }
          ],
          "choropleth": [
           {
            "colorbar": {
             "outlinewidth": 0,
             "ticks": ""
            },
            "type": "choropleth"
           }
          ],
          "contour": [
           {
            "colorbar": {
             "outlinewidth": 0,
             "ticks": ""
            },
            "colorscale": [
             [
              0,
              "#0d0887"
             ],
             [
              0.1111111111111111,
              "#46039f"
             ],
             [
              0.2222222222222222,
              "#7201a8"
             ],
             [
              0.3333333333333333,
              "#9c179e"
             ],
             [
              0.4444444444444444,
              "#bd3786"
             ],
             [
              0.5555555555555556,
              "#d8576b"
             ],
             [
              0.6666666666666666,
              "#ed7953"
             ],
             [
              0.7777777777777778,
              "#fb9f3a"
             ],
             [
              0.8888888888888888,
              "#fdca26"
             ],
             [
              1,
              "#f0f921"
             ]
            ],
            "type": "contour"
           }
          ],
          "contourcarpet": [
           {
            "colorbar": {
             "outlinewidth": 0,
             "ticks": ""
            },
            "type": "contourcarpet"
           }
          ],
          "heatmap": [
           {
            "colorbar": {
             "outlinewidth": 0,
             "ticks": ""
            },
            "colorscale": [
             [
              0,
              "#0d0887"
             ],
             [
              0.1111111111111111,
              "#46039f"
             ],
             [
              0.2222222222222222,
              "#7201a8"
             ],
             [
              0.3333333333333333,
              "#9c179e"
             ],
             [
              0.4444444444444444,
              "#bd3786"
             ],
             [
              0.5555555555555556,
              "#d8576b"
             ],
             [
              0.6666666666666666,
              "#ed7953"
             ],
             [
              0.7777777777777778,
              "#fb9f3a"
             ],
             [
              0.8888888888888888,
              "#fdca26"
             ],
             [
              1,
              "#f0f921"
             ]
            ],
            "type": "heatmap"
           }
          ],
          "heatmapgl": [
           {
            "colorbar": {
             "outlinewidth": 0,
             "ticks": ""
            },
            "colorscale": [
             [
              0,
              "#0d0887"
             ],
             [
              0.1111111111111111,
              "#46039f"
             ],
             [
              0.2222222222222222,
              "#7201a8"
             ],
             [
              0.3333333333333333,
              "#9c179e"
             ],
             [
              0.4444444444444444,
              "#bd3786"
             ],
             [
              0.5555555555555556,
              "#d8576b"
             ],
             [
              0.6666666666666666,
              "#ed7953"
             ],
             [
              0.7777777777777778,
              "#fb9f3a"
             ],
             [
              0.8888888888888888,
              "#fdca26"
             ],
             [
              1,
              "#f0f921"
             ]
            ],
            "type": "heatmapgl"
           }
          ],
          "histogram": [
           {
            "marker": {
             "colorbar": {
              "outlinewidth": 0,
              "ticks": ""
             }
            },
            "type": "histogram"
           }
          ],
          "histogram2d": [
           {
            "colorbar": {
             "outlinewidth": 0,
             "ticks": ""
            },
            "colorscale": [
             [
              0,
              "#0d0887"
             ],
             [
              0.1111111111111111,
              "#46039f"
             ],
             [
              0.2222222222222222,
              "#7201a8"
             ],
             [
              0.3333333333333333,
              "#9c179e"
             ],
             [
              0.4444444444444444,
              "#bd3786"
             ],
             [
              0.5555555555555556,
              "#d8576b"
             ],
             [
              0.6666666666666666,
              "#ed7953"
             ],
             [
              0.7777777777777778,
              "#fb9f3a"
             ],
             [
              0.8888888888888888,
              "#fdca26"
             ],
             [
              1,
              "#f0f921"
             ]
            ],
            "type": "histogram2d"
           }
          ],
          "histogram2dcontour": [
           {
            "colorbar": {
             "outlinewidth": 0,
             "ticks": ""
            },
            "colorscale": [
             [
              0,
              "#0d0887"
             ],
             [
              0.1111111111111111,
              "#46039f"
             ],
             [
              0.2222222222222222,
              "#7201a8"
             ],
             [
              0.3333333333333333,
              "#9c179e"
             ],
             [
              0.4444444444444444,
              "#bd3786"
             ],
             [
              0.5555555555555556,
              "#d8576b"
             ],
             [
              0.6666666666666666,
              "#ed7953"
             ],
             [
              0.7777777777777778,
              "#fb9f3a"
             ],
             [
              0.8888888888888888,
              "#fdca26"
             ],
             [
              1,
              "#f0f921"
             ]
            ],
            "type": "histogram2dcontour"
           }
          ],
          "mesh3d": [
           {
            "colorbar": {
             "outlinewidth": 0,
             "ticks": ""
            },
            "type": "mesh3d"
           }
          ],
          "parcoords": [
           {
            "line": {
             "colorbar": {
              "outlinewidth": 0,
              "ticks": ""
             }
            },
            "type": "parcoords"
           }
          ],
          "pie": [
           {
            "automargin": true,
            "type": "pie"
           }
          ],
          "scatter": [
           {
            "marker": {
             "colorbar": {
              "outlinewidth": 0,
              "ticks": ""
             }
            },
            "type": "scatter"
           }
          ],
          "scatter3d": [
           {
            "line": {
             "colorbar": {
              "outlinewidth": 0,
              "ticks": ""
             }
            },
            "marker": {
             "colorbar": {
              "outlinewidth": 0,
              "ticks": ""
             }
            },
            "type": "scatter3d"
           }
          ],
          "scattercarpet": [
           {
            "marker": {
             "colorbar": {
              "outlinewidth": 0,
              "ticks": ""
             }
            },
            "type": "scattercarpet"
           }
          ],
          "scattergeo": [
           {
            "marker": {
             "colorbar": {
              "outlinewidth": 0,
              "ticks": ""
             }
            },
            "type": "scattergeo"
           }
          ],
          "scattergl": [
           {
            "marker": {
             "colorbar": {
              "outlinewidth": 0,
              "ticks": ""
             }
            },
            "type": "scattergl"
           }
          ],
          "scattermapbox": [
           {
            "marker": {
             "colorbar": {
              "outlinewidth": 0,
              "ticks": ""
             }
            },
            "type": "scattermapbox"
           }
          ],
          "scatterpolar": [
           {
            "marker": {
             "colorbar": {
              "outlinewidth": 0,
              "ticks": ""
             }
            },
            "type": "scatterpolar"
           }
          ],
          "scatterpolargl": [
           {
            "marker": {
             "colorbar": {
              "outlinewidth": 0,
              "ticks": ""
             }
            },
            "type": "scatterpolargl"
           }
          ],
          "scatterternary": [
           {
            "marker": {
             "colorbar": {
              "outlinewidth": 0,
              "ticks": ""
             }
            },
            "type": "scatterternary"
           }
          ],
          "surface": [
           {
            "colorbar": {
             "outlinewidth": 0,
             "ticks": ""
            },
            "colorscale": [
             [
              0,
              "#0d0887"
             ],
             [
              0.1111111111111111,
              "#46039f"
             ],
             [
              0.2222222222222222,
              "#7201a8"
             ],
             [
              0.3333333333333333,
              "#9c179e"
             ],
             [
              0.4444444444444444,
              "#bd3786"
             ],
             [
              0.5555555555555556,
              "#d8576b"
             ],
             [
              0.6666666666666666,
              "#ed7953"
             ],
             [
              0.7777777777777778,
              "#fb9f3a"
             ],
             [
              0.8888888888888888,
              "#fdca26"
             ],
             [
              1,
              "#f0f921"
             ]
            ],
            "type": "surface"
           }
          ],
          "table": [
           {
            "cells": {
             "fill": {
              "color": "#EBF0F8"
             },
             "line": {
              "color": "white"
             }
            },
            "header": {
             "fill": {
              "color": "#C8D4E3"
             },
             "line": {
              "color": "white"
             }
            },
            "type": "table"
           }
          ]
         },
         "layout": {
          "annotationdefaults": {
           "arrowcolor": "#2a3f5f",
           "arrowhead": 0,
           "arrowwidth": 1
          },
          "autotypenumbers": "strict",
          "coloraxis": {
           "colorbar": {
            "outlinewidth": 0,
            "ticks": ""
           }
          },
          "colorscale": {
           "diverging": [
            [
             0,
             "#8e0152"
            ],
            [
             0.1,
             "#c51b7d"
            ],
            [
             0.2,
             "#de77ae"
            ],
            [
             0.3,
             "#f1b6da"
            ],
            [
             0.4,
             "#fde0ef"
            ],
            [
             0.5,
             "#f7f7f7"
            ],
            [
             0.6,
             "#e6f5d0"
            ],
            [
             0.7,
             "#b8e186"
            ],
            [
             0.8,
             "#7fbc41"
            ],
            [
             0.9,
             "#4d9221"
            ],
            [
             1,
             "#276419"
            ]
           ],
           "sequential": [
            [
             0,
             "#0d0887"
            ],
            [
             0.1111111111111111,
             "#46039f"
            ],
            [
             0.2222222222222222,
             "#7201a8"
            ],
            [
             0.3333333333333333,
             "#9c179e"
            ],
            [
             0.4444444444444444,
             "#bd3786"
            ],
            [
             0.5555555555555556,
             "#d8576b"
            ],
            [
             0.6666666666666666,
             "#ed7953"
            ],
            [
             0.7777777777777778,
             "#fb9f3a"
            ],
            [
             0.8888888888888888,
             "#fdca26"
            ],
            [
             1,
             "#f0f921"
            ]
           ],
           "sequentialminus": [
            [
             0,
             "#0d0887"
            ],
            [
             0.1111111111111111,
             "#46039f"
            ],
            [
             0.2222222222222222,
             "#7201a8"
            ],
            [
             0.3333333333333333,
             "#9c179e"
            ],
            [
             0.4444444444444444,
             "#bd3786"
            ],
            [
             0.5555555555555556,
             "#d8576b"
            ],
            [
             0.6666666666666666,
             "#ed7953"
            ],
            [
             0.7777777777777778,
             "#fb9f3a"
            ],
            [
             0.8888888888888888,
             "#fdca26"
            ],
            [
             1,
             "#f0f921"
            ]
           ]
          },
          "colorway": [
           "#636efa",
           "#EF553B",
           "#00cc96",
           "#ab63fa",
           "#FFA15A",
           "#19d3f3",
           "#FF6692",
           "#B6E880",
           "#FF97FF",
           "#FECB52"
          ],
          "font": {
           "color": "#2a3f5f"
          },
          "geo": {
           "bgcolor": "white",
           "lakecolor": "white",
           "landcolor": "#E5ECF6",
           "showlakes": true,
           "showland": true,
           "subunitcolor": "white"
          },
          "hoverlabel": {
           "align": "left"
          },
          "hovermode": "closest",
          "mapbox": {
           "style": "light"
          },
          "paper_bgcolor": "white",
          "plot_bgcolor": "#E5ECF6",
          "polar": {
           "angularaxis": {
            "gridcolor": "white",
            "linecolor": "white",
            "ticks": ""
           },
           "bgcolor": "#E5ECF6",
           "radialaxis": {
            "gridcolor": "white",
            "linecolor": "white",
            "ticks": ""
           }
          },
          "scene": {
           "xaxis": {
            "backgroundcolor": "#E5ECF6",
            "gridcolor": "white",
            "gridwidth": 2,
            "linecolor": "white",
            "showbackground": true,
            "ticks": "",
            "zerolinecolor": "white"
           },
           "yaxis": {
            "backgroundcolor": "#E5ECF6",
            "gridcolor": "white",
            "gridwidth": 2,
            "linecolor": "white",
            "showbackground": true,
            "ticks": "",
            "zerolinecolor": "white"
           },
           "zaxis": {
            "backgroundcolor": "#E5ECF6",
            "gridcolor": "white",
            "gridwidth": 2,
            "linecolor": "white",
            "showbackground": true,
            "ticks": "",
            "zerolinecolor": "white"
           }
          },
          "shapedefaults": {
           "line": {
            "color": "#2a3f5f"
           }
          },
          "ternary": {
           "aaxis": {
            "gridcolor": "white",
            "linecolor": "white",
            "ticks": ""
           },
           "baxis": {
            "gridcolor": "white",
            "linecolor": "white",
            "ticks": ""
           },
           "bgcolor": "#E5ECF6",
           "caxis": {
            "gridcolor": "white",
            "linecolor": "white",
            "ticks": ""
           }
          },
          "title": {
           "x": 0.05
          },
          "xaxis": {
           "automargin": true,
           "gridcolor": "white",
           "linecolor": "white",
           "ticks": "",
           "title": {
            "standoff": 15
           },
           "zerolinecolor": "white",
           "zerolinewidth": 2
          },
          "yaxis": {
           "automargin": true,
           "gridcolor": "white",
           "linecolor": "white",
           "ticks": "",
           "title": {
            "standoff": 15
           },
           "zerolinecolor": "white",
           "zerolinewidth": 2
          }
         }
        },
        "xaxis": {
         "anchor": "y",
         "domain": [
          0,
          1
         ],
         "title": {
          "text": "chol"
         },
         "type": "log"
        },
        "yaxis": {
         "anchor": "x",
         "domain": [
          0,
          1
         ],
         "title": {
          "text": "thalach"
         }
        }
       }
      },
      "text/html": [
       "<div>                            <div id=\"8a5e8ff3-2c73-4309-8a8e-0bf9c24b4888\" class=\"plotly-graph-div\" style=\"height:525px; width:100%;\"></div>            <script type=\"text/javascript\">                require([\"plotly\"], function(Plotly) {                    window.PLOTLYENV=window.PLOTLYENV || {};                                    if (document.getElementById(\"8a5e8ff3-2c73-4309-8a8e-0bf9c24b4888\")) {                    Plotly.newPlot(                        \"8a5e8ff3-2c73-4309-8a8e-0bf9c24b4888\",                        [{\"hovertemplate\": \"<b>%{hovertext}</b><br><br>age=52<br>chol=%{x}<br>thalach=%{y}<br>sex=%{marker.color}<extra></extra>\", \"hovertext\": [1.0, 1.0, 1.0, 1.0, 1.0, 1.0, 1.0, 1.0, 1.0, 1.0, 1.0, 0.0, 1.0, 1.0, 1.0, 1.0, 1.0, 1.0, 1.0, 1.0, 1.0, 1.0, 1.0, 1.0, 1.0, 1.0, 1.0, 1.0, 1.0, 1.0, 1.0, 1.0, 1.0, 1.0, 1.0, 0.0, 0.0, 1.0, 1.0, 1.0, 1.0, 1.0, 1.0], \"ids\": [1, 1, 1, 1, 1, 1, 1, 1, 1, 1, 1, 0, 1, 1, 1, 1, 1, 1, 1, 1, 1, 1, 1, 1, 1, 1, 1, 1, 1, 1, 1, 1, 1, 1, 1, 0, 0, 1, 1, 1, 1, 1, 1], \"legendgroup\": \"\", \"marker\": {\"color\": [1, 1, 1, 1, 1, 1, 1, 1, 1, 1, 1, 0, 1, 1, 1, 1, 1, 1, 1, 1, 1, 1, 1, 1, 1, 1, 1, 1, 1, 1, 1, 1, 1, 1, 1, 0, 0, 1, 1, 1, 1, 1, 1], \"coloraxis\": \"coloraxis\", \"symbol\": \"circle\"}, \"mode\": \"markers\", \"name\": \"\", \"orientation\": \"v\", \"showlegend\": false, \"type\": \"scatter\", \"x\": [212, 204, 201, 201, 186, 223, 298, 298, 205, 223, 325, 196, 199, 186, 223, 205, 230, 186, 325, 298, 212, 212, 204, 233, 230, 204, 255, 230, 199, 255, 255, 230, 212, 204, 201, 196, 196, 233, 325, 199, 186, 205, 233], \"xaxis\": \"x\", \"y\": [168, 156, 158, 158, 190, 169, 178, 178, 184, 169, 172, 169, 162, 190, 169, 184, 160, 190, 172, 178, 168, 168, 156, 147, 160, 156, 161, 160, 162, 161, 161, 160, 168, 156, 158, 169, 169, 147, 172, 162, 190, 184, 147], \"yaxis\": \"y\"}],                        {\"coloraxis\": {\"colorbar\": {\"title\": {\"text\": \"sex\"}}, \"colorscale\": [[0.0, \"#0d0887\"], [0.1111111111111111, \"#46039f\"], [0.2222222222222222, \"#7201a8\"], [0.3333333333333333, \"#9c179e\"], [0.4444444444444444, \"#bd3786\"], [0.5555555555555556, \"#d8576b\"], [0.6666666666666666, \"#ed7953\"], [0.7777777777777778, \"#fb9f3a\"], [0.8888888888888888, \"#fdca26\"], [1.0, \"#f0f921\"]]}, \"legend\": {\"tracegroupgap\": 0}, \"margin\": {\"t\": 60}, \"sliders\": [{\"active\": 0, \"currentvalue\": {\"prefix\": \"age=\"}, \"len\": 0.9, \"pad\": {\"b\": 10, \"t\": 60}, \"steps\": [{\"args\": [[\"52\"], {\"frame\": {\"duration\": 0, \"redraw\": false}, \"fromcurrent\": true, \"mode\": \"immediate\", \"transition\": {\"duration\": 0, \"easing\": \"linear\"}}], \"label\": \"52\", \"method\": \"animate\"}, {\"args\": [[\"53\"], {\"frame\": {\"duration\": 0, \"redraw\": false}, \"fromcurrent\": true, \"mode\": \"immediate\", \"transition\": {\"duration\": 0, \"easing\": \"linear\"}}], \"label\": \"53\", \"method\": \"animate\"}, {\"args\": [[\"70\"], {\"frame\": {\"duration\": 0, \"redraw\": false}, \"fromcurrent\": true, \"mode\": \"immediate\", \"transition\": {\"duration\": 0, \"easing\": \"linear\"}}], \"label\": \"70\", \"method\": \"animate\"}, {\"args\": [[\"61\"], {\"frame\": {\"duration\": 0, \"redraw\": false}, \"fromcurrent\": true, \"mode\": \"immediate\", \"transition\": {\"duration\": 0, \"easing\": \"linear\"}}], \"label\": \"61\", \"method\": \"animate\"}, {\"args\": [[\"62\"], {\"frame\": {\"duration\": 0, \"redraw\": false}, \"fromcurrent\": true, \"mode\": \"immediate\", \"transition\": {\"duration\": 0, \"easing\": \"linear\"}}], \"label\": \"62\", \"method\": \"animate\"}, {\"args\": [[\"58\"], {\"frame\": {\"duration\": 0, \"redraw\": false}, \"fromcurrent\": true, \"mode\": \"immediate\", \"transition\": {\"duration\": 0, \"easing\": \"linear\"}}], \"label\": \"58\", \"method\": \"animate\"}, {\"args\": [[\"55\"], {\"frame\": {\"duration\": 0, \"redraw\": false}, \"fromcurrent\": true, \"mode\": \"immediate\", \"transition\": {\"duration\": 0, \"easing\": \"linear\"}}], \"label\": \"55\", \"method\": \"animate\"}, {\"args\": [[\"46\"], {\"frame\": {\"duration\": 0, \"redraw\": false}, \"fromcurrent\": true, \"mode\": \"immediate\", \"transition\": {\"duration\": 0, \"easing\": \"linear\"}}], \"label\": \"46\", \"method\": \"animate\"}, {\"args\": [[\"54\"], {\"frame\": {\"duration\": 0, \"redraw\": false}, \"fromcurrent\": true, \"mode\": \"immediate\", \"transition\": {\"duration\": 0, \"easing\": \"linear\"}}], \"label\": \"54\", \"method\": \"animate\"}, {\"args\": [[\"71\"], {\"frame\": {\"duration\": 0, \"redraw\": false}, \"fromcurrent\": true, \"mode\": \"immediate\", \"transition\": {\"duration\": 0, \"easing\": \"linear\"}}], \"label\": \"71\", \"method\": \"animate\"}, {\"args\": [[\"43\"], {\"frame\": {\"duration\": 0, \"redraw\": false}, \"fromcurrent\": true, \"mode\": \"immediate\", \"transition\": {\"duration\": 0, \"easing\": \"linear\"}}], \"label\": \"43\", \"method\": \"animate\"}, {\"args\": [[\"34\"], {\"frame\": {\"duration\": 0, \"redraw\": false}, \"fromcurrent\": true, \"mode\": \"immediate\", \"transition\": {\"duration\": 0, \"easing\": \"linear\"}}], \"label\": \"34\", \"method\": \"animate\"}, {\"args\": [[\"51\"], {\"frame\": {\"duration\": 0, \"redraw\": false}, \"fromcurrent\": true, \"mode\": \"immediate\", \"transition\": {\"duration\": 0, \"easing\": \"linear\"}}], \"label\": \"51\", \"method\": \"animate\"}, {\"args\": [[\"50\"], {\"frame\": {\"duration\": 0, \"redraw\": false}, \"fromcurrent\": true, \"mode\": \"immediate\", \"transition\": {\"duration\": 0, \"easing\": \"linear\"}}], \"label\": \"50\", \"method\": \"animate\"}, {\"args\": [[\"60\"], {\"frame\": {\"duration\": 0, \"redraw\": false}, \"fromcurrent\": true, \"mode\": \"immediate\", \"transition\": {\"duration\": 0, \"easing\": \"linear\"}}], \"label\": \"60\", \"method\": \"animate\"}, {\"args\": [[\"67\"], {\"frame\": {\"duration\": 0, \"redraw\": false}, \"fromcurrent\": true, \"mode\": \"immediate\", \"transition\": {\"duration\": 0, \"easing\": \"linear\"}}], \"label\": \"67\", \"method\": \"animate\"}, {\"args\": [[\"45\"], {\"frame\": {\"duration\": 0, \"redraw\": false}, \"fromcurrent\": true, \"mode\": \"immediate\", \"transition\": {\"duration\": 0, \"easing\": \"linear\"}}], \"label\": \"45\", \"method\": \"animate\"}, {\"args\": [[\"63\"], {\"frame\": {\"duration\": 0, \"redraw\": false}, \"fromcurrent\": true, \"mode\": \"immediate\", \"transition\": {\"duration\": 0, \"easing\": \"linear\"}}], \"label\": \"63\", \"method\": \"animate\"}, {\"args\": [[\"42\"], {\"frame\": {\"duration\": 0, \"redraw\": false}, \"fromcurrent\": true, \"mode\": \"immediate\", \"transition\": {\"duration\": 0, \"easing\": \"linear\"}}], \"label\": \"42\", \"method\": \"animate\"}, {\"args\": [[\"44\"], {\"frame\": {\"duration\": 0, \"redraw\": false}, \"fromcurrent\": true, \"mode\": \"immediate\", \"transition\": {\"duration\": 0, \"easing\": \"linear\"}}], \"label\": \"44\", \"method\": \"animate\"}, {\"args\": [[\"56\"], {\"frame\": {\"duration\": 0, \"redraw\": false}, \"fromcurrent\": true, \"mode\": \"immediate\", \"transition\": {\"duration\": 0, \"easing\": \"linear\"}}], \"label\": \"56\", \"method\": \"animate\"}, {\"args\": [[\"57\"], {\"frame\": {\"duration\": 0, \"redraw\": false}, \"fromcurrent\": true, \"mode\": \"immediate\", \"transition\": {\"duration\": 0, \"easing\": \"linear\"}}], \"label\": \"57\", \"method\": \"animate\"}, {\"args\": [[\"59\"], {\"frame\": {\"duration\": 0, \"redraw\": false}, \"fromcurrent\": true, \"mode\": \"immediate\", \"transition\": {\"duration\": 0, \"easing\": \"linear\"}}], \"label\": \"59\", \"method\": \"animate\"}, {\"args\": [[\"64\"], {\"frame\": {\"duration\": 0, \"redraw\": false}, \"fromcurrent\": true, \"mode\": \"immediate\", \"transition\": {\"duration\": 0, \"easing\": \"linear\"}}], \"label\": \"64\", \"method\": \"animate\"}, {\"args\": [[\"65\"], {\"frame\": {\"duration\": 0, \"redraw\": false}, \"fromcurrent\": true, \"mode\": \"immediate\", \"transition\": {\"duration\": 0, \"easing\": \"linear\"}}], \"label\": \"65\", \"method\": \"animate\"}, {\"args\": [[\"41\"], {\"frame\": {\"duration\": 0, \"redraw\": false}, \"fromcurrent\": true, \"mode\": \"immediate\", \"transition\": {\"duration\": 0, \"easing\": \"linear\"}}], \"label\": \"41\", \"method\": \"animate\"}, {\"args\": [[\"66\"], {\"frame\": {\"duration\": 0, \"redraw\": false}, \"fromcurrent\": true, \"mode\": \"immediate\", \"transition\": {\"duration\": 0, \"easing\": \"linear\"}}], \"label\": \"66\", \"method\": \"animate\"}, {\"args\": [[\"38\"], {\"frame\": {\"duration\": 0, \"redraw\": false}, \"fromcurrent\": true, \"mode\": \"immediate\", \"transition\": {\"duration\": 0, \"easing\": \"linear\"}}], \"label\": \"38\", \"method\": \"animate\"}, {\"args\": [[\"49\"], {\"frame\": {\"duration\": 0, \"redraw\": false}, \"fromcurrent\": true, \"mode\": \"immediate\", \"transition\": {\"duration\": 0, \"easing\": \"linear\"}}], \"label\": \"49\", \"method\": \"animate\"}, {\"args\": [[\"48\"], {\"frame\": {\"duration\": 0, \"redraw\": false}, \"fromcurrent\": true, \"mode\": \"immediate\", \"transition\": {\"duration\": 0, \"easing\": \"linear\"}}], \"label\": \"48\", \"method\": \"animate\"}, {\"args\": [[\"29\"], {\"frame\": {\"duration\": 0, \"redraw\": false}, \"fromcurrent\": true, \"mode\": \"immediate\", \"transition\": {\"duration\": 0, \"easing\": \"linear\"}}], \"label\": \"29\", \"method\": \"animate\"}, {\"args\": [[\"37\"], {\"frame\": {\"duration\": 0, \"redraw\": false}, \"fromcurrent\": true, \"mode\": \"immediate\", \"transition\": {\"duration\": 0, \"easing\": \"linear\"}}], \"label\": \"37\", \"method\": \"animate\"}, {\"args\": [[\"47\"], {\"frame\": {\"duration\": 0, \"redraw\": false}, \"fromcurrent\": true, \"mode\": \"immediate\", \"transition\": {\"duration\": 0, \"easing\": \"linear\"}}], \"label\": \"47\", \"method\": \"animate\"}, {\"args\": [[\"68\"], {\"frame\": {\"duration\": 0, \"redraw\": false}, \"fromcurrent\": true, \"mode\": \"immediate\", \"transition\": {\"duration\": 0, \"easing\": \"linear\"}}], \"label\": \"68\", \"method\": \"animate\"}, {\"args\": [[\"76\"], {\"frame\": {\"duration\": 0, \"redraw\": false}, \"fromcurrent\": true, \"mode\": \"immediate\", \"transition\": {\"duration\": 0, \"easing\": \"linear\"}}], \"label\": \"76\", \"method\": \"animate\"}, {\"args\": [[\"40\"], {\"frame\": {\"duration\": 0, \"redraw\": false}, \"fromcurrent\": true, \"mode\": \"immediate\", \"transition\": {\"duration\": 0, \"easing\": \"linear\"}}], \"label\": \"40\", \"method\": \"animate\"}, {\"args\": [[\"39\"], {\"frame\": {\"duration\": 0, \"redraw\": false}, \"fromcurrent\": true, \"mode\": \"immediate\", \"transition\": {\"duration\": 0, \"easing\": \"linear\"}}], \"label\": \"39\", \"method\": \"animate\"}, {\"args\": [[\"77\"], {\"frame\": {\"duration\": 0, \"redraw\": false}, \"fromcurrent\": true, \"mode\": \"immediate\", \"transition\": {\"duration\": 0, \"easing\": \"linear\"}}], \"label\": \"77\", \"method\": \"animate\"}, {\"args\": [[\"69\"], {\"frame\": {\"duration\": 0, \"redraw\": false}, \"fromcurrent\": true, \"mode\": \"immediate\", \"transition\": {\"duration\": 0, \"easing\": \"linear\"}}], \"label\": \"69\", \"method\": \"animate\"}, {\"args\": [[\"35\"], {\"frame\": {\"duration\": 0, \"redraw\": false}, \"fromcurrent\": true, \"mode\": \"immediate\", \"transition\": {\"duration\": 0, \"easing\": \"linear\"}}], \"label\": \"35\", \"method\": \"animate\"}, {\"args\": [[\"74\"], {\"frame\": {\"duration\": 0, \"redraw\": false}, \"fromcurrent\": true, \"mode\": \"immediate\", \"transition\": {\"duration\": 0, \"easing\": \"linear\"}}], \"label\": \"74\", \"method\": \"animate\"}], \"x\": 0.1, \"xanchor\": \"left\", \"y\": 0, \"yanchor\": \"top\"}], \"template\": {\"data\": {\"bar\": [{\"error_x\": {\"color\": \"#2a3f5f\"}, \"error_y\": {\"color\": \"#2a3f5f\"}, \"marker\": {\"line\": {\"color\": \"#E5ECF6\", \"width\": 0.5}}, \"type\": \"bar\"}], \"barpolar\": [{\"marker\": {\"line\": {\"color\": \"#E5ECF6\", \"width\": 0.5}}, \"type\": \"barpolar\"}], \"carpet\": [{\"aaxis\": {\"endlinecolor\": \"#2a3f5f\", \"gridcolor\": \"white\", \"linecolor\": \"white\", \"minorgridcolor\": \"white\", \"startlinecolor\": \"#2a3f5f\"}, \"baxis\": {\"endlinecolor\": \"#2a3f5f\", \"gridcolor\": \"white\", \"linecolor\": \"white\", \"minorgridcolor\": \"white\", \"startlinecolor\": \"#2a3f5f\"}, \"type\": \"carpet\"}], \"choropleth\": [{\"colorbar\": {\"outlinewidth\": 0, \"ticks\": \"\"}, \"type\": \"choropleth\"}], \"contour\": [{\"colorbar\": {\"outlinewidth\": 0, \"ticks\": \"\"}, \"colorscale\": [[0.0, \"#0d0887\"], [0.1111111111111111, \"#46039f\"], [0.2222222222222222, \"#7201a8\"], [0.3333333333333333, \"#9c179e\"], [0.4444444444444444, \"#bd3786\"], [0.5555555555555556, \"#d8576b\"], [0.6666666666666666, \"#ed7953\"], [0.7777777777777778, \"#fb9f3a\"], [0.8888888888888888, \"#fdca26\"], [1.0, \"#f0f921\"]], \"type\": \"contour\"}], \"contourcarpet\": [{\"colorbar\": {\"outlinewidth\": 0, \"ticks\": \"\"}, \"type\": \"contourcarpet\"}], \"heatmap\": [{\"colorbar\": {\"outlinewidth\": 0, \"ticks\": \"\"}, \"colorscale\": [[0.0, \"#0d0887\"], [0.1111111111111111, \"#46039f\"], [0.2222222222222222, \"#7201a8\"], [0.3333333333333333, \"#9c179e\"], [0.4444444444444444, \"#bd3786\"], [0.5555555555555556, \"#d8576b\"], [0.6666666666666666, \"#ed7953\"], [0.7777777777777778, \"#fb9f3a\"], [0.8888888888888888, \"#fdca26\"], [1.0, \"#f0f921\"]], \"type\": \"heatmap\"}], \"heatmapgl\": [{\"colorbar\": {\"outlinewidth\": 0, \"ticks\": \"\"}, \"colorscale\": [[0.0, \"#0d0887\"], [0.1111111111111111, \"#46039f\"], [0.2222222222222222, \"#7201a8\"], [0.3333333333333333, \"#9c179e\"], [0.4444444444444444, \"#bd3786\"], [0.5555555555555556, \"#d8576b\"], [0.6666666666666666, \"#ed7953\"], [0.7777777777777778, \"#fb9f3a\"], [0.8888888888888888, \"#fdca26\"], [1.0, \"#f0f921\"]], \"type\": \"heatmapgl\"}], \"histogram\": [{\"marker\": {\"colorbar\": {\"outlinewidth\": 0, \"ticks\": \"\"}}, \"type\": \"histogram\"}], \"histogram2d\": [{\"colorbar\": {\"outlinewidth\": 0, \"ticks\": \"\"}, \"colorscale\": [[0.0, \"#0d0887\"], [0.1111111111111111, \"#46039f\"], [0.2222222222222222, \"#7201a8\"], [0.3333333333333333, \"#9c179e\"], [0.4444444444444444, \"#bd3786\"], [0.5555555555555556, \"#d8576b\"], [0.6666666666666666, \"#ed7953\"], [0.7777777777777778, \"#fb9f3a\"], [0.8888888888888888, \"#fdca26\"], [1.0, \"#f0f921\"]], \"type\": \"histogram2d\"}], \"histogram2dcontour\": [{\"colorbar\": {\"outlinewidth\": 0, \"ticks\": \"\"}, \"colorscale\": [[0.0, \"#0d0887\"], [0.1111111111111111, \"#46039f\"], [0.2222222222222222, \"#7201a8\"], [0.3333333333333333, \"#9c179e\"], [0.4444444444444444, \"#bd3786\"], [0.5555555555555556, \"#d8576b\"], [0.6666666666666666, \"#ed7953\"], [0.7777777777777778, \"#fb9f3a\"], [0.8888888888888888, \"#fdca26\"], [1.0, \"#f0f921\"]], \"type\": \"histogram2dcontour\"}], \"mesh3d\": [{\"colorbar\": {\"outlinewidth\": 0, \"ticks\": \"\"}, \"type\": \"mesh3d\"}], \"parcoords\": [{\"line\": {\"colorbar\": {\"outlinewidth\": 0, \"ticks\": \"\"}}, \"type\": \"parcoords\"}], \"pie\": [{\"automargin\": true, \"type\": \"pie\"}], \"scatter\": [{\"marker\": {\"colorbar\": {\"outlinewidth\": 0, \"ticks\": \"\"}}, \"type\": \"scatter\"}], \"scatter3d\": [{\"line\": {\"colorbar\": {\"outlinewidth\": 0, \"ticks\": \"\"}}, \"marker\": {\"colorbar\": {\"outlinewidth\": 0, \"ticks\": \"\"}}, \"type\": \"scatter3d\"}], \"scattercarpet\": [{\"marker\": {\"colorbar\": {\"outlinewidth\": 0, \"ticks\": \"\"}}, \"type\": \"scattercarpet\"}], \"scattergeo\": [{\"marker\": {\"colorbar\": {\"outlinewidth\": 0, \"ticks\": \"\"}}, \"type\": \"scattergeo\"}], \"scattergl\": [{\"marker\": {\"colorbar\": {\"outlinewidth\": 0, \"ticks\": \"\"}}, \"type\": \"scattergl\"}], \"scattermapbox\": [{\"marker\": {\"colorbar\": {\"outlinewidth\": 0, \"ticks\": \"\"}}, \"type\": \"scattermapbox\"}], \"scatterpolar\": [{\"marker\": {\"colorbar\": {\"outlinewidth\": 0, \"ticks\": \"\"}}, \"type\": \"scatterpolar\"}], \"scatterpolargl\": [{\"marker\": {\"colorbar\": {\"outlinewidth\": 0, \"ticks\": \"\"}}, \"type\": \"scatterpolargl\"}], \"scatterternary\": [{\"marker\": {\"colorbar\": {\"outlinewidth\": 0, \"ticks\": \"\"}}, \"type\": \"scatterternary\"}], \"surface\": [{\"colorbar\": {\"outlinewidth\": 0, \"ticks\": \"\"}, \"colorscale\": [[0.0, \"#0d0887\"], [0.1111111111111111, \"#46039f\"], [0.2222222222222222, \"#7201a8\"], [0.3333333333333333, \"#9c179e\"], [0.4444444444444444, \"#bd3786\"], [0.5555555555555556, \"#d8576b\"], [0.6666666666666666, \"#ed7953\"], [0.7777777777777778, \"#fb9f3a\"], [0.8888888888888888, \"#fdca26\"], [1.0, \"#f0f921\"]], \"type\": \"surface\"}], \"table\": [{\"cells\": {\"fill\": {\"color\": \"#EBF0F8\"}, \"line\": {\"color\": \"white\"}}, \"header\": {\"fill\": {\"color\": \"#C8D4E3\"}, \"line\": {\"color\": \"white\"}}, \"type\": \"table\"}]}, \"layout\": {\"annotationdefaults\": {\"arrowcolor\": \"#2a3f5f\", \"arrowhead\": 0, \"arrowwidth\": 1}, \"autotypenumbers\": \"strict\", \"coloraxis\": {\"colorbar\": {\"outlinewidth\": 0, \"ticks\": \"\"}}, \"colorscale\": {\"diverging\": [[0, \"#8e0152\"], [0.1, \"#c51b7d\"], [0.2, \"#de77ae\"], [0.3, \"#f1b6da\"], [0.4, \"#fde0ef\"], [0.5, \"#f7f7f7\"], [0.6, \"#e6f5d0\"], [0.7, \"#b8e186\"], [0.8, \"#7fbc41\"], [0.9, \"#4d9221\"], [1, \"#276419\"]], \"sequential\": [[0.0, \"#0d0887\"], [0.1111111111111111, \"#46039f\"], [0.2222222222222222, \"#7201a8\"], [0.3333333333333333, \"#9c179e\"], [0.4444444444444444, \"#bd3786\"], [0.5555555555555556, \"#d8576b\"], [0.6666666666666666, \"#ed7953\"], [0.7777777777777778, \"#fb9f3a\"], [0.8888888888888888, \"#fdca26\"], [1.0, \"#f0f921\"]], \"sequentialminus\": [[0.0, \"#0d0887\"], [0.1111111111111111, \"#46039f\"], [0.2222222222222222, \"#7201a8\"], [0.3333333333333333, \"#9c179e\"], [0.4444444444444444, \"#bd3786\"], [0.5555555555555556, \"#d8576b\"], [0.6666666666666666, \"#ed7953\"], [0.7777777777777778, \"#fb9f3a\"], [0.8888888888888888, \"#fdca26\"], [1.0, \"#f0f921\"]]}, \"colorway\": [\"#636efa\", \"#EF553B\", \"#00cc96\", \"#ab63fa\", \"#FFA15A\", \"#19d3f3\", \"#FF6692\", \"#B6E880\", \"#FF97FF\", \"#FECB52\"], \"font\": {\"color\": \"#2a3f5f\"}, \"geo\": {\"bgcolor\": \"white\", \"lakecolor\": \"white\", \"landcolor\": \"#E5ECF6\", \"showlakes\": true, \"showland\": true, \"subunitcolor\": \"white\"}, \"hoverlabel\": {\"align\": \"left\"}, \"hovermode\": \"closest\", \"mapbox\": {\"style\": \"light\"}, \"paper_bgcolor\": \"white\", \"plot_bgcolor\": \"#E5ECF6\", \"polar\": {\"angularaxis\": {\"gridcolor\": \"white\", \"linecolor\": \"white\", \"ticks\": \"\"}, \"bgcolor\": \"#E5ECF6\", \"radialaxis\": {\"gridcolor\": \"white\", \"linecolor\": \"white\", \"ticks\": \"\"}}, \"scene\": {\"xaxis\": {\"backgroundcolor\": \"#E5ECF6\", \"gridcolor\": \"white\", \"gridwidth\": 2, \"linecolor\": \"white\", \"showbackground\": true, \"ticks\": \"\", \"zerolinecolor\": \"white\"}, \"yaxis\": {\"backgroundcolor\": \"#E5ECF6\", \"gridcolor\": \"white\", \"gridwidth\": 2, \"linecolor\": \"white\", \"showbackground\": true, \"ticks\": \"\", \"zerolinecolor\": \"white\"}, \"zaxis\": {\"backgroundcolor\": \"#E5ECF6\", \"gridcolor\": \"white\", \"gridwidth\": 2, \"linecolor\": \"white\", \"showbackground\": true, \"ticks\": \"\", \"zerolinecolor\": \"white\"}}, \"shapedefaults\": {\"line\": {\"color\": \"#2a3f5f\"}}, \"ternary\": {\"aaxis\": {\"gridcolor\": \"white\", \"linecolor\": \"white\", \"ticks\": \"\"}, \"baxis\": {\"gridcolor\": \"white\", \"linecolor\": \"white\", \"ticks\": \"\"}, \"bgcolor\": \"#E5ECF6\", \"caxis\": {\"gridcolor\": \"white\", \"linecolor\": \"white\", \"ticks\": \"\"}}, \"title\": {\"x\": 0.05}, \"xaxis\": {\"automargin\": true, \"gridcolor\": \"white\", \"linecolor\": \"white\", \"ticks\": \"\", \"title\": {\"standoff\": 15}, \"zerolinecolor\": \"white\", \"zerolinewidth\": 2}, \"yaxis\": {\"automargin\": true, \"gridcolor\": \"white\", \"linecolor\": \"white\", \"ticks\": \"\", \"title\": {\"standoff\": 15}, \"zerolinecolor\": \"white\", \"zerolinewidth\": 2}}}, \"xaxis\": {\"anchor\": \"y\", \"domain\": [0.0, 1.0], \"title\": {\"text\": \"chol\"}, \"type\": \"log\"}, \"yaxis\": {\"anchor\": \"x\", \"domain\": [0.0, 1.0], \"title\": {\"text\": \"thalach\"}}},                        {\"responsive\": true}                    ).then(function(){\n",
       "                            Plotly.addFrames('8a5e8ff3-2c73-4309-8a8e-0bf9c24b4888', [{\"data\": [{\"hovertemplate\": \"<b>%{hovertext}</b><br><br>age=52<br>chol=%{x}<br>thalach=%{y}<br>sex=%{marker.color}<extra></extra>\", \"hovertext\": [1.0, 1.0, 1.0, 1.0, 1.0, 1.0, 1.0, 1.0, 1.0, 1.0, 1.0, 0.0, 1.0, 1.0, 1.0, 1.0, 1.0, 1.0, 1.0, 1.0, 1.0, 1.0, 1.0, 1.0, 1.0, 1.0, 1.0, 1.0, 1.0, 1.0, 1.0, 1.0, 1.0, 1.0, 1.0, 0.0, 0.0, 1.0, 1.0, 1.0, 1.0, 1.0, 1.0], \"ids\": [1, 1, 1, 1, 1, 1, 1, 1, 1, 1, 1, 0, 1, 1, 1, 1, 1, 1, 1, 1, 1, 1, 1, 1, 1, 1, 1, 1, 1, 1, 1, 1, 1, 1, 1, 0, 0, 1, 1, 1, 1, 1, 1], \"legendgroup\": \"\", \"marker\": {\"color\": [1, 1, 1, 1, 1, 1, 1, 1, 1, 1, 1, 0, 1, 1, 1, 1, 1, 1, 1, 1, 1, 1, 1, 1, 1, 1, 1, 1, 1, 1, 1, 1, 1, 1, 1, 0, 0, 1, 1, 1, 1, 1, 1], \"coloraxis\": \"coloraxis\", \"symbol\": \"circle\"}, \"mode\": \"markers\", \"name\": \"\", \"orientation\": \"v\", \"showlegend\": false, \"x\": [212, 204, 201, 201, 186, 223, 298, 298, 205, 223, 325, 196, 199, 186, 223, 205, 230, 186, 325, 298, 212, 212, 204, 233, 230, 204, 255, 230, 199, 255, 255, 230, 212, 204, 201, 196, 196, 233, 325, 199, 186, 205, 233], \"xaxis\": \"x\", \"y\": [168, 156, 158, 158, 190, 169, 178, 178, 184, 169, 172, 169, 162, 190, 169, 184, 160, 190, 172, 178, 168, 168, 156, 147, 160, 156, 161, 160, 162, 161, 161, 160, 168, 156, 158, 169, 169, 147, 172, 162, 190, 184, 147], \"yaxis\": \"y\", \"type\": \"scatter\"}], \"name\": \"52\"}, {\"data\": [{\"hovertemplate\": \"<b>%{hovertext}</b><br><br>age=53<br>chol=%{x}<br>thalach=%{y}<br>sex=%{marker.color}<extra></extra>\", \"hovertext\": [1.0, 1.0, 1.0, 1.0, 1.0, 1.0, 0.0, 0.0, 0.0, 0.0, 1.0, 1.0, 1.0, 0.0, 1.0, 0.0, 0.0, 1.0, 1.0, 1.0, 1.0, 0.0, 1.0, 0.0, 1.0, 1.0], \"ids\": [1, 1, 1, 1, 1, 1, 0, 0, 0, 0, 1, 1, 1, 0, 1, 0, 0, 1, 1, 1, 1, 0, 1, 0, 1, 1], \"legendgroup\": \"\", \"marker\": {\"color\": [1, 1, 1, 1, 1, 1, 0, 0, 0, 0, 1, 1, 1, 0, 1, 0, 0, 1, 1, 1, 1, 0, 1, 0, 1, 1], \"coloraxis\": \"coloraxis\", \"symbol\": \"circle\"}, \"mode\": \"markers\", \"name\": \"\", \"orientation\": \"v\", \"showlegend\": false, \"x\": [203, 197, 282, 226, 197, 282, 216, 264, 216, 216, 246, 246, 246, 234, 197, 234, 264, 203, 282, 226, 203, 234, 226, 264, 203, 282], \"xaxis\": \"x\", \"y\": [155, 152, 95, 111, 152, 95, 115, 143, 115, 115, 173, 173, 173, 160, 152, 160, 143, 155, 95, 111, 155, 160, 111, 143, 155, 95], \"yaxis\": \"y\", \"type\": \"scatter\"}], \"name\": \"53\"}, {\"data\": [{\"hovertemplate\": \"<b>%{hovertext}</b><br><br>age=70<br>chol=%{x}<br>thalach=%{y}<br>sex=%{marker.color}<extra></extra>\", \"hovertext\": [1.0, 1.0, 1.0, 1.0, 1.0, 1.0, 1.0, 1.0, 1.0, 1.0, 1.0, 1.0, 1.0, 1.0], \"ids\": [1, 1, 1, 1, 1, 1, 1, 1, 1, 1, 1, 1, 1, 1], \"legendgroup\": \"\", \"marker\": {\"color\": [1, 1, 1, 1, 1, 1, 1, 1, 1, 1, 1, 1, 1, 1], \"coloraxis\": \"coloraxis\", \"symbol\": \"circle\"}, \"mode\": \"markers\", \"name\": \"\", \"orientation\": \"v\", \"showlegend\": false, \"x\": [174, 269, 269, 322, 245, 322, 322, 322, 269, 245, 245, 174, 174, 174], \"xaxis\": \"x\", \"y\": [125, 112, 112, 109, 143, 109, 109, 109, 112, 143, 143, 125, 125, 125], \"yaxis\": \"y\", \"type\": \"scatter\"}], \"name\": \"70\"}, {\"data\": [{\"hovertemplate\": \"<b>%{hovertext}</b><br><br>age=61<br>chol=%{x}<br>thalach=%{y}<br>sex=%{marker.color}<extra></extra>\", \"hovertext\": [1.0, 0.0, 0.0, 1.0, 0.0, 1.0, 1.0, 1.0, 1.0, 1.0, 1.0, 1.0, 1.0, 1.0, 1.0, 0.0, 1.0, 1.0, 1.0, 1.0, 0.0, 0.0, 0.0, 1.0, 1.0, 1.0, 1.0, 1.0, 1.0, 1.0, 0.0], \"ids\": [1, 0, 0, 1, 0, 1, 1, 1, 1, 1, 1, 1, 1, 1, 1, 0, 1, 1, 1, 1, 0, 0, 0, 1, 1, 1, 1, 1, 1, 1, 0], \"legendgroup\": \"\", \"marker\": {\"color\": [1, 0, 0, 1, 0, 1, 1, 1, 1, 1, 1, 1, 1, 1, 1, 0, 1, 1, 1, 1, 0, 0, 0, 1, 1, 1, 1, 1, 1, 1, 0], \"coloraxis\": \"coloraxis\", \"symbol\": \"circle\"}, \"mode\": \"markers\", \"name\": \"\", \"orientation\": \"v\", \"showlegend\": false, \"x\": [203, 307, 330, 207, 307, 260, 234, 243, 260, 207, 243, 243, 260, 203, 203, 307, 203, 234, 166, 166, 330, 330, 307, 234, 207, 166, 166, 207, 260, 234, 330], \"xaxis\": \"x\", \"y\": [161, 146, 169, 138, 146, 140, 145, 137, 140, 138, 137, 137, 140, 161, 161, 146, 161, 145, 125, 125, 169, 169, 146, 145, 138, 125, 125, 138, 140, 145, 169], \"yaxis\": \"y\", \"type\": \"scatter\"}], \"name\": \"61\"}, {\"data\": [{\"hovertemplate\": \"<b>%{hovertext}</b><br><br>age=62<br>chol=%{x}<br>thalach=%{y}<br>sex=%{marker.color}<extra></extra>\", \"hovertext\": [0.0, 0.0, 0.0, 0.0, 1.0, 1.0, 0.0, 1.0, 0.0, 0.0, 1.0, 0.0, 1.0, 0.0, 0.0, 0.0, 1.0, 0.0, 0.0, 0.0, 0.0, 0.0, 0.0, 1.0, 0.0, 0.0, 1.0, 1.0, 0.0, 1.0, 0.0, 0.0, 0.0, 1.0, 0.0, 1.0, 1.0], \"ids\": [0, 0, 0, 0, 1, 1, 0, 1, 0, 0, 1, 0, 1, 0, 0, 0, 1, 0, 0, 0, 0, 0, 0, 1, 0, 0, 1, 1, 0, 1, 0, 0, 0, 1, 0, 1, 1], \"legendgroup\": \"\", \"marker\": {\"color\": [0, 0, 0, 0, 1, 1, 0, 1, 0, 0, 1, 0, 1, 0, 0, 0, 1, 0, 0, 0, 0, 0, 0, 1, 0, 0, 1, 1, 0, 1, 0, 0, 0, 1, 0, 1, 1], \"coloraxis\": \"coloraxis\", \"symbol\": \"circle\"}, \"mode\": \"markers\", \"name\": \"\", \"orientation\": \"v\", \"showlegend\": false, \"x\": [294, 164, 268, 209, 208, 281, 209, 281, 244, 394, 267, 263, 231, 164, 209, 244, 281, 164, 209, 394, 394, 263, 294, 267, 244, 294, 281, 208, 268, 208, 268, 263, 268, 267, 263, 231, 231], \"xaxis\": \"x\", \"y\": [106, 145, 160, 163, 140, 103, 163, 103, 154, 157, 99, 97, 146, 145, 163, 154, 103, 145, 163, 157, 157, 97, 106, 99, 154, 106, 103, 140, 160, 140, 160, 97, 160, 99, 97, 146, 146], \"yaxis\": \"y\", \"type\": \"scatter\"}], \"name\": \"62\"}, {\"data\": [{\"hovertemplate\": \"<b>%{hovertext}</b><br><br>age=58<br>chol=%{x}<br>thalach=%{y}<br>sex=%{marker.color}<extra></extra>\", \"hovertext\": [0.0, 1.0, 1.0, 0.0, 0.0, 1.0, 0.0, 1.0, 1.0, 1.0, 1.0, 0.0, 1.0, 1.0, 0.0, 1.0, 1.0, 1.0, 1.0, 1.0, 1.0, 1.0, 1.0, 1.0, 0.0, 1.0, 1.0, 0.0, 1.0, 0.0, 1.0, 1.0, 1.0, 1.0, 1.0, 0.0, 1.0, 1.0, 0.0, 0.0, 1.0, 0.0, 0.0, 1.0, 0.0, 1.0, 1.0, 1.0, 1.0, 1.0, 1.0, 1.0, 0.0, 1.0, 0.0, 1.0, 0.0, 1.0, 1.0, 0.0, 1.0, 0.0, 1.0, 0.0, 1.0, 1.0, 1.0, 1.0], \"ids\": [0, 1, 1, 0, 0, 1, 0, 1, 1, 1, 1, 0, 1, 1, 0, 1, 1, 1, 1, 1, 1, 1, 1, 1, 0, 1, 1, 0, 1, 0, 1, 1, 1, 1, 1, 0, 1, 1, 0, 0, 1, 0, 0, 1, 0, 1, 1, 1, 1, 1, 1, 1, 0, 1, 0, 1, 0, 1, 1, 0, 1, 0, 1, 0, 1, 1, 1, 1], \"legendgroup\": \"\", \"marker\": {\"color\": [0, 1, 1, 0, 0, 1, 0, 1, 1, 1, 1, 0, 1, 1, 0, 1, 1, 1, 1, 1, 1, 1, 1, 1, 0, 1, 1, 0, 1, 0, 1, 1, 1, 1, 1, 0, 1, 1, 0, 0, 1, 0, 0, 1, 0, 1, 1, 1, 1, 1, 1, 1, 0, 1, 0, 1, 0, 1, 1, 0, 1, 0, 1, 0, 1, 1, 1, 1], \"coloraxis\": \"coloraxis\", \"symbol\": \"circle\"}, \"mode\": \"markers\", \"name\": \"\", \"orientation\": \"v\", \"showlegend\": false, \"x\": [248, 318, 211, 319, 283, 211, 225, 318, 300, 234, 300, 225, 224, 224, 340, 259, 270, 270, 230, 240, 284, 218, 224, 270, 319, 211, 234, 319, 284, 197, 216, 220, 230, 259, 234, 197, 218, 284, 340, 225, 224, 340, 197, 318, 248, 234, 300, 240, 216, 300, 220, 220, 283, 218, 197, 240, 225, 220, 230, 283, 284, 319, 218, 248, 259, 211, 318, 216], \"xaxis\": \"x\", \"y\": [122, 140, 165, 152, 162, 165, 146, 140, 171, 156, 171, 146, 173, 173, 172, 130, 111, 111, 165, 154, 160, 105, 173, 111, 152, 165, 156, 152, 160, 131, 131, 144, 165, 130, 156, 131, 105, 160, 172, 146, 173, 172, 131, 140, 122, 156, 171, 154, 131, 171, 144, 144, 162, 105, 131, 154, 146, 144, 165, 162, 160, 152, 105, 122, 130, 165, 140, 131], \"yaxis\": \"y\", \"type\": \"scatter\"}], \"name\": \"58\"}, {\"data\": [{\"hovertemplate\": \"<b>%{hovertext}</b><br><br>age=55<br>chol=%{x}<br>thalach=%{y}<br>sex=%{marker.color}<extra></extra>\", \"hovertext\": [1.0, 0.0, 0.0, 1.0, 1.0, 0.0, 1.0, 0.0, 1.0, 0.0, 1.0, 1.0, 1.0, 0.0, 1.0, 1.0, 0.0, 0.0, 1.0, 0.0, 0.0, 0.0, 0.0, 1.0, 1.0, 1.0, 0.0, 1.0, 0.0, 0.0], \"ids\": [1, 0, 0, 1, 1, 0, 1, 0, 1, 0, 1, 1, 1, 0, 1, 1, 0, 0, 1, 0, 0, 0, 0, 1, 1, 1, 0, 1, 0, 0], \"legendgroup\": \"\", \"marker\": {\"color\": [1, 0, 0, 1, 1, 0, 1, 0, 1, 0, 1, 1, 1, 0, 1, 1, 0, 0, 1, 0, 0, 0, 0, 1, 1, 1, 0, 1, 0, 0], \"coloraxis\": \"coloraxis\", \"symbol\": \"circle\"}, \"mode\": \"markers\", \"name\": \"\", \"orientation\": \"v\", \"showlegend\": false, \"x\": [289, 327, 342, 217, 217, 342, 353, 342, 289, 342, 353, 289, 353, 327, 262, 353, 327, 205, 217, 250, 205, 250, 250, 262, 289, 217, 205, 262, 327, 205], \"xaxis\": \"x\", \"y\": [145, 117, 166, 111, 111, 166, 132, 166, 145, 166, 132, 145, 132, 117, 155, 132, 117, 130, 111, 161, 130, 161, 161, 155, 145, 111, 130, 155, 117, 130], \"yaxis\": \"y\", \"type\": \"scatter\"}], \"name\": \"55\"}, {\"data\": [{\"hovertemplate\": \"<b>%{hovertext}</b><br><br>age=46<br>chol=%{x}<br>thalach=%{y}<br>sex=%{marker.color}<extra></extra>\", \"hovertext\": [1.0, 1.0, 1.0, 1.0, 1.0, 1.0, 0.0, 0.0, 0.0, 0.0, 0.0, 1.0, 0.0, 0.0, 1.0, 1.0, 1.0, 0.0, 1.0, 0.0, 1.0, 1.0, 1.0], \"ids\": [1, 1, 1, 1, 1, 1, 0, 0, 0, 0, 0, 1, 0, 0, 1, 1, 1, 0, 1, 0, 1, 1, 1], \"legendgroup\": \"\", \"marker\": {\"color\": [1, 1, 1, 1, 1, 1, 0, 0, 0, 0, 0, 1, 0, 0, 1, 1, 1, 0, 1, 0, 1, 1, 1], \"coloraxis\": \"coloraxis\", \"symbol\": \"circle\"}, \"mode\": \"markers\", \"name\": \"\", \"orientation\": \"v\", \"showlegend\": false, \"x\": [249, 231, 249, 231, 311, 311, 204, 243, 177, 204, 243, 231, 177, 177, 249, 197, 311, 243, 311, 204, 197, 197, 249], \"xaxis\": \"x\", \"y\": [144, 147, 144, 147, 120, 120, 172, 152, 160, 172, 152, 147, 160, 160, 144, 156, 120, 152, 120, 172, 156, 156, 144], \"yaxis\": \"y\", \"type\": \"scatter\"}], \"name\": \"46\"}, {\"data\": [{\"hovertemplate\": \"<b>%{hovertext}</b><br><br>age=54<br>chol=%{x}<br>thalach=%{y}<br>sex=%{marker.color}<extra></extra>\", \"hovertext\": [1.0, 1.0, 1.0, 0.0, 1.0, 1.0, 1.0, 1.0, 1.0, 1.0, 1.0, 1.0, 1.0, 1.0, 1.0, 0.0, 1.0, 1.0, 1.0, 1.0, 0.0, 1.0, 0.0, 0.0, 1.0, 0.0, 0.0, 1.0, 0.0, 1.0, 0.0, 1.0, 1.0, 0.0, 0.0, 1.0, 1.0, 0.0, 1.0, 1.0, 1.0, 0.0, 1.0, 1.0, 1.0, 1.0, 1.0, 1.0, 1.0, 0.0, 0.0, 1.0, 1.0], \"ids\": [1, 1, 1, 0, 1, 1, 1, 1, 1, 1, 1, 1, 1, 1, 1, 0, 1, 1, 1, 1, 0, 1, 0, 0, 1, 0, 0, 1, 0, 1, 0, 1, 1, 0, 0, 1, 1, 0, 1, 1, 1, 0, 1, 1, 1, 1, 1, 1, 1, 0, 0, 1, 1], \"legendgroup\": \"\", \"marker\": {\"color\": [1, 1, 1, 0, 1, 1, 1, 1, 1, 1, 1, 1, 1, 1, 1, 0, 1, 1, 1, 1, 0, 1, 0, 0, 1, 0, 0, 1, 0, 1, 0, 1, 1, 0, 0, 1, 1, 0, 1, 1, 1, 0, 1, 1, 1, 1, 1, 1, 1, 0, 0, 1, 1], \"coloraxis\": \"coloraxis\", \"symbol\": \"circle\"}, \"mode\": \"markers\", \"name\": \"\", \"orientation\": \"v\", \"showlegend\": false, \"x\": [286, 266, 258, 267, 309, 206, 309, 309, 283, 258, 309, 258, 239, 286, 232, 288, 283, 232, 206, 283, 214, 273, 267, 214, 273, 201, 288, 239, 288, 206, 267, 273, 286, 201, 304, 286, 258, 304, 232, 239, 239, 214, 239, 266, 188, 239, 239, 206, 266, 201, 304, 188, 188], \"xaxis\": \"x\", \"y\": [116, 109, 147, 167, 156, 108, 156, 156, 195, 147, 156, 147, 126, 116, 165, 159, 195, 165, 108, 195, 158, 152, 167, 158, 152, 163, 159, 160, 159, 108, 167, 152, 116, 163, 170, 116, 147, 170, 165, 126, 126, 158, 160, 109, 113, 126, 160, 108, 109, 163, 170, 113, 113], \"yaxis\": \"y\", \"type\": \"scatter\"}], \"name\": \"54\"}, {\"data\": [{\"hovertemplate\": \"<b>%{hovertext}</b><br><br>age=71<br>chol=%{x}<br>thalach=%{y}<br>sex=%{marker.color}<extra></extra>\", \"hovertext\": [0.0, 0.0, 0.0, 0.0, 0.0, 0.0, 0.0, 0.0, 0.0, 0.0, 0.0], \"ids\": [0, 0, 0, 0, 0, 0, 0, 0, 0, 0, 0], \"legendgroup\": \"\", \"marker\": {\"color\": [0, 0, 0, 0, 0, 0, 0, 0, 0, 0, 0], \"coloraxis\": \"coloraxis\", \"symbol\": \"circle\"}, \"mode\": \"markers\", \"name\": \"\", \"orientation\": \"v\", \"showlegend\": false, \"x\": [149, 265, 265, 302, 149, 149, 265, 149, 302, 265, 302], \"xaxis\": \"x\", \"y\": [125, 130, 130, 162, 125, 125, 130, 125, 162, 130, 162], \"yaxis\": \"y\", \"type\": \"scatter\"}], \"name\": \"71\"}, {\"data\": [{\"hovertemplate\": \"<b>%{hovertext}</b><br><br>age=43<br>chol=%{x}<br>thalach=%{y}<br>sex=%{marker.color}<extra></extra>\", \"hovertext\": [0.0, 0.0, 1.0, 1.0, 1.0, 1.0, 1.0, 1.0, 0.0, 0.0, 1.0, 1.0, 1.0, 1.0, 0.0, 1.0, 1.0, 0.0, 1.0, 1.0, 1.0, 1.0, 0.0, 1.0, 1.0, 1.0], \"ids\": [0, 0, 1, 1, 1, 1, 1, 1, 0, 0, 1, 1, 1, 1, 0, 1, 1, 0, 1, 1, 1, 1, 0, 1, 1, 1], \"legendgroup\": \"\", \"marker\": {\"color\": [0, 0, 1, 1, 1, 1, 1, 1, 0, 0, 1, 1, 1, 1, 0, 1, 1, 0, 1, 1, 1, 1, 0, 1, 1, 1], \"coloraxis\": \"coloraxis\", \"symbol\": \"circle\"}, \"mode\": \"markers\", \"name\": \"\", \"orientation\": \"v\", \"showlegend\": false, \"x\": [341, 213, 177, 315, 247, 315, 211, 247, 213, 341, 247, 247, 211, 177, 341, 247, 177, 341, 303, 177, 303, 303, 213, 315, 211, 247], \"xaxis\": \"x\", \"y\": [136, 165, 120, 162, 171, 162, 161, 143, 165, 136, 143, 171, 161, 120, 136, 171, 120, 136, 181, 120, 181, 181, 165, 162, 161, 143], \"yaxis\": \"y\", \"type\": \"scatter\"}], \"name\": \"43\"}, {\"data\": [{\"hovertemplate\": \"<b>%{hovertext}</b><br><br>age=34<br>chol=%{x}<br>thalach=%{y}<br>sex=%{marker.color}<extra></extra>\", \"hovertext\": [0.0, 0.0, 1.0, 1.0, 1.0, 0.0], \"ids\": [0, 0, 1, 1, 1, 0], \"legendgroup\": \"\", \"marker\": {\"color\": [0, 0, 1, 1, 1, 0], \"coloraxis\": \"coloraxis\", \"symbol\": \"circle\"}, \"mode\": \"markers\", \"name\": \"\", \"orientation\": \"v\", \"showlegend\": false, \"x\": [210, 210, 182, 182, 182, 210], \"xaxis\": \"x\", \"y\": [192, 192, 174, 174, 174, 192], \"yaxis\": \"y\", \"type\": \"scatter\"}], \"name\": \"34\"}, {\"data\": [{\"hovertemplate\": \"<b>%{hovertext}</b><br><br>age=51<br>chol=%{x}<br>thalach=%{y}<br>sex=%{marker.color}<extra></extra>\", \"hovertext\": [1.0, 0.0, 1.0, 1.0, 0.0, 0.0, 1.0, 1.0, 1.0, 1.0, 1.0, 1.0, 1.0, 0.0, 0.0, 1.0, 0.0, 1.0, 1.0, 0.0, 0.0, 0.0, 1.0, 1.0, 1.0, 1.0, 0.0, 1.0, 1.0, 1.0, 1.0, 1.0, 1.0, 1.0, 1.0, 0.0, 1.0, 0.0, 1.0], \"ids\": [1, 0, 1, 1, 0, 0, 1, 1, 1, 1, 1, 1, 1, 0, 0, 1, 0, 1, 1, 0, 0, 0, 1, 1, 1, 1, 0, 1, 1, 1, 1, 1, 1, 1, 1, 0, 1, 0, 1], \"legendgroup\": \"\", \"marker\": {\"color\": [1, 0, 1, 1, 0, 0, 1, 1, 1, 1, 1, 1, 1, 0, 0, 1, 0, 1, 1, 0, 0, 0, 1, 1, 1, 1, 0, 1, 1, 1, 1, 1, 1, 1, 1, 0, 1, 0, 1], \"coloraxis\": \"coloraxis\", \"symbol\": \"circle\"}, \"mode\": \"markers\", \"name\": \"\", \"orientation\": \"v\", \"showlegend\": false, \"x\": [298, 308, 213, 299, 256, 295, 222, 261, 245, 227, 175, 175, 175, 305, 295, 261, 305, 298, 245, 256, 295, 305, 227, 213, 227, 222, 256, 222, 298, 227, 222, 213, 261, 299, 299, 308, 245, 308, 299], \"xaxis\": \"x\", \"y\": [122, 142, 125, 173, 149, 157, 143, 186, 166, 154, 123, 123, 123, 142, 157, 186, 142, 122, 166, 149, 157, 142, 154, 125, 154, 143, 149, 143, 122, 154, 143, 125, 186, 173, 173, 142, 166, 142, 173], \"yaxis\": \"y\", \"type\": \"scatter\"}], \"name\": \"51\"}, {\"data\": [{\"hovertemplate\": \"<b>%{hovertext}</b><br><br>age=50<br>chol=%{x}<br>thalach=%{y}<br>sex=%{marker.color}<extra></extra>\", \"hovertext\": [0.0, 0.0, 1.0, 1.0, 1.0, 1.0, 1.0, 1.0, 1.0, 0.0, 0.0, 0.0, 1.0, 0.0, 1.0, 0.0, 1.0, 1.0, 1.0, 0.0, 0.0], \"ids\": [0, 0, 1, 1, 1, 1, 1, 1, 1, 0, 0, 0, 1, 0, 1, 0, 1, 1, 1, 0, 0], \"legendgroup\": \"\", \"marker\": {\"color\": [0, 0, 1, 1, 1, 1, 1, 1, 1, 0, 0, 0, 1, 0, 1, 0, 1, 1, 1, 0, 0], \"coloraxis\": \"coloraxis\", \"symbol\": \"circle\"}, \"mode\": \"markers\", \"name\": \"\", \"orientation\": \"v\", \"showlegend\": false, \"x\": [244, 244, 196, 233, 196, 200, 243, 243, 200, 219, 254, 219, 243, 219, 196, 244, 200, 233, 233, 254, 254], \"xaxis\": \"x\", \"y\": [162, 162, 163, 163, 163, 126, 128, 128, 126, 158, 159, 158, 128, 158, 163, 162, 126, 163, 163, 159, 159], \"yaxis\": \"y\", \"type\": \"scatter\"}], \"name\": \"50\"}, {\"data\": [{\"hovertemplate\": \"<b>%{hovertext}</b><br><br>age=60<br>chol=%{x}<br>thalach=%{y}<br>sex=%{marker.color}<extra></extra>\", \"hovertext\": [1.0, 1.0, 1.0, 0.0, 0.0, 1.0, 0.0, 1.0, 1.0, 1.0, 1.0, 1.0, 1.0, 0.0, 1.0, 0.0, 1.0, 0.0, 1.0, 1.0, 1.0, 1.0, 0.0, 0.0, 0.0, 1.0, 0.0, 1.0, 1.0, 0.0, 1.0, 0.0, 1.0, 0.0, 1.0, 1.0, 1.0], \"ids\": [1, 1, 1, 0, 0, 1, 0, 1, 1, 1, 1, 1, 1, 0, 1, 0, 1, 0, 1, 1, 1, 1, 0, 0, 0, 1, 0, 1, 1, 0, 1, 0, 1, 0, 1, 1, 1], \"legendgroup\": \"\", \"marker\": {\"color\": [1, 1, 1, 0, 0, 1, 0, 1, 1, 1, 1, 1, 1, 0, 1, 0, 1, 0, 1, 1, 1, 1, 0, 0, 0, 1, 0, 1, 1, 0, 1, 0, 1, 0, 1, 1, 1], \"coloraxis\": \"coloraxis\", \"symbol\": \"circle\"}, \"mode\": \"markers\", \"name\": \"\", \"orientation\": \"v\", \"showlegend\": false, \"x\": [185, 230, 282, 240, 240, 293, 318, 258, 230, 185, 282, 206, 253, 318, 293, 240, 206, 258, 282, 258, 253, 185, 178, 258, 318, 230, 178, 253, 293, 240, 206, 258, 206, 178, 293, 230, 258], \"xaxis\": \"x\", \"y\": [155, 160, 142, 171, 171, 170, 160, 141, 160, 155, 142, 132, 144, 160, 170, 171, 132, 157, 142, 141, 144, 155, 96, 157, 160, 160, 96, 144, 170, 171, 132, 157, 132, 96, 170, 160, 141], \"yaxis\": \"y\", \"type\": \"scatter\"}], \"name\": \"60\"}, {\"data\": [{\"hovertemplate\": \"<b>%{hovertext}</b><br><br>age=67<br>chol=%{x}<br>thalach=%{y}<br>sex=%{marker.color}<extra></extra>\", \"hovertext\": [0.0, 1.0, 1.0, 0.0, 0.0, 1.0, 1.0, 1.0, 1.0, 1.0, 1.0, 1.0, 1.0, 1.0, 1.0, 0.0, 1.0, 0.0, 0.0, 1.0, 1.0, 1.0, 0.0, 1.0, 1.0, 1.0, 1.0, 0.0, 1.0, 0.0, 1.0], \"ids\": [0, 1, 1, 0, 0, 1, 1, 1, 1, 1, 1, 1, 1, 1, 1, 0, 1, 0, 0, 1, 1, 1, 0, 1, 1, 1, 1, 0, 1, 0, 1], \"legendgroup\": \"\", \"marker\": {\"color\": [0, 1, 1, 0, 0, 1, 1, 1, 1, 1, 1, 1, 1, 1, 1, 0, 1, 0, 0, 1, 1, 1, 0, 1, 1, 1, 1, 0, 1, 0, 1], \"coloraxis\": \"coloraxis\", \"symbol\": \"circle\"}, \"mode\": \"markers\", \"name\": \"\", \"orientation\": \"v\", \"showlegend\": false, \"x\": [223, 212, 299, 564, 564, 286, 299, 212, 237, 299, 237, 286, 237, 212, 229, 564, 286, 277, 223, 254, 237, 212, 277, 229, 254, 229, 229, 277, 286, 223, 254], \"xaxis\": \"x\", \"y\": [142, 150, 125, 160, 160, 108, 125, 150, 71, 125, 71, 108, 71, 150, 129, 160, 108, 172, 142, 163, 71, 150, 172, 129, 163, 129, 129, 172, 108, 142, 163], \"yaxis\": \"y\", \"type\": \"scatter\"}], \"name\": \"67\"}, {\"data\": [{\"hovertemplate\": \"<b>%{hovertext}</b><br><br>age=45<br>chol=%{x}<br>thalach=%{y}<br>sex=%{marker.color}<extra></extra>\", \"hovertext\": [1.0, 0.0, 0.0, 1.0, 1.0, 1.0, 0.0, 1.0, 0.0, 1.0, 1.0, 1.0, 0.0, 1.0, 0.0, 0.0, 1.0, 0.0, 1.0, 0.0, 1.0, 1.0, 0.0, 1.0, 1.0], \"ids\": [1, 0, 0, 1, 1, 1, 0, 1, 0, 1, 1, 1, 0, 1, 0, 0, 1, 0, 1, 0, 1, 1, 0, 1, 1], \"legendgroup\": \"\", \"marker\": {\"color\": [1, 0, 0, 1, 1, 1, 0, 1, 0, 1, 1, 1, 0, 1, 0, 0, 1, 0, 1, 0, 1, 1, 0, 1, 1], \"coloraxis\": \"coloraxis\", \"symbol\": \"circle\"}, \"mode\": \"markers\", \"name\": \"\", \"orientation\": \"v\", \"showlegend\": false, \"x\": [208, 236, 160, 308, 260, 308, 160, 208, 234, 309, 264, 309, 234, 264, 234, 234, 264, 160, 260, 236, 260, 208, 236, 309, 308], \"xaxis\": \"x\", \"y\": [148, 152, 138, 170, 185, 170, 138, 148, 175, 147, 132, 147, 175, 132, 175, 175, 132, 138, 185, 152, 185, 148, 152, 147, 170], \"yaxis\": \"y\", \"type\": \"scatter\"}], \"name\": \"45\"}, {\"data\": [{\"hovertemplate\": \"<b>%{hovertext}</b><br><br>age=63<br>chol=%{x}<br>thalach=%{y}<br>sex=%{marker.color}<extra></extra>\", \"hovertext\": [0.0, 1.0, 1.0, 1.0, 0.0, 1.0, 1.0, 1.0, 1.0, 0.0, 0.0, 1.0, 1.0, 1.0, 0.0, 0.0, 0.0, 0.0, 0.0, 0.0, 0.0, 1.0, 1.0, 0.0, 0.0, 1.0, 1.0, 1.0, 0.0, 0.0, 0.0, 0.0], \"ids\": [0, 1, 1, 1, 0, 1, 1, 1, 1, 0, 0, 1, 1, 1, 0, 0, 0, 0, 0, 0, 0, 1, 1, 0, 0, 1, 1, 1, 0, 0, 0, 0], \"legendgroup\": \"\", \"marker\": {\"color\": [0, 1, 1, 1, 0, 1, 1, 1, 1, 0, 0, 1, 1, 1, 0, 0, 0, 0, 0, 0, 0, 1, 1, 0, 0, 1, 1, 1, 0, 0, 0, 0], \"coloraxis\": \"coloraxis\", \"symbol\": \"circle\"}, \"mode\": \"markers\", \"name\": \"\", \"orientation\": \"v\", \"showlegend\": false, \"x\": [252, 187, 187, 254, 197, 330, 187, 254, 254, 252, 269, 233, 330, 233, 407, 407, 197, 269, 269, 195, 195, 330, 254, 407, 195, 330, 187, 233, 197, 252, 407, 269], \"xaxis\": \"x\", \"y\": [172, 144, 144, 147, 136, 132, 144, 147, 147, 172, 169, 150, 132, 150, 154, 154, 136, 169, 169, 179, 179, 132, 147, 154, 179, 132, 144, 150, 136, 172, 154, 169], \"yaxis\": \"y\", \"type\": \"scatter\"}], \"name\": \"63\"}, {\"data\": [{\"hovertemplate\": \"<b>%{hovertext}</b><br><br>age=42<br>chol=%{x}<br>thalach=%{y}<br>sex=%{marker.color}<extra></extra>\", \"hovertext\": [0.0, 1.0, 1.0, 1.0, 1.0, 1.0, 1.0, 1.0, 1.0, 0.0, 0.0, 0.0, 1.0, 1.0, 1.0, 1.0, 1.0, 1.0, 0.0, 0.0, 1.0, 1.0, 1.0, 1.0, 1.0, 1.0], \"ids\": [0, 1, 1, 1, 1, 1, 1, 1, 1, 0, 0, 0, 1, 1, 1, 1, 1, 1, 0, 0, 1, 1, 1, 1, 1, 1], \"legendgroup\": \"\", \"marker\": {\"color\": [0, 1, 1, 1, 1, 1, 1, 1, 1, 0, 0, 0, 1, 1, 1, 1, 1, 1, 0, 0, 1, 1, 1, 1, 1, 1], \"coloraxis\": \"coloraxis\", \"symbol\": \"circle\"}, \"mode\": \"markers\", \"name\": \"\", \"orientation\": \"v\", \"showlegend\": false, \"x\": [209, 226, 315, 295, 180, 244, 240, 180, 244, 209, 265, 209, 240, 315, 295, 244, 180, 315, 265, 265, 226, 240, 180, 315, 226, 295], \"xaxis\": \"x\", \"y\": [173, 178, 125, 162, 150, 178, 194, 150, 178, 173, 122, 173, 194, 125, 162, 178, 150, 125, 122, 122, 178, 194, 150, 125, 178, 162], \"yaxis\": \"y\", \"type\": \"scatter\"}], \"name\": \"42\"}, {\"data\": [{\"hovertemplate\": \"<b>%{hovertext}</b><br><br>age=44<br>chol=%{x}<br>thalach=%{y}<br>sex=%{marker.color}<extra></extra>\", \"hovertext\": [1.0, 1.0, 1.0, 1.0, 1.0, 1.0, 1.0, 0.0, 1.0, 1.0, 1.0, 1.0, 0.0, 1.0, 1.0, 1.0, 0.0, 1.0, 1.0, 1.0, 1.0, 1.0, 1.0, 1.0, 1.0, 0.0, 1.0, 1.0, 1.0, 1.0, 1.0, 1.0, 0.0, 1.0, 1.0, 0.0], \"ids\": [1, 1, 1, 1, 1, 1, 1, 0, 1, 1, 1, 1, 0, 1, 1, 1, 0, 1, 1, 1, 1, 1, 1, 1, 1, 0, 1, 1, 1, 1, 1, 1, 0, 1, 1, 0], \"legendgroup\": \"\", \"marker\": {\"color\": [1, 1, 1, 1, 1, 1, 1, 0, 1, 1, 1, 1, 0, 1, 1, 1, 0, 1, 1, 1, 1, 1, 1, 1, 1, 0, 1, 1, 1, 1, 1, 1, 0, 1, 1, 0], \"coloraxis\": \"coloraxis\", \"symbol\": \"circle\"}, \"mode\": \"markers\", \"name\": \"\", \"orientation\": \"v\", \"showlegend\": false, \"x\": [233, 169, 220, 169, 197, 169, 197, 242, 219, 226, 263, 219, 242, 220, 226, 219, 242, 290, 220, 235, 290, 290, 235, 226, 220, 141, 235, 226, 169, 233, 233, 263, 141, 197, 263, 141], \"xaxis\": \"x\", \"y\": [179, 144, 170, 144, 177, 144, 177, 149, 188, 169, 173, 188, 149, 170, 169, 188, 149, 153, 170, 180, 153, 153, 180, 169, 170, 175, 180, 169, 144, 179, 179, 173, 175, 177, 173, 175], \"yaxis\": \"y\", \"type\": \"scatter\"}], \"name\": \"44\"}, {\"data\": [{\"hovertemplate\": \"<b>%{hovertext}</b><br><br>age=56<br>chol=%{x}<br>thalach=%{y}<br>sex=%{marker.color}<extra></extra>\", \"hovertext\": [1.0, 1.0, 1.0, 1.0, 1.0, 1.0, 1.0, 0.0, 1.0, 0.0, 1.0, 1.0, 1.0, 1.0, 0.0, 0.0, 0.0, 1.0, 1.0, 1.0, 0.0, 1.0, 0.0, 1.0, 0.0, 0.0, 1.0, 1.0, 1.0, 1.0, 1.0, 1.0, 1.0, 1.0, 1.0, 1.0, 1.0, 0.0, 1.0], \"ids\": [1, 1, 1, 1, 1, 1, 1, 0, 1, 0, 1, 1, 1, 1, 0, 0, 0, 1, 1, 1, 0, 1, 0, 1, 0, 0, 1, 1, 1, 1, 1, 1, 1, 1, 1, 1, 1, 0, 1], \"legendgroup\": \"\", \"marker\": {\"color\": [1, 1, 1, 1, 1, 1, 1, 0, 1, 0, 1, 1, 1, 1, 0, 0, 0, 1, 1, 1, 0, 1, 0, 1, 0, 0, 1, 1, 1, 1, 1, 1, 1, 1, 1, 1, 1, 0, 1], \"coloraxis\": \"coloraxis\", \"symbol\": \"circle\"}, \"mode\": \"markers\", \"name\": \"\", \"orientation\": \"v\", \"showlegend\": false, \"x\": [256, 193, 249, 249, 184, 283, 240, 288, 283, 409, 249, 221, 236, 283, 288, 294, 294, 256, 256, 249, 288, 184, 409, 283, 288, 294, 221, 256, 221, 221, 240, 184, 240, 236, 240, 193, 236, 409, 193], \"xaxis\": \"x\", \"y\": [142, 162, 144, 144, 105, 103, 169, 133, 103, 150, 144, 163, 178, 103, 133, 153, 153, 142, 142, 144, 133, 105, 150, 103, 133, 153, 163, 142, 163, 163, 169, 105, 169, 178, 169, 162, 178, 150, 162], \"yaxis\": \"y\", \"type\": \"scatter\"}], \"name\": \"56\"}, {\"data\": [{\"hovertemplate\": \"<b>%{hovertext}</b><br><br>age=57<br>chol=%{x}<br>thalach=%{y}<br>sex=%{marker.color}<extra></extra>\", \"hovertext\": [1.0, 1.0, 0.0, 1.0, 0.0, 1.0, 1.0, 1.0, 1.0, 0.0, 1.0, 0.0, 1.0, 1.0, 1.0, 1.0, 1.0, 1.0, 1.0, 1.0, 0.0, 1.0, 0.0, 0.0, 1.0, 0.0, 1.0, 1.0, 1.0, 1.0, 1.0, 0.0, 1.0, 1.0, 1.0, 0.0, 1.0, 1.0, 1.0, 1.0, 1.0, 1.0, 1.0, 1.0, 1.0, 1.0, 1.0, 1.0, 1.0, 1.0, 1.0, 1.0, 0.0, 1.0, 0.0, 1.0, 1.0], \"ids\": [1, 1, 0, 1, 0, 1, 1, 1, 1, 0, 1, 0, 1, 1, 1, 1, 1, 1, 1, 1, 0, 1, 0, 0, 1, 0, 1, 1, 1, 1, 1, 0, 1, 1, 1, 0, 1, 1, 1, 1, 1, 1, 1, 1, 1, 1, 1, 1, 1, 1, 1, 1, 0, 1, 0, 1, 1], \"legendgroup\": \"\", \"marker\": {\"color\": [1, 1, 0, 1, 0, 1, 1, 1, 1, 0, 1, 0, 1, 1, 1, 1, 1, 1, 1, 1, 0, 1, 0, 0, 1, 0, 1, 1, 1, 1, 1, 0, 1, 1, 1, 0, 1, 1, 1, 1, 1, 1, 1, 1, 1, 1, 1, 1, 1, 1, 1, 1, 0, 1, 0, 1, 1], \"coloraxis\": \"coloraxis\", \"symbol\": \"circle\"}, \"mode\": \"markers\", \"name\": \"\", \"orientation\": \"v\", \"showlegend\": false, \"x\": [131, 229, 241, 232, 303, 126, 335, 192, 274, 354, 289, 236, 261, 289, 207, 276, 126, 335, 201, 261, 236, 276, 303, 354, 168, 354, 274, 168, 126, 289, 229, 303, 168, 232, 274, 236, 261, 201, 229, 276, 335, 335, 276, 261, 229, 192, 207, 232, 131, 289, 201, 131, 241, 207, 241, 192, 232], \"xaxis\": \"x\", \"y\": [115, 150, 123, 164, 159, 173, 143, 148, 88, 163, 124, 174, 141, 124, 168, 112, 173, 143, 126, 141, 174, 112, 159, 163, 174, 163, 88, 174, 173, 124, 150, 159, 174, 164, 88, 174, 141, 126, 150, 112, 143, 143, 112, 141, 150, 148, 168, 164, 115, 124, 126, 115, 123, 168, 123, 148, 164], \"yaxis\": \"y\", \"type\": \"scatter\"}], \"name\": \"57\"}, {\"data\": [{\"hovertemplate\": \"<b>%{hovertext}</b><br><br>age=59<br>chol=%{x}<br>thalach=%{y}<br>sex=%{marker.color}<extra></extra>\", \"hovertext\": [1.0, 1.0, 1.0, 1.0, 1.0, 0.0, 1.0, 1.0, 1.0, 1.0, 1.0, 1.0, 1.0, 1.0, 1.0, 1.0, 1.0, 1.0, 0.0, 1.0, 1.0, 1.0, 1.0, 1.0, 1.0, 1.0, 1.0, 0.0, 1.0, 1.0, 1.0, 1.0, 1.0, 1.0, 1.0, 1.0, 1.0, 1.0, 1.0, 1.0, 1.0, 1.0, 1.0, 1.0, 1.0, 1.0], \"ids\": [1, 1, 1, 1, 1, 0, 1, 1, 1, 1, 1, 1, 1, 1, 1, 1, 1, 1, 0, 1, 1, 1, 1, 1, 1, 1, 1, 0, 1, 1, 1, 1, 1, 1, 1, 1, 1, 1, 1, 1, 1, 1, 1, 1, 1, 1], \"legendgroup\": \"\", \"marker\": {\"color\": [1, 1, 1, 1, 1, 0, 1, 1, 1, 1, 1, 1, 1, 1, 1, 1, 1, 1, 0, 1, 1, 1, 1, 1, 1, 1, 1, 0, 1, 1, 1, 1, 1, 1, 1, 1, 1, 1, 1, 1, 1, 1, 1, 1, 1, 1], \"coloraxis\": \"coloraxis\", \"symbol\": \"circle\"}, \"mode\": \"markers\", \"name\": \"\", \"orientation\": \"v\", \"showlegend\": false, \"x\": [271, 212, 288, 326, 177, 249, 218, 326, 212, 218, 212, 218, 177, 176, 204, 221, 239, 288, 249, 234, 177, 270, 204, 177, 176, 221, 270, 249, 271, 326, 176, 239, 204, 288, 273, 288, 273, 273, 271, 270, 234, 218, 204, 234, 239, 221], \"xaxis\": \"x\", \"y\": [182, 157, 159, 140, 162, 143, 134, 140, 157, 134, 157, 134, 162, 90, 162, 164, 142, 159, 143, 161, 162, 145, 162, 162, 90, 164, 145, 143, 182, 140, 90, 142, 162, 159, 125, 159, 125, 125, 182, 145, 161, 134, 162, 161, 142, 164], \"yaxis\": \"y\", \"type\": \"scatter\"}], \"name\": \"59\"}, {\"data\": [{\"hovertemplate\": \"<b>%{hovertext}</b><br><br>age=64<br>chol=%{x}<br>thalach=%{y}<br>sex=%{marker.color}<extra></extra>\", \"hovertext\": [1.0, 0.0, 1.0, 1.0, 1.0, 1.0, 1.0, 1.0, 0.0, 1.0, 0.0, 0.0, 0.0, 1.0, 0.0, 1.0, 1.0, 1.0, 1.0, 1.0, 1.0, 0.0, 1.0, 1.0, 1.0, 1.0, 0.0, 1.0, 1.0, 0.0, 1.0, 1.0, 1.0, 1.0], \"ids\": [1, 0, 1, 1, 1, 1, 1, 1, 0, 1, 0, 0, 0, 1, 0, 1, 1, 1, 1, 1, 1, 0, 1, 1, 1, 1, 0, 1, 1, 0, 1, 1, 1, 1], \"legendgroup\": \"\", \"marker\": {\"color\": [1, 0, 1, 1, 1, 1, 1, 1, 0, 1, 0, 0, 0, 1, 0, 1, 1, 1, 1, 1, 1, 0, 1, 1, 1, 1, 0, 1, 1, 0, 1, 1, 1, 1], \"coloraxis\": \"coloraxis\", \"symbol\": \"circle\"}, \"mode\": \"markers\", \"name\": \"\", \"orientation\": \"v\", \"showlegend\": false, \"x\": [263, 325, 246, 211, 309, 227, 211, 227, 325, 211, 313, 313, 303, 246, 313, 309, 227, 309, 212, 212, 263, 303, 309, 335, 335, 246, 303, 335, 227, 325, 246, 335, 263, 212], \"xaxis\": \"x\", \"y\": [105, 154, 96, 144, 131, 155, 144, 155, 154, 144, 133, 133, 122, 96, 133, 131, 155, 131, 132, 132, 105, 122, 131, 158, 158, 96, 122, 158, 155, 154, 96, 158, 105, 132], \"yaxis\": \"y\", \"type\": \"scatter\"}], \"name\": \"64\"}, {\"data\": [{\"hovertemplate\": \"<b>%{hovertext}</b><br><br>age=65<br>chol=%{x}<br>thalach=%{y}<br>sex=%{marker.color}<extra></extra>\", \"hovertext\": [0.0, 1.0, 0.0, 1.0, 0.0, 0.0, 0.0, 0.0, 1.0, 1.0, 0.0, 0.0, 1.0, 1.0, 1.0, 1.0, 0.0, 0.0, 1.0, 0.0, 0.0, 1.0, 1.0, 1.0, 1.0, 0.0, 1.0], \"ids\": [0, 1, 0, 1, 0, 0, 0, 0, 1, 1, 0, 0, 1, 1, 1, 1, 0, 0, 1, 0, 0, 1, 1, 1, 1, 0, 1], \"legendgroup\": \"\", \"marker\": {\"color\": [0, 1, 0, 1, 0, 0, 0, 0, 1, 1, 0, 0, 1, 1, 1, 1, 0, 0, 1, 0, 0, 1, 1, 1, 1, 0, 1], \"coloraxis\": \"coloraxis\", \"symbol\": \"circle\"}, \"mode\": \"markers\", \"name\": \"\", \"orientation\": \"v\", \"showlegend\": false, \"x\": [360, 248, 417, 254, 269, 360, 225, 225, 248, 254, 269, 269, 248, 282, 282, 177, 417, 360, 177, 225, 225, 282, 254, 254, 177, 417, 282], \"xaxis\": \"x\", \"y\": [151, 158, 157, 127, 148, 151, 114, 114, 158, 127, 148, 148, 158, 174, 174, 140, 157, 151, 140, 114, 114, 174, 127, 127, 140, 157, 174], \"yaxis\": \"y\", \"type\": \"scatter\"}], \"name\": \"65\"}, {\"data\": [{\"hovertemplate\": \"<b>%{hovertext}</b><br><br>age=41<br>chol=%{x}<br>thalach=%{y}<br>sex=%{marker.color}<extra></extra>\", \"hovertext\": [1.0, 1.0, 1.0, 1.0, 1.0, 1.0, 1.0, 1.0, 0.0, 0.0, 0.0, 1.0, 0.0, 0.0, 0.0, 1.0, 1.0, 0.0, 0.0, 1.0, 0.0, 1.0, 0.0, 1.0, 0.0, 1.0, 0.0, 1.0, 1.0, 1.0, 1.0, 1.0], \"ids\": [1, 1, 1, 1, 1, 1, 1, 1, 0, 0, 0, 1, 0, 0, 0, 1, 1, 0, 0, 1, 0, 1, 0, 1, 0, 1, 0, 1, 1, 1, 1, 1], \"legendgroup\": \"\", \"marker\": {\"color\": [1, 1, 1, 1, 1, 1, 1, 1, 0, 0, 0, 1, 0, 0, 0, 1, 1, 0, 0, 1, 0, 1, 0, 1, 0, 1, 0, 1, 1, 1, 1, 1], \"coloraxis\": \"coloraxis\", \"symbol\": \"circle\"}, \"mode\": \"markers\", \"name\": \"\", \"orientation\": \"v\", \"showlegend\": false, \"x\": [203, 203, 235, 172, 157, 250, 250, 157, 306, 198, 204, 157, 198, 204, 268, 214, 172, 204, 198, 214, 306, 157, 306, 235, 268, 214, 268, 203, 203, 250, 235, 172], \"xaxis\": \"x\", \"y\": [132, 132, 153, 158, 182, 179, 179, 182, 163, 168, 172, 182, 168, 172, 172, 168, 158, 172, 168, 168, 163, 182, 163, 153, 172, 168, 172, 132, 132, 179, 153, 158], \"yaxis\": \"y\", \"type\": \"scatter\"}], \"name\": \"41\"}, {\"data\": [{\"hovertemplate\": \"<b>%{hovertext}</b><br><br>age=66<br>chol=%{x}<br>thalach=%{y}<br>sex=%{marker.color}<extra></extra>\", \"hovertext\": [0.0, 0.0, 0.0, 1.0, 0.0, 0.0, 1.0, 1.0, 1.0, 1.0, 1.0, 1.0, 0.0, 1.0, 0.0, 1.0, 0.0, 0.0, 1.0, 1.0, 0.0, 1.0, 1.0, 0.0, 1.0], \"ids\": [0, 0, 0, 1, 0, 0, 1, 1, 1, 1, 1, 1, 0, 1, 0, 1, 0, 0, 1, 1, 0, 1, 1, 0, 1], \"legendgroup\": \"\", \"marker\": {\"color\": [0, 0, 0, 1, 0, 0, 1, 1, 1, 1, 1, 1, 0, 1, 0, 1, 0, 0, 1, 1, 0, 1, 1, 0, 1], \"coloraxis\": \"coloraxis\", \"symbol\": \"circle\"}, \"mode\": \"markers\", \"name\": \"\", \"orientation\": \"v\", \"showlegend\": false, \"x\": [228, 278, 278, 302, 278, 228, 302, 228, 246, 246, 302, 228, 278, 228, 228, 212, 226, 226, 246, 212, 226, 228, 212, 228, 212], \"xaxis\": \"x\", \"y\": [165, 152, 152, 151, 152, 165, 151, 138, 120, 120, 151, 138, 152, 138, 165, 132, 114, 114, 120, 132, 114, 138, 132, 165, 132], \"yaxis\": \"y\", \"type\": \"scatter\"}], \"name\": \"66\"}, {\"data\": [{\"hovertemplate\": \"<b>%{hovertext}</b><br><br>age=38<br>chol=%{x}<br>thalach=%{y}<br>sex=%{marker.color}<extra></extra>\", \"hovertext\": [1.0, 1.0, 1.0, 1.0, 1.0, 1.0, 1.0, 1.0, 1.0, 1.0, 1.0, 1.0], \"ids\": [1, 1, 1, 1, 1, 1, 1, 1, 1, 1, 1, 1], \"legendgroup\": \"\", \"marker\": {\"color\": [1, 1, 1, 1, 1, 1, 1, 1, 1, 1, 1, 1], \"coloraxis\": \"coloraxis\", \"symbol\": \"circle\"}, \"mode\": \"markers\", \"name\": \"\", \"orientation\": \"v\", \"showlegend\": false, \"x\": [175, 175, 175, 175, 231, 175, 175, 175, 231, 231, 231, 175], \"xaxis\": \"x\", \"y\": [173, 173, 173, 173, 182, 173, 173, 173, 182, 182, 182, 173], \"yaxis\": \"y\", \"type\": \"scatter\"}], \"name\": \"38\"}, {\"data\": [{\"hovertemplate\": \"<b>%{hovertext}</b><br><br>age=49<br>chol=%{x}<br>thalach=%{y}<br>sex=%{marker.color}<extra></extra>\", \"hovertext\": [1.0, 1.0, 1.0, 1.0, 0.0, 1.0, 1.0, 0.0, 0.0, 1.0, 1.0, 1.0, 1.0, 0.0, 1.0, 0.0, 0.0], \"ids\": [1, 1, 1, 1, 0, 1, 1, 0, 0, 1, 1, 1, 1, 0, 1, 0, 0], \"legendgroup\": \"\", \"marker\": {\"color\": [1, 1, 1, 1, 0, 1, 1, 0, 0, 1, 1, 1, 1, 0, 1, 0, 0], \"coloraxis\": \"coloraxis\", \"symbol\": \"circle\"}, \"mode\": \"markers\", \"name\": \"\", \"orientation\": \"v\", \"showlegend\": false, \"x\": [188, 149, 266, 149, 269, 149, 188, 271, 271, 188, 188, 266, 266, 269, 149, 271, 269], \"xaxis\": \"x\", \"y\": [139, 126, 171, 126, 163, 126, 139, 162, 162, 139, 139, 171, 171, 163, 126, 162, 163], \"yaxis\": \"y\", \"type\": \"scatter\"}], \"name\": \"49\"}, {\"data\": [{\"hovertemplate\": \"<b>%{hovertext}</b><br><br>age=48<br>chol=%{x}<br>thalach=%{y}<br>sex=%{marker.color}<extra></extra>\", \"hovertext\": [1.0, 1.0, 1.0, 1.0, 1.0, 1.0, 1.0, 0.0, 1.0, 1.0, 1.0, 1.0, 1.0, 1.0, 1.0, 1.0, 1.0, 1.0, 1.0, 0.0, 0.0, 1.0, 1.0], \"ids\": [1, 1, 1, 1, 1, 1, 1, 0, 1, 1, 1, 1, 1, 1, 1, 1, 1, 1, 1, 0, 0, 1, 1], \"legendgroup\": \"\", \"marker\": {\"color\": [1, 1, 1, 1, 1, 1, 1, 0, 1, 1, 1, 1, 1, 1, 1, 1, 1, 1, 1, 0, 0, 1, 1], \"coloraxis\": \"coloraxis\", \"symbol\": \"circle\"}, \"mode\": \"markers\", \"name\": \"\", \"orientation\": \"v\", \"showlegend\": false, \"x\": [245, 256, 255, 256, 274, 222, 256, 275, 245, 222, 229, 255, 229, 229, 222, 256, 274, 245, 255, 275, 275, 274, 229], \"xaxis\": \"x\", \"y\": [180, 150, 175, 150, 166, 186, 150, 139, 180, 186, 168, 175, 168, 168, 186, 150, 166, 180, 175, 139, 139, 166, 168], \"yaxis\": \"y\", \"type\": \"scatter\"}], \"name\": \"48\"}, {\"data\": [{\"hovertemplate\": \"<b>%{hovertext}</b><br><br>age=29<br>chol=%{x}<br>thalach=%{y}<br>sex=%{marker.color}<extra></extra>\", \"hovertext\": [1.0, 1.0, 1.0, 1.0], \"ids\": [1, 1, 1, 1], \"legendgroup\": \"\", \"marker\": {\"color\": [1, 1, 1, 1], \"coloraxis\": \"coloraxis\", \"symbol\": \"circle\"}, \"mode\": \"markers\", \"name\": \"\", \"orientation\": \"v\", \"showlegend\": false, \"x\": [204, 204, 204, 204], \"xaxis\": \"x\", \"y\": [202, 202, 202, 202], \"yaxis\": \"y\", \"type\": \"scatter\"}], \"name\": \"29\"}, {\"data\": [{\"hovertemplate\": \"<b>%{hovertext}</b><br><br>age=37<br>chol=%{x}<br>thalach=%{y}<br>sex=%{marker.color}<extra></extra>\", \"hovertext\": [0.0, 0.0, 0.0, 1.0, 1.0, 1.0], \"ids\": [0, 0, 0, 1, 1, 1], \"legendgroup\": \"\", \"marker\": {\"color\": [0, 0, 0, 1, 1, 1], \"coloraxis\": \"coloraxis\", \"symbol\": \"circle\"}, \"mode\": \"markers\", \"name\": \"\", \"orientation\": \"v\", \"showlegend\": false, \"x\": [215, 215, 215, 250, 250, 250], \"xaxis\": \"x\", \"y\": [170, 170, 170, 187, 187, 187], \"yaxis\": \"y\", \"type\": \"scatter\"}], \"name\": \"37\"}, {\"data\": [{\"hovertemplate\": \"<b>%{hovertext}</b><br><br>age=47<br>chol=%{x}<br>thalach=%{y}<br>sex=%{marker.color}<extra></extra>\", \"hovertext\": [1.0, 1.0, 1.0, 1.0, 1.0, 1.0, 1.0, 1.0, 1.0, 1.0, 1.0, 1.0, 1.0, 1.0, 1.0, 1.0, 1.0, 1.0], \"ids\": [1, 1, 1, 1, 1, 1, 1, 1, 1, 1, 1, 1, 1, 1, 1, 1, 1, 1], \"legendgroup\": \"\", \"marker\": {\"color\": [1, 1, 1, 1, 1, 1, 1, 1, 1, 1, 1, 1, 1, 1, 1, 1, 1, 1], \"coloraxis\": \"coloraxis\", \"symbol\": \"circle\"}, \"mode\": \"markers\", \"name\": \"\", \"orientation\": \"v\", \"showlegend\": false, \"x\": [257, 257, 275, 257, 204, 275, 243, 253, 253, 243, 275, 243, 253, 243, 204, 253, 204, 275], \"xaxis\": \"x\", \"y\": [156, 156, 118, 156, 143, 118, 152, 179, 179, 152, 118, 152, 179, 152, 143, 179, 143, 118], \"yaxis\": \"y\", \"type\": \"scatter\"}], \"name\": \"47\"}, {\"data\": [{\"hovertemplate\": \"<b>%{hovertext}</b><br><br>age=68<br>chol=%{x}<br>thalach=%{y}<br>sex=%{marker.color}<extra></extra>\", \"hovertext\": [1.0, 1.0, 1.0, 1.0, 1.0, 1.0, 0.0, 1.0, 1.0, 1.0, 0.0, 0.0], \"ids\": [1, 1, 1, 1, 1, 1, 0, 1, 1, 1, 0, 0], \"legendgroup\": \"\", \"marker\": {\"color\": [1, 1, 1, 1, 1, 1, 0, 1, 1, 1, 0, 0], \"coloraxis\": \"coloraxis\", \"symbol\": \"circle\"}, \"mode\": \"markers\", \"name\": \"\", \"orientation\": \"v\", \"showlegend\": false, \"x\": [193, 274, 274, 277, 277, 274, 211, 193, 193, 277, 211, 211], \"xaxis\": \"x\", \"y\": [141, 150, 150, 151, 151, 150, 115, 141, 141, 151, 115, 115], \"yaxis\": \"y\", \"type\": \"scatter\"}], \"name\": \"68\"}, {\"data\": [{\"hovertemplate\": \"<b>%{hovertext}</b><br><br>age=76<br>chol=%{x}<br>thalach=%{y}<br>sex=%{marker.color}<extra></extra>\", \"hovertext\": [0.0, 0.0, 0.0], \"ids\": [0, 0, 0], \"legendgroup\": \"\", \"marker\": {\"color\": [0, 0, 0], \"coloraxis\": \"coloraxis\", \"symbol\": \"circle\"}, \"mode\": \"markers\", \"name\": \"\", \"orientation\": \"v\", \"showlegend\": false, \"x\": [197, 197, 197], \"xaxis\": \"x\", \"y\": [116, 116, 116], \"yaxis\": \"y\", \"type\": \"scatter\"}], \"name\": \"76\"}, {\"data\": [{\"hovertemplate\": \"<b>%{hovertext}</b><br><br>age=40<br>chol=%{x}<br>thalach=%{y}<br>sex=%{marker.color}<extra></extra>\", \"hovertext\": [1.0, 1.0, 1.0, 1.0, 1.0, 1.0, 1.0, 1.0, 1.0, 1.0, 1.0], \"ids\": [1, 1, 1, 1, 1, 1, 1, 1, 1, 1, 1], \"legendgroup\": \"\", \"marker\": {\"color\": [1, 1, 1, 1, 1, 1, 1, 1, 1, 1, 1], \"coloraxis\": \"coloraxis\", \"symbol\": \"circle\"}, \"mode\": \"markers\", \"name\": \"\", \"orientation\": \"v\", \"showlegend\": false, \"x\": [223, 167, 199, 167, 223, 199, 167, 199, 167, 223, 223], \"xaxis\": \"x\", \"y\": [181, 114, 178, 114, 181, 178, 114, 178, 114, 181, 181], \"yaxis\": \"y\", \"type\": \"scatter\"}], \"name\": \"40\"}, {\"data\": [{\"hovertemplate\": \"<b>%{hovertext}</b><br><br>age=39<br>chol=%{x}<br>thalach=%{y}<br>sex=%{marker.color}<extra></extra>\", \"hovertext\": [1.0, 0.0, 0.0, 0.0, 0.0, 0.0, 1.0, 0.0, 0.0, 1.0, 1.0, 1.0, 1.0, 1.0], \"ids\": [1, 0, 0, 0, 0, 0, 1, 0, 0, 1, 1, 1, 1, 1], \"legendgroup\": \"\", \"marker\": {\"color\": [1, 0, 0, 0, 0, 0, 1, 0, 0, 1, 1, 1, 1, 1], \"coloraxis\": \"coloraxis\", \"symbol\": \"circle\"}, \"mode\": \"markers\", \"name\": \"\", \"orientation\": \"v\", \"showlegend\": false, \"x\": [321, 199, 199, 220, 220, 220, 321, 199, 220, 219, 321, 219, 219, 219], \"xaxis\": \"x\", \"y\": [182, 179, 179, 152, 152, 152, 182, 179, 152, 140, 182, 140, 140, 140], \"yaxis\": \"y\", \"type\": \"scatter\"}], \"name\": \"39\"}, {\"data\": [{\"hovertemplate\": \"<b>%{hovertext}</b><br><br>age=77<br>chol=%{x}<br>thalach=%{y}<br>sex=%{marker.color}<extra></extra>\", \"hovertext\": [1.0, 1.0, 1.0], \"ids\": [1, 1, 1], \"legendgroup\": \"\", \"marker\": {\"color\": [1, 1, 1], \"coloraxis\": \"coloraxis\", \"symbol\": \"circle\"}, \"mode\": \"markers\", \"name\": \"\", \"orientation\": \"v\", \"showlegend\": false, \"x\": [304, 304, 304], \"xaxis\": \"x\", \"y\": [162, 162, 162], \"yaxis\": \"y\", \"type\": \"scatter\"}], \"name\": \"77\"}, {\"data\": [{\"hovertemplate\": \"<b>%{hovertext}</b><br><br>age=69<br>chol=%{x}<br>thalach=%{y}<br>sex=%{marker.color}<extra></extra>\", \"hovertext\": [1.0, 1.0, 1.0, 1.0, 1.0, 1.0, 0.0, 0.0, 0.0], \"ids\": [1, 1, 1, 1, 1, 1, 0, 0, 0], \"legendgroup\": \"\", \"marker\": {\"color\": [1, 1, 1, 1, 1, 1, 0, 0, 0], \"coloraxis\": \"coloraxis\", \"symbol\": \"circle\"}, \"mode\": \"markers\", \"name\": \"\", \"orientation\": \"v\", \"showlegend\": false, \"x\": [234, 234, 254, 234, 254, 254, 239, 239, 239], \"xaxis\": \"x\", \"y\": [131, 131, 146, 131, 146, 146, 151, 151, 151], \"yaxis\": \"y\", \"type\": \"scatter\"}], \"name\": \"69\"}, {\"data\": [{\"hovertemplate\": \"<b>%{hovertext}</b><br><br>age=35<br>chol=%{x}<br>thalach=%{y}<br>sex=%{marker.color}<extra></extra>\", \"hovertext\": [1.0, 0.0, 1.0, 1.0, 1.0, 1.0, 0.0, 1.0, 1.0, 1.0, 1.0, 1.0, 0.0, 0.0, 1.0], \"ids\": [1, 0, 1, 1, 1, 1, 0, 1, 1, 1, 1, 1, 0, 0, 1], \"legendgroup\": \"\", \"marker\": {\"color\": [1, 0, 1, 1, 1, 1, 0, 1, 1, 1, 1, 1, 0, 0, 1], \"coloraxis\": \"coloraxis\", \"symbol\": \"circle\"}, \"mode\": \"markers\", \"name\": \"\", \"orientation\": \"v\", \"showlegend\": false, \"x\": [198, 183, 192, 192, 282, 192, 183, 192, 282, 282, 198, 198, 183, 183, 198], \"xaxis\": \"x\", \"y\": [130, 182, 174, 174, 156, 174, 182, 174, 156, 156, 130, 130, 182, 182, 130], \"yaxis\": \"y\", \"type\": \"scatter\"}], \"name\": \"35\"}, {\"data\": [{\"hovertemplate\": \"<b>%{hovertext}</b><br><br>age=74<br>chol=%{x}<br>thalach=%{y}<br>sex=%{marker.color}<extra></extra>\", \"hovertext\": [0.0, 0.0, 0.0], \"ids\": [0, 0, 0], \"legendgroup\": \"\", \"marker\": {\"color\": [0, 0, 0], \"coloraxis\": \"coloraxis\", \"symbol\": \"circle\"}, \"mode\": \"markers\", \"name\": \"\", \"orientation\": \"v\", \"showlegend\": false, \"x\": [269, 269, 269], \"xaxis\": \"x\", \"y\": [121, 121, 121], \"yaxis\": \"y\", \"type\": \"scatter\"}], \"name\": \"74\"}]);\n",
       "                        }).then(function(){\n",
       "                            \n",
       "var gd = document.getElementById('8a5e8ff3-2c73-4309-8a8e-0bf9c24b4888');\n",
       "var x = new MutationObserver(function (mutations, observer) {{\n",
       "        var display = window.getComputedStyle(gd).display;\n",
       "        if (!display || display === 'none') {{\n",
       "            console.log([gd, 'removed!']);\n",
       "            Plotly.purge(gd);\n",
       "            observer.disconnect();\n",
       "        }}\n",
       "}});\n",
       "\n",
       "// Listen for the removal of the full notebook cells\n",
       "var notebookContainer = gd.closest('#notebook-container');\n",
       "if (notebookContainer) {{\n",
       "    x.observe(notebookContainer, {childList: true});\n",
       "}}\n",
       "\n",
       "// Listen for the clearing of the current output cell\n",
       "var outputEl = gd.closest('.output');\n",
       "if (outputEl) {{\n",
       "    x.observe(outputEl, {childList: true});\n",
       "}}\n",
       "\n",
       "                        })                };                });            </script>        </div>"
      ]
     },
     "metadata": {},
     "output_type": "display_data"
    }
   ],
   "source": [
    "chol_pressure_df = heart_disease_df[['chol', 'thalach', 'age', 'sex']]\n",
    "chol_pressure_df.age = pd.to_numeric(chol_pressure_df.age)\n",
    "chol_pressure_df.sort_values(['age'], ascending=True)\n",
    "fig = px.scatter(chol_pressure_df, x=\"chol\", y=\"thalach\", animation_frame=\"age\", animation_group=\"sex\",\n",
    "            color=\"sex\", hover_name=\"sex\",\n",
    "           log_x=True, size_max=55)\n",
    "\n",
    "fig[\"layout\"].pop(\"updatemenus\") # optional, drop animation buttons\n",
    "fig.show()"
   ]
  }
 ],
 "metadata": {
  "kernelspec": {
   "display_name": "Python 3 (ipykernel)",
   "language": "python",
   "name": "python3"
  },
  "language_info": {
   "codemirror_mode": {
    "name": "ipython",
    "version": 3
   },
   "file_extension": ".py",
   "mimetype": "text/x-python",
   "name": "python",
   "nbconvert_exporter": "python",
   "pygments_lexer": "ipython3",
   "version": "3.9.7"
  }
 },
 "nbformat": 4,
 "nbformat_minor": 1
}
