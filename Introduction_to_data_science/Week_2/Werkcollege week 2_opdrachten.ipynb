{
 "cells": [
  {
   "cell_type": "markdown",
   "metadata": {},
   "source": [
    "## Deel 1: Inladen datasets\n",
    "**1. Importeer de 01_NLelftal.csv, 02_NLelftal.csv, 03_ NLelftal.csv datasets.**<br>\n",
    "**Inspecteer de data en bepaal de separator, zet de encoding op ANSI** <br>\n",
    "Mogelijk werkt dit niet voor Mac gebruikers. Zet dan engine gelijk aan \"python\""
   ]
  },
  {
   "cell_type": "code",
   "execution_count": 1,
   "metadata": {},
   "outputs": [],
   "source": [
    "import pandas as pd"
   ]
  },
  {
   "cell_type": "code",
   "execution_count": 2,
   "metadata": {
    "scrolled": true
   },
   "outputs": [],
   "source": [
    "first_nleftal = pd.read_csv('01_NLelftal.csv', sep=';', encoding='ANSI')"
   ]
  },
  {
   "cell_type": "code",
   "execution_count": 3,
   "metadata": {},
   "outputs": [],
   "source": [
    "second_nleftal = pd.read_csv('02_NLelftal.csv', sep=',', encoding='ANSI')"
   ]
  },
  {
   "cell_type": "code",
   "execution_count": 4,
   "metadata": {},
   "outputs": [],
   "source": [
    "third_nleftal = pd.read_csv('03_NLelftal.csv', sep='/', encoding='ANSI')"
   ]
  },
  {
   "cell_type": "markdown",
   "metadata": {},
   "source": [
    "**2. Lees de excel 04_NLelftal.xlsx in** \n"
   ]
  },
  {
   "cell_type": "code",
   "execution_count": null,
   "metadata": {},
   "outputs": [],
   "source": [
    "fourth_nleftal = pd.read_excel('04_NLelftal.xlsx', encoding='ANSI')"
   ]
  },
  {
   "cell_type": "markdown",
   "metadata": {},
   "source": [
    "## Star Wars API\n",
    "**3. Instaleer en laad het package 'requests'.**"
   ]
  },
  {
   "cell_type": "code",
   "execution_count": 6,
   "metadata": {},
   "outputs": [],
   "source": [
    "import requests"
   ]
  },
  {
   "cell_type": "markdown",
   "metadata": {},
   "source": [
    "**4-6. Maak een GET() request to https://swapi.dev/api/people/1/ en sla de resultaten op in een\n",
    "variabele genaamd response. <br> Welke informatie heb je gekregen? <br>\n",
    "Print de status code en de inhoud als tekst. <br>\n",
    "Laat tevens de inhoud als json zien**\n"
   ]
  },
  {
   "cell_type": "code",
   "execution_count": 8,
   "metadata": {
    "scrolled": true
   },
   "outputs": [
    {
     "name": "stdout",
     "output_type": "stream",
     "text": [
      "<Response [200]>\n",
      "{'name': 'Luke Skywalker', 'height': '172', 'mass': '77', 'hair_color': 'blond', 'skin_color': 'fair', 'eye_color': 'blue', 'birth_year': '19BBY', 'gender': 'male', 'homeworld': 'https://swapi.dev/api/planets/1/', 'films': ['https://swapi.dev/api/films/1/', 'https://swapi.dev/api/films/2/', 'https://swapi.dev/api/films/3/', 'https://swapi.dev/api/films/6/'], 'species': [], 'vehicles': ['https://swapi.dev/api/vehicles/14/', 'https://swapi.dev/api/vehicles/30/'], 'starships': ['https://swapi.dev/api/starships/12/', 'https://swapi.dev/api/starships/22/'], 'created': '2014-12-09T13:50:51.644000Z', 'edited': '2014-12-20T21:17:56.891000Z', 'url': 'https://swapi.dev/api/people/1/'}\n"
     ]
    }
   ],
   "source": [
    "response = requests.get('https://swapi.dev/api/people/1/')\n",
    "print(response)\n",
    "print(response.json())"
   ]
  },
  {
   "cell_type": "markdown",
   "metadata": {},
   "source": [
    "**7. Maak een GET() request naar een nieuwe url om meer informatie op te halen over de\n",
    "“homeworld\" van Luke Skywalker.** <br> **Tip: Hoe roep je een key uit een dictionary op? ** <br>\n",
    "\n",
    "**Print dezelfde informatie als in vraag 6**\n"
   ]
  },
  {
   "cell_type": "code",
   "execution_count": 11,
   "metadata": {},
   "outputs": [
    {
     "name": "stdout",
     "output_type": "stream",
     "text": [
      "<Response [200]>\n",
      "{'name': 'Tatooine', 'rotation_period': '23', 'orbital_period': '304', 'diameter': '10465', 'climate': 'arid', 'gravity': '1 standard', 'terrain': 'desert', 'surface_water': '1', 'population': '200000', 'residents': ['https://swapi.dev/api/people/1/', 'https://swapi.dev/api/people/2/', 'https://swapi.dev/api/people/4/', 'https://swapi.dev/api/people/6/', 'https://swapi.dev/api/people/7/', 'https://swapi.dev/api/people/8/', 'https://swapi.dev/api/people/9/', 'https://swapi.dev/api/people/11/', 'https://swapi.dev/api/people/43/', 'https://swapi.dev/api/people/62/'], 'films': ['https://swapi.dev/api/films/1/', 'https://swapi.dev/api/films/3/', 'https://swapi.dev/api/films/4/', 'https://swapi.dev/api/films/5/', 'https://swapi.dev/api/films/6/'], 'created': '2014-12-09T13:50:49.641000Z', 'edited': '2014-12-20T20:58:18.411000Z', 'url': 'https://swapi.dev/api/planets/1/'}\n"
     ]
    }
   ],
   "source": [
    "responseHomeWorld = requests.get('https://swapi.dev/api/planets/1')\n",
    "print(responseHomeWorld)\n",
    "print(responseHomeWorld.json())"
   ]
  },
  {
   "cell_type": "markdown",
   "metadata": {},
   "source": [
    "## Deel 3: Uploaden naar een server\n",
    "**8. Maak een GET() request naar https://5d6f7b60482b530014d2e39f.mockapi.io/api/rick/Test2\n",
    "en haal de content op. Welke variabelen zitten in de database?**"
   ]
  },
  {
   "cell_type": "code",
   "execution_count": 35,
   "metadata": {},
   "outputs": [
    {
     "data": {
      "text/plain": "[{'name': 'Virginia Upton',\n  'Favorietijs': 'Favorietijs 2',\n  'Leeftijd': 25,\n  'id': '2'},\n {'name': 'Harry Rempel',\n  'Favorietijs': 'Favorietijs 3',\n  'Leeftijd': 30,\n  'id': '3'},\n {'name': 'Lawrence Shields',\n  'Favorietijs': 'Favorietijs 5',\n  'Leeftijd': 33,\n  'id': '5'},\n {'name': 'Diana Abbott',\n  'Favorietijs': 'Favorietijs 6',\n  'Leeftijd': 43,\n  'id': '6'},\n {'name': 'Neal Bradtke',\n  'Favorietijs': 'Favorietijs 7',\n  'Leeftijd': 11,\n  'id': '7'},\n {'name': 'Malcolm West',\n  'Favorietijs': 'Favorietijs 8',\n  'Leeftijd': 25,\n  'id': '8'},\n {'name': 'Terrance Johns',\n  'Favorietijs': 'Favorietijs 9',\n  'Leeftijd': 13,\n  'id': '9'},\n {'name': 'Audrey West',\n  'Favorietijs': 'Favorietijs 10',\n  'Leeftijd': 13,\n  'id': '10'},\n {'name': 'Grady Pollich',\n  'Favorietijs': 'Favorietijs 11',\n  'Leeftijd': 44,\n  'id': '11'},\n {'name': 'Terrell Robel',\n  'Favorietijs': 'Favorietijs 12',\n  'Leeftijd': 16,\n  'id': '12'},\n {'name': 'Kelvin Treutel',\n  'Favorietijs': 'Favorietijs 13',\n  'Leeftijd': 49,\n  'id': '13'},\n {'name': 'Benjamin Bauch',\n  'Favorietijs': 'Favorietijs 14',\n  'Leeftijd': 59,\n  'id': '14'},\n {'name': 'Diana Walter',\n  'Favorietijs': 'Favorietijs 15',\n  'Leeftijd': 86,\n  'id': '15'},\n {'name': 'Willie Runolfsdottir IV',\n  'Favorietijs': 'Favorietijs 16',\n  'Leeftijd': 38,\n  'id': '16'},\n {'name': 'Mrs. Virgil Terry',\n  'Favorietijs': 'Favorietijs 17',\n  'Leeftijd': 75,\n  'id': '17'},\n {'name': 'Dale Treutel',\n  'Favorietijs': 'Favorietijs 18',\n  'Leeftijd': 53,\n  'id': '18'},\n {'name': 'Danny Carter',\n  'Favorietijs': 'Favorietijs 19',\n  'Leeftijd': 63,\n  'id': '19'},\n {'name': 'Jerry Kuhic',\n  'Favorietijs': 'Favorietijs 20',\n  'Leeftijd': 96,\n  'id': '20'},\n {'name': 'Miss Timmy Lang',\n  'Favorietijs': 'Favorietijs 21',\n  'Leeftijd': 71,\n  'id': '21'},\n {'name': 'Bernadette Gorczany',\n  'Favorietijs': 'Favorietijs 22',\n  'Leeftijd': 61,\n  'id': '22'},\n {'name': 'Pauline Koelpin',\n  'Favorietijs': 'Favorietijs 23',\n  'Leeftijd': 56,\n  'id': '23'},\n {'name': 'Joanne Mueller',\n  'Favorietijs': 'Favorietijs 24',\n  'Leeftijd': 44,\n  'id': '24'},\n {'name': 'Genevieve Block',\n  'Favorietijs': 'Favorietijs 25',\n  'Leeftijd': 26,\n  'id': '25'},\n {'name': 'Javier Lueilwitz MD',\n  'Favorietijs': 'Favorietijs 26',\n  'Leeftijd': 32,\n  'id': '26'},\n {'name': 'Shirley Becker',\n  'Favorietijs': 'Favorietijs 27',\n  'Leeftijd': 26,\n  'id': '27'},\n {'name': 'Gwendolyn Hayes',\n  'Favorietijs': 'Favorietijs 28',\n  'Leeftijd': 11,\n  'id': '28'},\n {'name': 'Jesus Breitenberg',\n  'Favorietijs': 'Favorietijs 29',\n  'Leeftijd': 61,\n  'id': '29'},\n {'name': 'Pieter de Vries',\n  'Favorietijs': 'Favorietijs 30',\n  'Leeftijd': '18',\n  'id': '30',\n  'Favorieteijs': 'Chocola'},\n {'name': 'Anna', 'Favorietijs': 'Citroen', 'Leeftijd': '20', 'id': '35'},\n {'name': 'Darin Ratke',\n  'Favorietijs': 'Leeftijd',\n  'Leeftijd': 48,\n  'id': '36'},\n {'name': 'Anna', 'Favorietijs': 'Citroen', 'Leeftijd': '20', 'id': '37'},\n {'name': 'Kristopher Rath',\n  'Favorietijs': 'Leeftijd',\n  'Leeftijd': 86,\n  'id': '38'},\n {'name': 'Chayenna', 'Favorietijs': '2', 'Leeftijd': '21', 'id': '39'},\n {'name': 'Anna', 'Favorietijs': 'Citroen', 'Leeftijd': '20', 'id': '40'},\n {'name': 'Chayenna', 'Favorietijs': '2', 'Leeftijd': '21', 'id': '41'}]"
     },
     "execution_count": 35,
     "metadata": {},
     "output_type": "execute_result"
    }
   ],
   "source": [
    "profielenResponse = requests.get('https://5d6f7b60482b530014d2e39f.mockapi.io/api/rick/Test2')\n",
    "profielenResponse.json()"
   ]
  },
  {
   "cell_type": "markdown",
   "metadata": {},
   "source": [
    "**9. Creëer een nieuw profiel met de variabelen name, Favorietijs en Leeftijd. <br> Dit heeft de vorm van een dictionary. <br> Je hoeft geen id mee te geven**"
   ]
  },
  {
   "cell_type": "code",
   "execution_count": 16,
   "metadata": {},
   "outputs": [],
   "source": [
    "profielDict = {\n",
    "    \"name\" : \"Pieter de Vries\",\n",
    "    \"Favorieteijs\" : \"Chocola\",\n",
    "    \"Leeftijd\" : \"18\",\n",
    "}"
   ]
  },
  {
   "cell_type": "markdown",
   "metadata": {},
   "source": [
    "**10. Gebruik POST() om dit nieuwe profiel te uploaden naar de server. Controleer of dit gelukt is\n",
    "door de data nogmaals van de server te halen. Welk id heb je gekregen?**"
   ]
  },
  {
   "cell_type": "code",
   "execution_count": 18,
   "metadata": {},
   "outputs": [
    {
     "data": {
      "text/plain": "<Response [201]>"
     },
     "execution_count": 18,
     "metadata": {},
     "output_type": "execute_result"
    }
   ],
   "source": [
    "requests.post('https://5d6f7b60482b530014d2e39f.mockapi.io/api/rick/Test2', data=profielDict)"
   ]
  },
  {
   "cell_type": "code",
   "execution_count": 20,
   "metadata": {},
   "outputs": [
    {
     "data": {
      "text/plain": "[{'name': 'Francis Daniel',\n  'Favorietijs': 'Favorietijs 1',\n  'Leeftijd': 4,\n  'id': '1'},\n {'name': 'Virginia Upton',\n  'Favorietijs': 'Favorietijs 2',\n  'Leeftijd': 25,\n  'id': '2'},\n {'name': 'Harry Rempel',\n  'Favorietijs': 'Favorietijs 3',\n  'Leeftijd': 30,\n  'id': '3'},\n {'name': 'Lawrence Shields',\n  'Favorietijs': 'Favorietijs 5',\n  'Leeftijd': 33,\n  'id': '5'},\n {'name': 'Diana Abbott',\n  'Favorietijs': 'Favorietijs 6',\n  'Leeftijd': 43,\n  'id': '6'},\n {'name': 'Neal Bradtke',\n  'Favorietijs': 'Favorietijs 7',\n  'Leeftijd': 11,\n  'id': '7'},\n {'name': 'Malcolm West',\n  'Favorietijs': 'Favorietijs 8',\n  'Leeftijd': 25,\n  'id': '8'},\n {'name': 'Terrance Johns',\n  'Favorietijs': 'Favorietijs 9',\n  'Leeftijd': 13,\n  'id': '9'},\n {'name': 'Audrey West',\n  'Favorietijs': 'Favorietijs 10',\n  'Leeftijd': 13,\n  'id': '10'},\n {'name': 'Grady Pollich',\n  'Favorietijs': 'Favorietijs 11',\n  'Leeftijd': 44,\n  'id': '11'},\n {'name': 'Terrell Robel',\n  'Favorietijs': 'Favorietijs 12',\n  'Leeftijd': 16,\n  'id': '12'},\n {'name': 'Kelvin Treutel',\n  'Favorietijs': 'Favorietijs 13',\n  'Leeftijd': 49,\n  'id': '13'},\n {'name': 'Benjamin Bauch',\n  'Favorietijs': 'Favorietijs 14',\n  'Leeftijd': 59,\n  'id': '14'},\n {'name': 'Diana Walter',\n  'Favorietijs': 'Favorietijs 15',\n  'Leeftijd': 86,\n  'id': '15'},\n {'name': 'Willie Runolfsdottir IV',\n  'Favorietijs': 'Favorietijs 16',\n  'Leeftijd': 38,\n  'id': '16'},\n {'name': 'Mrs. Virgil Terry',\n  'Favorietijs': 'Favorietijs 17',\n  'Leeftijd': 75,\n  'id': '17'},\n {'name': 'Dale Treutel',\n  'Favorietijs': 'Favorietijs 18',\n  'Leeftijd': 53,\n  'id': '18'},\n {'name': 'Danny Carter',\n  'Favorietijs': 'Favorietijs 19',\n  'Leeftijd': 63,\n  'id': '19'},\n {'name': 'Jerry Kuhic',\n  'Favorietijs': 'Favorietijs 20',\n  'Leeftijd': 96,\n  'id': '20'},\n {'name': 'Miss Timmy Lang',\n  'Favorietijs': 'Favorietijs 21',\n  'Leeftijd': 71,\n  'id': '21'},\n {'name': 'Bernadette Gorczany',\n  'Favorietijs': 'Favorietijs 22',\n  'Leeftijd': 61,\n  'id': '22'},\n {'name': 'Pauline Koelpin',\n  'Favorietijs': 'Favorietijs 23',\n  'Leeftijd': 56,\n  'id': '23'},\n {'name': 'Joanne Mueller',\n  'Favorietijs': 'Favorietijs 24',\n  'Leeftijd': 44,\n  'id': '24'},\n {'name': 'Genevieve Block',\n  'Favorietijs': 'Favorietijs 25',\n  'Leeftijd': 26,\n  'id': '25'},\n {'name': 'Javier Lueilwitz MD',\n  'Favorietijs': 'Favorietijs 26',\n  'Leeftijd': 32,\n  'id': '26'},\n {'name': 'Shirley Becker',\n  'Favorietijs': 'Favorietijs 27',\n  'Leeftijd': 26,\n  'id': '27'},\n {'name': 'Gwendolyn Hayes',\n  'Favorietijs': 'Favorietijs 28',\n  'Leeftijd': 11,\n  'id': '28'},\n {'name': 'Jesus Breitenberg',\n  'Favorietijs': 'Favorietijs 29',\n  'Leeftijd': 61,\n  'id': '29'},\n {'name': 'Pieter de Vries',\n  'Favorietijs': 'Favorietijs 30',\n  'Leeftijd': '18',\n  'id': '30',\n  'Favorieteijs': 'Chocola'},\n {'name': 'Stan', 'Favorietijs': 'Citroen', 'Leeftijd': '22', 'id': '31'}]"
     },
     "execution_count": 20,
     "metadata": {},
     "output_type": "execute_result"
    }
   ],
   "source": [
    "profielenResponse.json()"
   ]
  },
  {
   "cell_type": "code",
   "execution_count": 21,
   "metadata": {},
   "outputs": [],
   "source": []
  },
  {
   "cell_type": "code",
   "execution_count": null,
   "metadata": {},
   "outputs": [],
   "source": []
  },
  {
   "cell_type": "code",
   "execution_count": null,
   "metadata": {},
   "outputs": [],
   "source": []
  },
  {
   "cell_type": "markdown",
   "metadata": {},
   "source": [
    "**11. Creeër een nieuwe dictionary met andere gegevens. <br> Kijk of het lukt om een list (met meerdere inputs) te maken voor een\n",
    "van de variabelen. <br> Gebruik de PUT() functie om je nieuwe profiel te updaten. <br> Controleer welk ID nummer je hiervoor moet gebruiken. <br> Hoe pas je dan het adres aan?**"
   ]
  },
  {
   "cell_type": "code",
   "execution_count": 26,
   "metadata": {},
   "outputs": [],
   "source": [
    "tweedeProfielDict = {\n",
    "    'name' : 'Pieter de Vries',\n",
    "    'Favorietijs': ['chocola', 'aardbei', 'banaan'],\n",
    "    'leeftijd' : '18',\n",
    "    'id' : '30'\n",
    "}"
   ]
  },
  {
   "cell_type": "code",
   "execution_count": 36,
   "metadata": {},
   "outputs": [
    {
     "data": {
      "text/plain": "<Response [200]>"
     },
     "execution_count": 36,
     "metadata": {},
     "output_type": "execute_result"
    }
   ],
   "source": [
    "requests.put('https://5d6f7b60482b530014d2e39f.mockapi.io/api/rick/Test2/30/', data=tweedeProfielDict)"
   ]
  },
  {
   "cell_type": "code",
   "execution_count": 39,
   "metadata": {},
   "outputs": [
    {
     "data": {
      "text/plain": "[{'name': 'Virginia Upton',\n  'Favorietijs': 'Favorietijs 2',\n  'Leeftijd': 25,\n  'id': '2'},\n {'name': 'Harry Rempel',\n  'Favorietijs': 'Favorietijs 3',\n  'Leeftijd': 30,\n  'id': '3'},\n {'name': 'Lawrence Shields',\n  'Favorietijs': 'Favorietijs 5',\n  'Leeftijd': 33,\n  'id': '5'},\n {'name': 'Diana Abbott',\n  'Favorietijs': 'Favorietijs 6',\n  'Leeftijd': 43,\n  'id': '6'},\n {'name': 'Neal Bradtke',\n  'Favorietijs': 'Favorietijs 7',\n  'Leeftijd': 11,\n  'id': '7'},\n {'name': 'Malcolm West',\n  'Favorietijs': 'Favorietijs 8',\n  'Leeftijd': 25,\n  'id': '8'},\n {'name': 'Terrance Johns',\n  'Favorietijs': 'Favorietijs 9',\n  'Leeftijd': 13,\n  'id': '9'},\n {'name': 'Audrey West',\n  'Favorietijs': 'Favorietijs 10',\n  'Leeftijd': 13,\n  'id': '10'},\n {'name': 'Grady Pollich',\n  'Favorietijs': 'Favorietijs 11',\n  'Leeftijd': 44,\n  'id': '11'},\n {'name': 'Terrell Robel',\n  'Favorietijs': 'Favorietijs 12',\n  'Leeftijd': 16,\n  'id': '12'},\n {'name': 'Kelvin Treutel',\n  'Favorietijs': 'Favorietijs 13',\n  'Leeftijd': 49,\n  'id': '13'},\n {'name': 'Benjamin Bauch',\n  'Favorietijs': 'Favorietijs 14',\n  'Leeftijd': 59,\n  'id': '14'},\n {'name': 'Diana Walter',\n  'Favorietijs': 'Favorietijs 15',\n  'Leeftijd': 86,\n  'id': '15'},\n {'name': 'Willie Runolfsdottir IV',\n  'Favorietijs': 'Favorietijs 16',\n  'Leeftijd': 38,\n  'id': '16'},\n {'name': 'Mrs. Virgil Terry',\n  'Favorietijs': 'Favorietijs 17',\n  'Leeftijd': 75,\n  'id': '17'},\n {'name': 'Dale Treutel',\n  'Favorietijs': 'Favorietijs 18',\n  'Leeftijd': 53,\n  'id': '18'},\n {'name': 'Danny Carter',\n  'Favorietijs': 'Favorietijs 19',\n  'Leeftijd': 63,\n  'id': '19'},\n {'name': 'Jerry Kuhic',\n  'Favorietijs': 'Favorietijs 20',\n  'Leeftijd': 96,\n  'id': '20'},\n {'name': 'Miss Timmy Lang',\n  'Favorietijs': 'Favorietijs 21',\n  'Leeftijd': 71,\n  'id': '21'},\n {'name': 'Bernadette Gorczany',\n  'Favorietijs': 'Favorietijs 22',\n  'Leeftijd': 61,\n  'id': '22'},\n {'name': 'Pauline Koelpin',\n  'Favorietijs': 'Favorietijs 23',\n  'Leeftijd': 56,\n  'id': '23'},\n {'name': 'Joanne Mueller',\n  'Favorietijs': 'Favorietijs 24',\n  'Leeftijd': 44,\n  'id': '24'},\n {'name': 'Genevieve Block',\n  'Favorietijs': 'Favorietijs 25',\n  'Leeftijd': 26,\n  'id': '25'},\n {'name': 'Javier Lueilwitz MD',\n  'Favorietijs': 'Favorietijs 26',\n  'Leeftijd': 32,\n  'id': '26'},\n {'name': 'Shirley Becker',\n  'Favorietijs': 'Favorietijs 27',\n  'Leeftijd': 26,\n  'id': '27'},\n {'name': 'Gwendolyn Hayes',\n  'Favorietijs': 'Favorietijs 28',\n  'Leeftijd': 11,\n  'id': '28'},\n {'name': 'Jesus Breitenberg',\n  'Favorietijs': 'Favorietijs 29',\n  'Leeftijd': 61,\n  'id': '29'},\n {'name': 'Anna', 'Favorietijs': 'Citroen', 'Leeftijd': '20', 'id': '35'},\n {'name': 'Darin Ratke',\n  'Favorietijs': 'Leeftijd',\n  'Leeftijd': 48,\n  'id': '36'},\n {'name': 'Anna', 'Favorietijs': 'Citroen', 'Leeftijd': '20', 'id': '37'},\n {'name': 'Kristopher Rath',\n  'Favorietijs': 'Leeftijd',\n  'Leeftijd': 86,\n  'id': '38'},\n {'name': 'Chayenna', 'Favorietijs': '2', 'Leeftijd': '21', 'id': '39'},\n {'name': 'Anna', 'Favorietijs': 'Citroen', 'Leeftijd': '20', 'id': '40'},\n {'name': 'Chayenna', 'Favorietijs': '2', 'Leeftijd': '21', 'id': '41'},\n {'name': 'Anna', 'Favorietijs': '2', 'Leeftijd': '20', 'id': '42'},\n {'name': 'Chayenna', 'Favorietijs': '2', 'Leeftijd': '21', 'id': '43'}]"
     },
     "execution_count": 39,
     "metadata": {},
     "output_type": "execute_result"
    }
   ],
   "source": [
    "profielenResponse = requests.get('https://5d6f7b60482b530014d2e39f.mockapi.io/api/rick/Test2')\n",
    "profielenResponse.json()"
   ]
  },
  {
   "cell_type": "markdown",
   "metadata": {},
   "source": [
    "**12. Verwijder de door jouw geüploade gegevens met DELETE. Let op: Verwijder alleen jouw id!**"
   ]
  },
  {
   "cell_type": "code",
   "execution_count": 38,
   "metadata": {},
   "outputs": [
    {
     "data": {
      "text/plain": "<Response [200]>"
     },
     "execution_count": 38,
     "metadata": {},
     "output_type": "execute_result"
    }
   ],
   "source": [
    "requests.delete('https://5d6f7b60482b530014d2e39f.mockapi.io/api/rick/Test2/30/')"
   ]
  }
 ],
 "metadata": {
  "kernelspec": {
   "display_name": "Python 3",
   "language": "python",
   "name": "python3"
  },
  "language_info": {
   "codemirror_mode": {
    "name": "ipython",
    "version": 3
   },
   "file_extension": ".py",
   "mimetype": "text/x-python",
   "name": "python",
   "nbconvert_exporter": "python",
   "pygments_lexer": "ipython3",
   "version": "3.8.5"
  }
 },
 "nbformat": 4,
 "nbformat_minor": 4
}