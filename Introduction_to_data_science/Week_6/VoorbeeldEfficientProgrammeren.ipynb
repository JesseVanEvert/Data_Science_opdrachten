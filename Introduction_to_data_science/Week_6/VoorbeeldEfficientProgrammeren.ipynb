{
 "cells": [
  {
   "cell_type": "code",
   "execution_count": 1,
   "id": "bdbebbc9",
   "metadata": {},
   "outputs": [],
   "source": [
    "import pandas as pd\n",
    "from pandas import DataFrame\n",
    "import numpy as np\n",
    "Year_Month = {'Year': np.random.randint(low=2010, high=2020, size=(50000,)), \n",
    "                'Month': np.random.randint(low=0, high=12, size=(50000,))\n",
    "                }"
   ]
  },
  {
   "cell_type": "code",
   "execution_count": 2,
   "id": "5d2faf85",
   "metadata": {},
   "outputs": [
    {
     "data": {
      "text/plain": "   Year  Month\n0  2019      5\n1  2011     10\n2  2015      5\n3  2014      4\n4  2011      2",
      "text/html": "<div>\n<style scoped>\n    .dataframe tbody tr th:only-of-type {\n        vertical-align: middle;\n    }\n\n    .dataframe tbody tr th {\n        vertical-align: top;\n    }\n\n    .dataframe thead th {\n        text-align: right;\n    }\n</style>\n<table border=\"1\" class=\"dataframe\">\n  <thead>\n    <tr style=\"text-align: right;\">\n      <th></th>\n      <th>Year</th>\n      <th>Month</th>\n    </tr>\n  </thead>\n  <tbody>\n    <tr>\n      <th>0</th>\n      <td>2019</td>\n      <td>5</td>\n    </tr>\n    <tr>\n      <th>1</th>\n      <td>2011</td>\n      <td>10</td>\n    </tr>\n    <tr>\n      <th>2</th>\n      <td>2015</td>\n      <td>5</td>\n    </tr>\n    <tr>\n      <th>3</th>\n      <td>2014</td>\n      <td>4</td>\n    </tr>\n    <tr>\n      <th>4</th>\n      <td>2011</td>\n      <td>2</td>\n    </tr>\n  </tbody>\n</table>\n</div>"
     },
     "execution_count": 2,
     "metadata": {},
     "output_type": "execute_result"
    }
   ],
   "source": [
    "df = DataFrame(Year_Month,columns=['Year','Month']) \n",
    "df.head()"
   ]
  },
  {
   "cell_type": "code",
   "execution_count": 3,
   "id": "a347b3df",
   "metadata": {},
   "outputs": [],
   "source": [
    "def Winter(Input):\n",
    "    return \"Winter\" if Input > 9  else \"Warm\""
   ]
  },
  {
   "cell_type": "code",
   "execution_count": 4,
   "id": "071adc1e",
   "metadata": {},
   "outputs": [
    {
     "name": "stdout",
     "output_type": "stream",
     "text": [
      "The slowest run took 5.18 times longer than the fastest. This could mean that an intermediate result is being cached.\n",
      "12.6 ms ± 8.25 ms per loop (mean ± std. dev. of 50 runs, 100 loops each)\n"
     ]
    }
   ],
   "source": [
    "%timeit -r50  df['Season']= df['Month'].apply(Winter)"
   ]
  },
  {
   "cell_type": "code",
   "execution_count": 5,
   "id": "5fea0e79",
   "metadata": {},
   "outputs": [
    {
     "name": "stdout",
     "output_type": "stream",
     "text": [
      "11.9 ms ± 942 µs per loop (mean ± std. dev. of 50 runs, 100 loops each)\n"
     ]
    }
   ],
   "source": [
    "%timeit -r50  df['Season'] = np.where(df['Month']> 9 , \"Winter\", 'Warm')"
   ]
  },
  {
   "cell_type": "code",
   "execution_count": 6,
   "id": "4063d128",
   "metadata": {},
   "outputs": [
    {
     "name": "stdout",
     "output_type": "stream",
     "text": [
      "677 ms ± 97.2 ms per loop (mean ± std. dev. of 50 runs, 1 loop each)\n"
     ]
    }
   ],
   "source": [
    "%timeit -r50 for x in range(len(df.Month)): (df['Month'][x]) "
   ]
  },
  {
   "cell_type": "code",
   "execution_count": 7,
   "id": "bea22e50",
   "metadata": {},
   "outputs": [
    {
     "name": "stdout",
     "output_type": "stream",
     "text": [
      "The slowest run took 4.35 times longer than the fastest. This could mean that an intermediate result is being cached.\n",
      "815 ms ± 260 ms per loop (mean ± std. dev. of 50 runs, 1 loop each)\n"
     ]
    }
   ],
   "source": [
    "import multiprocessing as mp \n",
    "\n",
    "# Redefine, with only 1 mandatory argument. \n",
    "\n",
    "pool = mp.Pool(mp.cpu_count()) \n",
    "\n",
    "%timeit -r50 list(pool.apply_async(Winter, args=(i,)) for i in df['Month'])\n",
    "\n",
    "pool.close() "
   ]
  }
 ],
 "metadata": {
  "kernelspec": {
   "display_name": "Python 3 (ipykernel)",
   "language": "python",
   "name": "python3"
  },
  "language_info": {
   "codemirror_mode": {
    "name": "ipython",
    "version": 3
   },
   "file_extension": ".py",
   "mimetype": "text/x-python",
   "name": "python",
   "nbconvert_exporter": "python",
   "pygments_lexer": "ipython3",
   "version": "3.9.7"
  }
 },
 "nbformat": 4,
 "nbformat_minor": 5
}