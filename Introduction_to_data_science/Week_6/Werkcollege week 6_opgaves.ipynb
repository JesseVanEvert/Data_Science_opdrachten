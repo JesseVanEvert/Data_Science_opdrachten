{
 "cells": [
  {
   "cell_type": "markdown",
   "metadata": {},
   "source": [
    "### Zorg dat je deze opdrachten op de server kan maken!\n",
    "# 1. \n",
    "**Laad de data uit gapminder.csv in**"
   ]
  },
  {
   "cell_type": "code",
   "execution_count": 2,
   "metadata": {},
   "outputs": [],
   "source": [
    "import pandas as pd\n",
    "import numpy as np"
   ]
  },
  {
   "cell_type": "code",
   "execution_count": 3,
   "metadata": {},
   "outputs": [
    {
     "data": {
      "text/plain": "       country continent  year  lifeExp       pop   gdpPercap\n0  Afghanistan      Asia  1952   28.801   8425333  779.445314\n1  Afghanistan      Asia  1957   30.332   9240934  820.853030\n2  Afghanistan      Asia  1962   31.997  10267083  853.100710\n3  Afghanistan      Asia  1967   34.020  11537966  836.197138\n4  Afghanistan      Asia  1972   36.088  13079460  739.981106",
      "text/html": "<div>\n<style scoped>\n    .dataframe tbody tr th:only-of-type {\n        vertical-align: middle;\n    }\n\n    .dataframe tbody tr th {\n        vertical-align: top;\n    }\n\n    .dataframe thead th {\n        text-align: right;\n    }\n</style>\n<table border=\"1\" class=\"dataframe\">\n  <thead>\n    <tr style=\"text-align: right;\">\n      <th></th>\n      <th>country</th>\n      <th>continent</th>\n      <th>year</th>\n      <th>lifeExp</th>\n      <th>pop</th>\n      <th>gdpPercap</th>\n    </tr>\n  </thead>\n  <tbody>\n    <tr>\n      <th>0</th>\n      <td>Afghanistan</td>\n      <td>Asia</td>\n      <td>1952</td>\n      <td>28.801</td>\n      <td>8425333</td>\n      <td>779.445314</td>\n    </tr>\n    <tr>\n      <th>1</th>\n      <td>Afghanistan</td>\n      <td>Asia</td>\n      <td>1957</td>\n      <td>30.332</td>\n      <td>9240934</td>\n      <td>820.853030</td>\n    </tr>\n    <tr>\n      <th>2</th>\n      <td>Afghanistan</td>\n      <td>Asia</td>\n      <td>1962</td>\n      <td>31.997</td>\n      <td>10267083</td>\n      <td>853.100710</td>\n    </tr>\n    <tr>\n      <th>3</th>\n      <td>Afghanistan</td>\n      <td>Asia</td>\n      <td>1967</td>\n      <td>34.020</td>\n      <td>11537966</td>\n      <td>836.197138</td>\n    </tr>\n    <tr>\n      <th>4</th>\n      <td>Afghanistan</td>\n      <td>Asia</td>\n      <td>1972</td>\n      <td>36.088</td>\n      <td>13079460</td>\n      <td>739.981106</td>\n    </tr>\n  </tbody>\n</table>\n</div>"
     },
     "execution_count": 3,
     "metadata": {},
     "output_type": "execute_result"
    }
   ],
   "source": [
    "df = pd.read_csv('gapminder.csv')\n",
    "df.head()"
   ]
  },
  {
   "cell_type": "markdown",
   "metadata": {},
   "source": [
    "# 2. \n",
    "**Bereken voor de kolommen die numeriek zijn de som van deze kolommen**"
   ]
  },
  {
   "cell_type": "code",
   "execution_count": 6,
   "metadata": {},
   "outputs": [
    {
     "name": "stdout",
     "output_type": "stream",
     "text": [
      "year         3.373068e+06\n",
      "lifeExp      1.013444e+05\n",
      "pop          5.044047e+10\n",
      "gdpPercap    1.229492e+07\n",
      "dtype: float64\n"
     ]
    }
   ],
   "source": [
    "df_sum = df.sum(numeric_only = True)\n",
    "print(df_sum.head())"
   ]
  },
  {
   "cell_type": "markdown",
   "metadata": {},
   "source": [
    "# 3a. \n",
    "**Schrijf een eigen functie met de naam ModernAge. Deze moet “pre-historic” terug geven\n",
    "indien de input kleiner is dan 1980. Indien de waarde groter is dan 1980 “modern age”\n",
    "teruggeven.**"
   ]
  },
  {
   "cell_type": "code",
   "execution_count": 8,
   "metadata": {},
   "outputs": [],
   "source": [
    "def ModernAge(number) :\n",
    "    if number < 1980 :\n",
    "        return 'prehistoric'\n",
    "    else :\n",
    "        return 'modern age'"
   ]
  },
  {
   "cell_type": "markdown",
   "metadata": {},
   "source": [
    "# b. \n",
    "**Voer deze functie uit op de variabele year van de gapminder dataset.**"
   ]
  },
  {
   "cell_type": "code",
   "execution_count": 13,
   "metadata": {},
   "outputs": [
    {
     "name": "stdout",
     "output_type": "stream",
     "text": [
      "       country continent  year  lifeExp       pop   gdpPercap         age\n",
      "0  Afghanistan      Asia  1952   28.801   8425333  779.445314  modern age\n",
      "1  Afghanistan      Asia  1957   30.332   9240934  820.853030  modern age\n",
      "2  Afghanistan      Asia  1962   31.997  10267083  853.100710  modern age\n",
      "3  Afghanistan      Asia  1967   34.020  11537966  836.197138  modern age\n",
      "4  Afghanistan      Asia  1972   36.088  13079460  739.981106  modern age\n"
     ]
    }
   ],
   "source": [
    "for year in df['year'] :\n",
    "    df['age'] = ModernAge(year)\n",
    "\n",
    "print(df.head())"
   ]
  },
  {
   "cell_type": "markdown",
   "metadata": {},
   "source": [
    "# 4. \n",
    "**Maak een lineair regressie model op basis van de gapminder data. In het model moet de\n",
    "levensverwachting afhankelijk zijn van GDP.**\n",
    "\n",
    "via statsmodels:"
   ]
  },
  {
   "cell_type": "code",
   "execution_count": 14,
   "metadata": {},
   "outputs": [],
   "source": [
    "import statsmodels.api as sm"
   ]
  },
  {
   "cell_type": "code",
   "execution_count": 16,
   "metadata": {},
   "outputs": [
    {
     "name": "stdout",
     "output_type": "stream",
     "text": [
      "                            OLS Regression Results                            \n",
      "==============================================================================\n",
      "Dep. Variable:                lifeExp   R-squared:                       0.341\n",
      "Model:                            OLS   Adj. R-squared:                  0.340\n",
      "Method:                 Least Squares   F-statistic:                     879.6\n",
      "Date:                Wed, 23 Mar 2022   Prob (F-statistic):          3.57e-156\n",
      "Time:                        12:21:25   Log-Likelihood:                -6422.2\n",
      "No. Observations:                1704   AIC:                         1.285e+04\n",
      "Df Residuals:                    1702   BIC:                         1.286e+04\n",
      "Df Model:                           1                                         \n",
      "Covariance Type:            nonrobust                                         \n",
      "==============================================================================\n",
      "                 coef    std err          t      P>|t|      [0.025      0.975]\n",
      "------------------------------------------------------------------------------\n",
      "const         53.9556      0.315    171.290      0.000      53.338      54.573\n",
      "gdpPercap      0.0008   2.58e-05     29.658      0.000       0.001       0.001\n",
      "==============================================================================\n",
      "Omnibus:                      489.873   Durbin-Watson:                   0.364\n",
      "Prob(Omnibus):                  0.000   Jarque-Bera (JB):             2578.925\n",
      "Skew:                          -1.249   Prob(JB):                         0.00\n",
      "Kurtosis:                       8.485   Cond. No.                     1.51e+04\n",
      "==============================================================================\n",
      "\n",
      "Notes:\n",
      "[1] Standard Errors assume that the covariance matrix of the errors is correctly specified.\n",
      "[2] The condition number is large, 1.51e+04. This might indicate that there are\n",
      "strong multicollinearity or other numerical problems.\n"
     ]
    },
    {
     "name": "stderr",
     "output_type": "stream",
     "text": [
      "C:\\Users\\jesse\\anaconda3\\lib\\site-packages\\statsmodels\\tsa\\tsatools.py:142: FutureWarning: In a future version of pandas all arguments of concat except for the argument 'objs' will be keyword-only\n",
      "  x = pd.concat(x[::order], 1)\n"
     ]
    }
   ],
   "source": [
    "x = df['gdpPercap']\n",
    "y = df['lifeExp']\n",
    "\n",
    "x = sm.add_constant(x)\n",
    "\n",
    "model = sm.OLS(y, x).fit()\n",
    "\n",
    "prediction = model.predict(x)\n",
    "print_model = model.summary()\n",
    "print(print_model)"
   ]
  },
  {
   "cell_type": "markdown",
   "metadata": {},
   "source": [
    "# 5. \n",
    "**Pas nu hetzelfde model toe op elk land apart. Organiseer de resultaten in een net dataframe. ** <br>\n",
    "Tip: definieer eerst een aparte functie die het regressiemodel uitvoert en de resultaten terug geeft <br>\n",
    "Tip2: Pas deze toe op de verschillende landen middels een combinatie van groupby en apply"
   ]
  },
  {
   "cell_type": "code",
   "execution_count": 57,
   "metadata": {},
   "outputs": [],
   "source": [
    "def regressionFunction(df, x, y) :\n",
    "    x = df[x]\n",
    "    x = sm.add_constant(x)\n",
    "    y = df[y]\n",
    "    model = sm.OLS(y, x).fit()\n",
    "    prediction = model.params\n",
    "    return prediction"
   ]
  },
  {
   "cell_type": "code",
   "execution_count": 58,
   "metadata": {},
   "outputs": [
    {
     "name": "stderr",
     "output_type": "stream",
     "text": [
      "C:\\Users\\jesse\\anaconda3\\lib\\site-packages\\statsmodels\\tsa\\tsatools.py:142: FutureWarning: In a future version of pandas all arguments of concat except for the argument 'objs' will be keyword-only\n",
      "  x = pd.concat(x[::order], 1)\n"
     ]
    },
    {
     "name": "stdout",
     "output_type": "stream",
     "text": [
      "                 const  gdpPercap\n",
      "country                          \n",
      "Afghanistan  39.277201  -0.002240\n",
      "Albania      53.981907   0.004439\n",
      "Algeria      27.440225   0.007137\n",
      "Angola       41.614373  -0.001034\n",
      "Argentina    52.320078   0.001869\n"
     ]
    }
   ],
   "source": [
    "c = df.groupby('country').apply(regressionFunction, 'gdpPercap', 'lifeExp')\n",
    "print(c.head())"
   ]
  },
  {
   "cell_type": "markdown",
   "metadata": {},
   "source": [
    "# 6. \n",
    "**Haal ook de R2 per model uit de resultaten**"
   ]
  },
  {
   "cell_type": "code",
   "execution_count": 59,
   "metadata": {},
   "outputs": [],
   "source": [
    "def regressionFunction(df, x, y) :\n",
    "    x = df[x]\n",
    "    x = sm.add_constant(x)\n",
    "    y = df[y]\n",
    "    model = sm.OLS(y, x).fit()\n",
    "    prediction = model.rsquared\n",
    "    return prediction"
   ]
  },
  {
   "cell_type": "code",
   "execution_count": 60,
   "metadata": {},
   "outputs": [
    {
     "name": "stderr",
     "output_type": "stream",
     "text": [
      "C:\\Users\\jesse\\anaconda3\\lib\\site-packages\\statsmodels\\tsa\\tsatools.py:142: FutureWarning: In a future version of pandas all arguments of concat except for the argument 'objs' will be keyword-only\n",
      "  x = pd.concat(x[::order], 1)\n"
     ]
    },
    {
     "name": "stdout",
     "output_type": "stream",
     "text": [
      "country\n",
      "Afghanistan    0.002261\n",
      "Albania        0.700763\n",
      "Algeria        0.818068\n",
      "Angola         0.090649\n",
      "Argentina      0.691638\n",
      "dtype: float64\n"
     ]
    }
   ],
   "source": [
    "c = df.groupby('country').apply(regressionFunction, 'gdpPercap', 'lifeExp')\n",
    "print(c.head())"
   ]
  }
 ],
 "metadata": {
  "kernelspec": {
   "display_name": "Python 3 (ipykernel)",
   "language": "python",
   "name": "python3"
  },
  "language_info": {
   "codemirror_mode": {
    "name": "ipython",
    "version": 3
   },
   "file_extension": ".py",
   "mimetype": "text/x-python",
   "name": "python",
   "nbconvert_exporter": "python",
   "pygments_lexer": "ipython3",
   "version": "3.9.7"
  }
 },
 "nbformat": 4,
 "nbformat_minor": 2
}